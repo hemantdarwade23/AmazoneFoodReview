{
 "cells": [
  {
   "cell_type": "code",
   "execution_count": 1,
   "metadata": {},
   "outputs": [],
   "source": [
    "import warnings\n",
    "warnings.filterwarnings(\"ignore\")\n",
    "from sklearn.datasets import load_boston\n",
    "from random import seed\n",
    "from random import randrange\n",
    "from csv import reader\n",
    "from math import sqrt\n",
    "from sklearn import preprocessing\n",
    "import pandas as pd\n",
    "import numpy as np\n",
    "import matplotlib.pyplot as plt\n",
    "from prettytable import PrettyTable\n",
    "from sklearn.linear_model import SGDRegressor\n",
    "from sklearn import preprocessing\n",
    "from sklearn.metrics import mean_squared_error"
   ]
  },
  {
   "cell_type": "code",
   "execution_count": 2,
   "metadata": {},
   "outputs": [
    {
     "data": {
      "text/html": [
       "<div>\n",
       "<style scoped>\n",
       "    .dataframe tbody tr th:only-of-type {\n",
       "        vertical-align: middle;\n",
       "    }\n",
       "\n",
       "    .dataframe tbody tr th {\n",
       "        vertical-align: top;\n",
       "    }\n",
       "\n",
       "    .dataframe thead th {\n",
       "        text-align: right;\n",
       "    }\n",
       "</style>\n",
       "<table border=\"1\" class=\"dataframe\">\n",
       "  <thead>\n",
       "    <tr style=\"text-align: right;\">\n",
       "      <th></th>\n",
       "      <th>0</th>\n",
       "      <th>1</th>\n",
       "      <th>2</th>\n",
       "      <th>3</th>\n",
       "      <th>4</th>\n",
       "      <th>5</th>\n",
       "      <th>6</th>\n",
       "      <th>7</th>\n",
       "      <th>8</th>\n",
       "      <th>9</th>\n",
       "      <th>10</th>\n",
       "      <th>11</th>\n",
       "      <th>12</th>\n",
       "      <th>13</th>\n",
       "    </tr>\n",
       "  </thead>\n",
       "  <tbody>\n",
       "    <tr>\n",
       "      <th>0</th>\n",
       "      <td>0.00632</td>\n",
       "      <td>18.0</td>\n",
       "      <td>2.31</td>\n",
       "      <td>0.0</td>\n",
       "      <td>0.538</td>\n",
       "      <td>6.575</td>\n",
       "      <td>65.2</td>\n",
       "      <td>4.0900</td>\n",
       "      <td>1.0</td>\n",
       "      <td>296.0</td>\n",
       "      <td>15.3</td>\n",
       "      <td>396.90</td>\n",
       "      <td>4.98</td>\n",
       "      <td>3.0</td>\n",
       "    </tr>\n",
       "    <tr>\n",
       "      <th>1</th>\n",
       "      <td>0.02731</td>\n",
       "      <td>0.0</td>\n",
       "      <td>7.07</td>\n",
       "      <td>0.0</td>\n",
       "      <td>0.469</td>\n",
       "      <td>6.421</td>\n",
       "      <td>78.9</td>\n",
       "      <td>4.9671</td>\n",
       "      <td>2.0</td>\n",
       "      <td>242.0</td>\n",
       "      <td>17.8</td>\n",
       "      <td>396.90</td>\n",
       "      <td>9.14</td>\n",
       "      <td>1.0</td>\n",
       "    </tr>\n",
       "    <tr>\n",
       "      <th>2</th>\n",
       "      <td>0.02729</td>\n",
       "      <td>0.0</td>\n",
       "      <td>7.07</td>\n",
       "      <td>0.0</td>\n",
       "      <td>0.469</td>\n",
       "      <td>7.185</td>\n",
       "      <td>61.1</td>\n",
       "      <td>4.9671</td>\n",
       "      <td>2.0</td>\n",
       "      <td>242.0</td>\n",
       "      <td>17.8</td>\n",
       "      <td>392.83</td>\n",
       "      <td>4.03</td>\n",
       "      <td>4.0</td>\n",
       "    </tr>\n",
       "    <tr>\n",
       "      <th>3</th>\n",
       "      <td>0.03237</td>\n",
       "      <td>0.0</td>\n",
       "      <td>2.18</td>\n",
       "      <td>0.0</td>\n",
       "      <td>0.458</td>\n",
       "      <td>6.998</td>\n",
       "      <td>45.8</td>\n",
       "      <td>6.0622</td>\n",
       "      <td>3.0</td>\n",
       "      <td>222.0</td>\n",
       "      <td>18.7</td>\n",
       "      <td>394.63</td>\n",
       "      <td>2.94</td>\n",
       "      <td>6.0</td>\n",
       "    </tr>\n",
       "    <tr>\n",
       "      <th>4</th>\n",
       "      <td>0.06905</td>\n",
       "      <td>0.0</td>\n",
       "      <td>2.18</td>\n",
       "      <td>0.0</td>\n",
       "      <td>0.458</td>\n",
       "      <td>7.147</td>\n",
       "      <td>54.2</td>\n",
       "      <td>6.0622</td>\n",
       "      <td>3.0</td>\n",
       "      <td>222.0</td>\n",
       "      <td>18.7</td>\n",
       "      <td>396.90</td>\n",
       "      <td>5.33</td>\n",
       "      <td>3.0</td>\n",
       "    </tr>\n",
       "  </tbody>\n",
       "</table>\n",
       "</div>"
      ],
      "text/plain": [
       "        0     1     2    3      4      5     6       7    8      9     10  \\\n",
       "0  0.00632  18.0  2.31  0.0  0.538  6.575  65.2  4.0900  1.0  296.0  15.3   \n",
       "1  0.02731   0.0  7.07  0.0  0.469  6.421  78.9  4.9671  2.0  242.0  17.8   \n",
       "2  0.02729   0.0  7.07  0.0  0.469  7.185  61.1  4.9671  2.0  242.0  17.8   \n",
       "3  0.03237   0.0  2.18  0.0  0.458  6.998  45.8  6.0622  3.0  222.0  18.7   \n",
       "4  0.06905   0.0  2.18  0.0  0.458  7.147  54.2  6.0622  3.0  222.0  18.7   \n",
       "\n",
       "       11    12   13  \n",
       "0  396.90  4.98  3.0  \n",
       "1  396.90  9.14  1.0  \n",
       "2  392.83  4.03  4.0  \n",
       "3  394.63  2.94  6.0  \n",
       "4  396.90  5.33  3.0  "
      ]
     },
     "execution_count": 2,
     "metadata": {},
     "output_type": "execute_result"
    }
   ],
   "source": [
    "X = load_boston().data\n",
    "Y = load_boston().target\n",
    "df=pd.DataFrame(X)\n",
    "#some intuition\n",
    "df[13]=df[10]//df[12]  #here we set a column 13 such that df[13]=Boston_data['Medv']//Boston_data['B']\n",
    "X=df.as_matrix()\n",
    "df.head()"
   ]
  },
  {
   "cell_type": "code",
   "execution_count": 3,
   "metadata": {},
   "outputs": [
    {
     "data": {
      "text/html": [
       "<div>\n",
       "<style scoped>\n",
       "    .dataframe tbody tr th:only-of-type {\n",
       "        vertical-align: middle;\n",
       "    }\n",
       "\n",
       "    .dataframe tbody tr th {\n",
       "        vertical-align: top;\n",
       "    }\n",
       "\n",
       "    .dataframe thead th {\n",
       "        text-align: right;\n",
       "    }\n",
       "</style>\n",
       "<table border=\"1\" class=\"dataframe\">\n",
       "  <thead>\n",
       "    <tr style=\"text-align: right;\">\n",
       "      <th></th>\n",
       "      <th>0</th>\n",
       "      <th>1</th>\n",
       "      <th>2</th>\n",
       "      <th>3</th>\n",
       "      <th>4</th>\n",
       "      <th>5</th>\n",
       "      <th>6</th>\n",
       "      <th>7</th>\n",
       "      <th>8</th>\n",
       "      <th>9</th>\n",
       "      <th>10</th>\n",
       "      <th>11</th>\n",
       "      <th>12</th>\n",
       "      <th>13</th>\n",
       "      <th>price</th>\n",
       "    </tr>\n",
       "  </thead>\n",
       "  <tbody>\n",
       "    <tr>\n",
       "      <th>0</th>\n",
       "      <td>-0.425469</td>\n",
       "      <td>-0.470768</td>\n",
       "      <td>-0.954686</td>\n",
       "      <td>-0.231455</td>\n",
       "      <td>-0.919581</td>\n",
       "      <td>0.215100</td>\n",
       "      <td>-0.747410</td>\n",
       "      <td>0.454022</td>\n",
       "      <td>-0.764468</td>\n",
       "      <td>-0.976012</td>\n",
       "      <td>0.005460</td>\n",
       "      <td>0.441889</td>\n",
       "      <td>-0.444819</td>\n",
       "      <td>-0.354084</td>\n",
       "      <td>23.9</td>\n",
       "    </tr>\n",
       "    <tr>\n",
       "      <th>1</th>\n",
       "      <td>-0.426323</td>\n",
       "      <td>2.992576</td>\n",
       "      <td>-1.330157</td>\n",
       "      <td>-0.231455</td>\n",
       "      <td>-1.227311</td>\n",
       "      <td>-0.883652</td>\n",
       "      <td>-1.691588</td>\n",
       "      <td>3.163428</td>\n",
       "      <td>-0.651568</td>\n",
       "      <td>-0.464548</td>\n",
       "      <td>1.616046</td>\n",
       "      <td>0.287498</td>\n",
       "      <td>-0.666438</td>\n",
       "      <td>0.444297</td>\n",
       "      <td>18.2</td>\n",
       "    </tr>\n",
       "    <tr>\n",
       "      <th>2</th>\n",
       "      <td>-0.385190</td>\n",
       "      <td>-0.470768</td>\n",
       "      <td>-0.705828</td>\n",
       "      <td>4.320494</td>\n",
       "      <td>-0.423795</td>\n",
       "      <td>-0.125423</td>\n",
       "      <td>0.818985</td>\n",
       "      <td>-0.353904</td>\n",
       "      <td>-0.199967</td>\n",
       "      <td>-0.623278</td>\n",
       "      <td>-0.500725</td>\n",
       "      <td>0.423713</td>\n",
       "      <td>1.226505</td>\n",
       "      <td>-1.152466</td>\n",
       "      <td>21.7</td>\n",
       "    </tr>\n",
       "    <tr>\n",
       "      <th>3</th>\n",
       "      <td>-0.249268</td>\n",
       "      <td>-0.470768</td>\n",
       "      <td>-0.423497</td>\n",
       "      <td>-0.231455</td>\n",
       "      <td>-0.158805</td>\n",
       "      <td>-0.228336</td>\n",
       "      <td>1.021567</td>\n",
       "      <td>-0.021755</td>\n",
       "      <td>-0.651568</td>\n",
       "      <td>-0.623278</td>\n",
       "      <td>1.155878</td>\n",
       "      <td>-1.185126</td>\n",
       "      <td>1.068407</td>\n",
       "      <td>-0.354084</td>\n",
       "      <td>13.5</td>\n",
       "    </tr>\n",
       "    <tr>\n",
       "      <th>4</th>\n",
       "      <td>-0.365945</td>\n",
       "      <td>0.395068</td>\n",
       "      <td>-1.030363</td>\n",
       "      <td>-0.231455</td>\n",
       "      <td>0.157472</td>\n",
       "      <td>3.102729</td>\n",
       "      <td>-0.060078</td>\n",
       "      <td>-0.646202</td>\n",
       "      <td>-0.538668</td>\n",
       "      <td>-0.876071</td>\n",
       "      <td>-2.525462</td>\n",
       "      <td>0.306551</td>\n",
       "      <td>-0.752545</td>\n",
       "      <td>-0.354084</td>\n",
       "      <td>50.0</td>\n",
       "    </tr>\n",
       "  </tbody>\n",
       "</table>\n",
       "</div>"
      ],
      "text/plain": [
       "          0         1         2         3         4         5         6  \\\n",
       "0 -0.425469 -0.470768 -0.954686 -0.231455 -0.919581  0.215100 -0.747410   \n",
       "1 -0.426323  2.992576 -1.330157 -0.231455 -1.227311 -0.883652 -1.691588   \n",
       "2 -0.385190 -0.470768 -0.705828  4.320494 -0.423795 -0.125423  0.818985   \n",
       "3 -0.249268 -0.470768 -0.423497 -0.231455 -0.158805 -0.228336  1.021567   \n",
       "4 -0.365945  0.395068 -1.030363 -0.231455  0.157472  3.102729 -0.060078   \n",
       "\n",
       "          7         8         9        10        11        12        13  price  \n",
       "0  0.454022 -0.764468 -0.976012  0.005460  0.441889 -0.444819 -0.354084   23.9  \n",
       "1  3.163428 -0.651568 -0.464548  1.616046  0.287498 -0.666438  0.444297   18.2  \n",
       "2 -0.353904 -0.199967 -0.623278 -0.500725  0.423713  1.226505 -1.152466   21.7  \n",
       "3 -0.021755 -0.651568 -0.623278  1.155878 -1.185126  1.068407 -0.354084   13.5  \n",
       "4 -0.646202 -0.538668 -0.876071 -2.525462  0.306551 -0.752545 -0.354084   50.0  "
      ]
     },
     "execution_count": 3,
     "metadata": {},
     "output_type": "execute_result"
    }
   ],
   "source": [
    "#Splitting whole data into train and test\n",
    "from sklearn.model_selection  import train_test_split\n",
    "X_train, X_test, y_train, y_test=train_test_split(X, Y, test_size=0.3, random_state=4)\n",
    "\n",
    "# applying column standardization on train and test data\n",
    "\n",
    "scaler = preprocessing.StandardScaler()\n",
    "X_train = scaler.fit_transform(X_train)\n",
    "X_test=scaler.transform(X_test)\n",
    "\n",
    "df_train=pd.DataFrame(X_train)\n",
    "df_train['price']=y_train\n",
    "df_train.head()"
   ]
  },
  {
   "cell_type": "code",
   "execution_count": 4,
   "metadata": {},
   "outputs": [
    {
     "name": "stdout",
     "output_type": "stream",
     "text": [
      "[[-1.27290222  0.53695967 -0.66141371  0.92096371 -1.4356316   1.63632589\n",
      "   0.26658427 -2.81929856  2.14914024 -0.92267911 -2.14815104  0.99957679\n",
      "  -1.97622219  2.66317572]]\n",
      "[22.27101495]\n"
     ]
    }
   ],
   "source": [
    "#SGD implementation for linear regression\n",
    "#function having parameter X_train,y_train,no of iteration,learning rate r\n",
    "#intialising no of iteration=100,learning rate =0.01\n",
    "#batch size=20\n",
    "\n",
    "\n",
    "\n",
    "W,B,iteration,lr_rate,k=np.zeros(shape=(1,14)),0,750,0.01,25 #intialise W and B to zero\n",
    "\n",
    "while iteration>=0:\n",
    "    w,b,temp_vectors,temp_intercept=W,B,np.zeros(shape=(1,14)),0\n",
    "    data=df_train.sample(25) #sampling random k=batch size=20 data\n",
    "    x=np.array(data.drop('price',axis=1))\n",
    "    y=np.array(data['price'])\n",
    "    \n",
    "    for i in range(k):\n",
    "        temp_vectors+=(-2)*x[i]*(y[i]-(np.dot(w,x[i])+b))#partial differentiation wrt w dl/dw=1/k(-2x)*(y-wTx-b)\n",
    "        temp_intercept+=(-2)*(y[i]-(np.dot(w,x[i])+b))#partial differentiation wrt b dl/db=1/k(-2)*(y-wTx-b)\n",
    "        \n",
    "    W=(w-lr_rate*(temp_vectors)/k)\n",
    "    B=(b-lr_rate*(temp_intercept)/k)\n",
    "    \n",
    "    iteration-=1\n",
    "    \n",
    "    \n",
    "print(W)\n",
    "print(B)"
   ]
  },
  {
   "cell_type": "code",
   "execution_count": 5,
   "metadata": {},
   "outputs": [],
   "source": [
    "#prediction on x_test\n",
    "#https://www.geeksforgeeks.org/numpy-asscalar-in-python/\n",
    "y_predic_lr=[]\n",
    "for i in range(len(X_test)):\n",
    "    val=np.dot(W,X_test[i])+B  #val= wTx+b\n",
    "    y_predic_lr.append(np.asscalar(val))"
   ]
  },
  {
   "cell_type": "code",
   "execution_count": 6,
   "metadata": {},
   "outputs": [
    {
     "data": {
      "image/png": "[encoded data removed]",
      "text/plain": [
       "<Figure size 432x288 with 1 Axes>"
      ]
     },
     "metadata": {
      "needs_background": "light"
     },
     "output_type": "display_data"
    }
   ],
   "source": [
    "#Scatter plot of actual price vs predicted price\n",
    "\n",
    "plt.scatter(y_test,y_predic_lr)\n",
    "plt.xlabel('Actual price')\n",
    "plt.ylabel('Predictd price')\n",
    "plt.title('Actual price vs Predicted price')\n",
    "plt.show()"
   ]
  },
  {
   "cell_type": "code",
   "execution_count": 7,
   "metadata": {},
   "outputs": [
    {
     "name": "stdout",
     "output_type": "stream",
     "text": [
      "mean squared error = 24.258404283487806\n"
     ]
    }
   ],
   "source": [
    "MSE_lr=mean_squared_error(y_test,y_predic_lr)\n",
    "print('mean squared error =',MSE_lr)"
   ]
  },
  {
   "cell_type": "code",
   "execution_count": 10,
   "metadata": {},
   "outputs": [
    {
     "data": {
      "image/png": "[encoded data removed]",
      "text/plain": [
       "<Figure size 432x288 with 1 Axes>"
      ]
     },
     "metadata": {
      "needs_background": "light"
     },
     "output_type": "display_data"
    }
   ],
   "source": [
    "#SGD regression sklearn implementation\n",
    "\n",
    "#intialising no of iteration=100,eta0=1\n",
    "#taking t=2 and power_t=1 such that for each iteration eta0=eta0/pow(2,1) ,it means half each times\n",
    "\n",
    "model=SGDRegressor(learning_rate='constant',eta0=0.01,penalty=None,max_iter=100)\n",
    "model.fit(X_train,y_train)\n",
    "y_pred_sgd=model.predict(X_test)\n",
    "\n",
    "#Scatter plot of actual price vs predicted price\n",
    "\n",
    "plt.scatter(y_test,y_pred_sgd)\n",
    "plt.xlabel('Actual price')\n",
    "plt.ylabel('Predictd price')\n",
    "plt.title('Actual price vs Predicted price')\n",
    "plt.show()"
   ]
  },
  {
   "cell_type": "code",
   "execution_count": 11,
   "metadata": {},
   "outputs": [
    {
     "name": "stdout",
     "output_type": "stream",
     "text": [
      "mean squared error = 24.834732966390735\n"
     ]
    }
   ],
   "source": [
    "MSE_sgd=mean_squared_error(y_test,y_pred_sgd)\n",
    "print('mean squared error =',MSE_sgd)"
   ]
  },
  {
   "cell_type": "code",
   "execution_count": 12,
   "metadata": {},
   "outputs": [
    {
     "name": "stdout",
     "output_type": "stream",
     "text": [
      "+----------------------+---------------------------+\n",
      "| Weight vector manual | Weight vector SGD sklearn |\n",
      "+----------------------+---------------------------+\n",
      "| -1.2729022153064808  |    -1.7383713107960062    |\n",
      "|  0.5369596698100564  |     0.9455387554214926    |\n",
      "| -0.6614137122022188  |    -0.41331803536355016   |\n",
      "|  0.9209637069264854  |     0.9017778913579981    |\n",
      "| -1.4356315991605868  |    -1.6015520405581498    |\n",
      "|  1.6363258899143136  |     1.048928088760244     |\n",
      "|  0.2665842712625248  |    0.08704812372570098    |\n",
      "|  -2.819298559451317  |    -3.0231576999056533    |\n",
      "|  2.1491402371476007  |      2.61590860443553     |\n",
      "| -0.9226791124626965  |    -1.6275359256507602    |\n",
      "|  -2.148151040199819  |    -2.1822133327621853    |\n",
      "|  0.9995767929920171  |     0.7908475151392433    |\n",
      "| -1.9762221899180858  |    -1.8902500986675943    |\n",
      "+----------------------+---------------------------+\n"
     ]
    }
   ],
   "source": [
    "#Comparison between weights obtained from own implementation and weights obtained from sgd implementation\n",
    "from prettytable import PrettyTable    \n",
    "x = PrettyTable()\n",
    "x.field_names=['Weight vector manual','Weight vector SGD sklearn']\n",
    "weight_sgd=model.coef_\n",
    "for i in range(13):\n",
    "    x.add_row([W[0][i],weight_sgd[i]])\n",
    "print(x)"
   ]
  },
  {
   "cell_type": "code",
   "execution_count": 13,
   "metadata": {},
   "outputs": [
    {
     "name": "stdout",
     "output_type": "stream",
     "text": [
      "MSE of manual implementation =  24.258404283487806\n",
      "--------------------------------------------------\n",
      "MSE of SGD sklearn implementation =  24.834732966390735\n"
     ]
    }
   ],
   "source": [
    "#comparison between MSE of own implementation and SGD sklearn implementation\n",
    "print('MSE of manual implementation = ',MSE_lr)\n",
    "print('-'*50)\n",
    "print('MSE of SGD sklearn implementation = ',MSE_sgd)"
   ]
  },
  {
   "cell_type": "code",
   "execution_count": null,
   "metadata": {},
   "outputs": [],
   "source": []
  }
 ],
 "metadata": {
  "kernelspec": {
   "display_name": "Python 3",
   "language": "python",
   "name": "python3"
  },
  "language_info": {
   "codemirror_mode": {
    "name": "ipython",
    "version": 3
   },
   "file_extension": ".py",
   "mimetype": "text/x-python",
   "name": "python",
   "nbconvert_exporter": "python",
   "pygments_lexer": "ipython3",
   "version": "3.7.3"
  }
 },
 "nbformat": 4,
 "nbformat_minor": 2
}
