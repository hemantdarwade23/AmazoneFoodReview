{
 "cells": [
  {
   "cell_type": "code",
   "execution_count": 1,
   "metadata": {
    "colab": {},
    "colab_type": "code",
    "id": "vXnuoQYEMQvO"
   },
   "outputs": [
    {
     "name": "stderr",
     "output_type": "stream",
     "text": [
      "C:\\Users\\hemant\\Anaconda\\lib\\site-packages\\sklearn\\cross_validation.py:41: DeprecationWarning: This module was deprecated in version 0.18 in favor of the model_selection module into which all the refactored classes and functions are moved. Also note that the interface of the new CV iterators are different from that of this module. This module will be removed in 0.20.\n",
      "  \"This module will be removed in 0.20.\", DeprecationWarning)\n",
      "C:\\Users\\hemant\\Anaconda\\lib\\site-packages\\gensim\\utils.py:1209: UserWarning: detected Windows; aliasing chunkize to chunkize_serial\n",
      "  warnings.warn(\"detected Windows; aliasing chunkize to chunkize_serial\")\n"
     ]
    }
   ],
   "source": [
    "# Exercise Apply k-NN on Amazon reviews dataset\n",
    "\n",
    "%matplotlib inline\n",
    "import warnings\n",
    "warnings.filterwarnings(\"ignore\")\n",
    "\n",
    "import sqlite3\n",
    "import pandas as pd\n",
    "import numpy as np\n",
    "import nltk\n",
    "import string\n",
    "import matplotlib.pyplot as plt\n",
    "import seaborn as sns\n",
    "import scikitplot.metrics as skplt\n",
    "from sklearn.feature_extraction.text import TfidfTransformer\n",
    "from sklearn.feature_extraction.text import TfidfVectorizer\n",
    "\n",
    "from sklearn.feature_extraction.text import CountVectorizer\n",
    "from sklearn.metrics import confusion_matrix\n",
    "from sklearn import metrics\n",
    "from sklearn.metrics import roc_curve, auc\n",
    "from nltk.stem.porter import PorterStemmer\n",
    "\n",
    "from sklearn.cross_validation import train_test_split\n",
    "from sklearn.neighbors import KNeighborsClassifier\n",
    "from sklearn.metrics import accuracy_score\n",
    "from sklearn.cross_validation import cross_val_score\n",
    "\n",
    "from sklearn.decomposition import TruncatedSVD\n",
    "from sklearn.preprocessing import StandardScaler\n",
    "\n",
    "\n",
    "from collections import Counter\n",
    "from sklearn.metrics import accuracy_score\n",
    "from sklearn import cross_validation\n",
    "\n",
    "\n",
    "import re\n",
    "# Tutorial about Python regular expressions: https://pymotw.com/2/re/\n",
    "import string\n",
    "from nltk.corpus import stopwords\n",
    "from nltk.stem import PorterStemmer\n",
    "from nltk.stem.wordnet import WordNetLemmatizer\n",
    "\n",
    "from gensim.models import Word2Vec\n",
    "from gensim.models import KeyedVectors\n",
    "import pickle\n",
    "\n",
    "from tqdm import tqdm\n",
    "import os"
   ]
  },
  {
   "cell_type": "code",
   "execution_count": 3,
   "metadata": {
    "colab": {},
    "colab_type": "code",
    "id": "-lrJx9N9MQvT"
   },
   "outputs": [
    {
     "name": "stdout",
     "output_type": "stream",
     "text": [
      "Number of data points in our data (525814, 10)\n"
     ]
    },
    {
     "data": {
      "text/html": [
       "<div>\n",
       "<style scoped>\n",
       "    .dataframe tbody tr th:only-of-type {\n",
       "        vertical-align: middle;\n",
       "    }\n",
       "\n",
       "    .dataframe tbody tr th {\n",
       "        vertical-align: top;\n",
       "    }\n",
       "\n",
       "    .dataframe thead th {\n",
       "        text-align: right;\n",
       "    }\n",
       "</style>\n",
       "<table border=\"1\" class=\"dataframe\">\n",
       "  <thead>\n",
       "    <tr style=\"text-align: right;\">\n",
       "      <th></th>\n",
       "      <th>Id</th>\n",
       "      <th>ProductId</th>\n",
       "      <th>UserId</th>\n",
       "      <th>ProfileName</th>\n",
       "      <th>HelpfulnessNumerator</th>\n",
       "      <th>HelpfulnessDenominator</th>\n",
       "      <th>Score</th>\n",
       "      <th>Time</th>\n",
       "      <th>Summary</th>\n",
       "      <th>Text</th>\n",
       "    </tr>\n",
       "  </thead>\n",
       "  <tbody>\n",
       "    <tr>\n",
       "      <th>0</th>\n",
       "      <td>1</td>\n",
       "      <td>B001E4KFG0</td>\n",
       "      <td>A3SGXH7AUHU8GW</td>\n",
       "      <td>delmartian</td>\n",
       "      <td>1</td>\n",
       "      <td>1</td>\n",
       "      <td>1</td>\n",
       "      <td>1303862400</td>\n",
       "      <td>good</td>\n",
       "      <td>I have bought several of the Vitality canned d...</td>\n",
       "    </tr>\n",
       "    <tr>\n",
       "      <th>1</th>\n",
       "      <td>2</td>\n",
       "      <td>B00813GRG4</td>\n",
       "      <td>A1D87F6ZCVE5NK</td>\n",
       "      <td>dll pa</td>\n",
       "      <td>0</td>\n",
       "      <td>0</td>\n",
       "      <td>0</td>\n",
       "      <td>1346976000</td>\n",
       "      <td>Not as Advertised</td>\n",
       "      <td>Product arrived labeled as Jumbo Salted Peanut...</td>\n",
       "    </tr>\n",
       "    <tr>\n",
       "      <th>2</th>\n",
       "      <td>3</td>\n",
       "      <td>B000LQOCH0</td>\n",
       "      <td>ABXLMWJIXXAIN</td>\n",
       "      <td>Natalia Corres \"Natalia Corres\"</td>\n",
       "      <td>1</td>\n",
       "      <td>1</td>\n",
       "      <td>1</td>\n",
       "      <td>1219017600</td>\n",
       "      <td>\"Delight\" says it all</td>\n",
       "      <td>This is a confection that has been around a fe...</td>\n",
       "    </tr>\n",
       "  </tbody>\n",
       "</table>\n",
       "</div>"
      ],
      "text/plain": [
       "   Id   ProductId          UserId                      ProfileName  \\\n",
       "0   1  B001E4KFG0  A3SGXH7AUHU8GW                       delmartian   \n",
       "1   2  B00813GRG4  A1D87F6ZCVE5NK                           dll pa   \n",
       "2   3  B000LQOCH0   ABXLMWJIXXAIN  Natalia Corres \"Natalia Corres\"   \n",
       "\n",
       "   HelpfulnessNumerator  HelpfulnessDenominator  Score        Time  \\\n",
       "0                     1                       1      1  1303862400   \n",
       "1                     0                       0      0  1346976000   \n",
       "2                     1                       1      1  1219017600   \n",
       "\n",
       "                 Summary                                               Text  \n",
       "0                   good  I have bought several of the Vitality canned d...  \n",
       "1      Not as Advertised  Product arrived labeled as Jumbo Salted Peanut...  \n",
       "2  \"Delight\" says it all  This is a confection that has been around a fe...  "
      ]
     },
     "execution_count": 3,
     "metadata": {},
     "output_type": "execute_result"
    }
   ],
   "source": [
    "\n",
    "# using the SQLite Table to read data.\n",
    "con = sqlite3.connect(r'G:\\machine_learning\\Real_world_problem_Predict_rating_given_product_reviews_on_Amazon\\amazon\\database1.sqlite')\n",
    " \n",
    "#filtering only positive and negative reviews i.e. \n",
    "# not taking into consideration those reviews with Score=3\n",
    "filtered_data = pd.read_sql_query(\"\"\" SELECT * FROM Reviews WHERE Score != 3 \"\"\", con) \n",
    "\n",
    "\n",
    "# Give reviews with Score>3 a positive rating, and reviews with a score<3 a negative rating.\n",
    "def partition(x):\n",
    "    if x < 3:\n",
    "        return 0\n",
    "    return 1\n",
    "\n",
    "#changing reviews with score less than 3 to be positive and vice-versa\n",
    "actualScore = filtered_data['Score']\n",
    "positiveNegative = actualScore.map(partition) \n",
    "filtered_data['Score'] = positiveNegative\n",
    "print(\"Number of data points in our data\", filtered_data.shape)\n",
    "filtered_data.head(3)"
   ]
  },
  {
   "cell_type": "markdown",
   "metadata": {
    "colab_type": "text",
    "id": "CF7NMcGnMQvX"
   },
   "source": [
    "#  Exploratory Data Analysis\n",
    "\n",
    "## [7.1.2] Data Cleaning: Deduplication\n",
    "\n",
    "It is observed (as shown in the table below) that the reviews data had many duplicate entries. Hence it was necessary to remove duplicates in order to get unbiased results for the analysis of the data.  Following is an example:"
   ]
  },
  {
   "cell_type": "code",
   "execution_count": 4,
   "metadata": {
    "colab": {},
    "colab_type": "code",
    "id": "_G5KBj5FMQvY",
    "scrolled": false
   },
   "outputs": [
    {
     "data": {
      "text/html": [
       "<div>\n",
       "<style scoped>\n",
       "    .dataframe tbody tr th:only-of-type {\n",
       "        vertical-align: middle;\n",
       "    }\n",
       "\n",
       "    .dataframe tbody tr th {\n",
       "        vertical-align: top;\n",
       "    }\n",
       "\n",
       "    .dataframe thead th {\n",
       "        text-align: right;\n",
       "    }\n",
       "</style>\n",
       "<table border=\"1\" class=\"dataframe\">\n",
       "  <thead>\n",
       "    <tr style=\"text-align: right;\">\n",
       "      <th></th>\n",
       "      <th>Id</th>\n",
       "      <th>ProductId</th>\n",
       "      <th>UserId</th>\n",
       "      <th>ProfileName</th>\n",
       "      <th>HelpfulnessNumerator</th>\n",
       "      <th>HelpfulnessDenominator</th>\n",
       "      <th>Score</th>\n",
       "      <th>Time</th>\n",
       "      <th>Summary</th>\n",
       "      <th>Text</th>\n",
       "    </tr>\n",
       "  </thead>\n",
       "  <tbody>\n",
       "    <tr>\n",
       "      <th>0</th>\n",
       "      <td>78445</td>\n",
       "      <td>B000HDL1RQ</td>\n",
       "      <td>AR5J8UI46CURR</td>\n",
       "      <td>Geetha Krishnan</td>\n",
       "      <td>2</td>\n",
       "      <td>2</td>\n",
       "      <td>5</td>\n",
       "      <td>1199577600</td>\n",
       "      <td>LOACKER QUADRATINI VANILLA WAFERS</td>\n",
       "      <td>DELICIOUS WAFERS. I FIND THAT EUROPEAN WAFERS ...</td>\n",
       "    </tr>\n",
       "    <tr>\n",
       "      <th>1</th>\n",
       "      <td>138317</td>\n",
       "      <td>B000HDOPYC</td>\n",
       "      <td>AR5J8UI46CURR</td>\n",
       "      <td>Geetha Krishnan</td>\n",
       "      <td>2</td>\n",
       "      <td>2</td>\n",
       "      <td>5</td>\n",
       "      <td>1199577600</td>\n",
       "      <td>LOACKER QUADRATINI VANILLA WAFERS</td>\n",
       "      <td>DELICIOUS WAFERS. I FIND THAT EUROPEAN WAFERS ...</td>\n",
       "    </tr>\n",
       "    <tr>\n",
       "      <th>2</th>\n",
       "      <td>138277</td>\n",
       "      <td>B000HDOPYM</td>\n",
       "      <td>AR5J8UI46CURR</td>\n",
       "      <td>Geetha Krishnan</td>\n",
       "      <td>2</td>\n",
       "      <td>2</td>\n",
       "      <td>5</td>\n",
       "      <td>1199577600</td>\n",
       "      <td>LOACKER QUADRATINI VANILLA WAFERS</td>\n",
       "      <td>DELICIOUS WAFERS. I FIND THAT EUROPEAN WAFERS ...</td>\n",
       "    </tr>\n",
       "    <tr>\n",
       "      <th>3</th>\n",
       "      <td>73791</td>\n",
       "      <td>B000HDOPZG</td>\n",
       "      <td>AR5J8UI46CURR</td>\n",
       "      <td>Geetha Krishnan</td>\n",
       "      <td>2</td>\n",
       "      <td>2</td>\n",
       "      <td>5</td>\n",
       "      <td>1199577600</td>\n",
       "      <td>LOACKER QUADRATINI VANILLA WAFERS</td>\n",
       "      <td>DELICIOUS WAFERS. I FIND THAT EUROPEAN WAFERS ...</td>\n",
       "    </tr>\n",
       "    <tr>\n",
       "      <th>4</th>\n",
       "      <td>155049</td>\n",
       "      <td>B000PAQ75C</td>\n",
       "      <td>AR5J8UI46CURR</td>\n",
       "      <td>Geetha Krishnan</td>\n",
       "      <td>2</td>\n",
       "      <td>2</td>\n",
       "      <td>5</td>\n",
       "      <td>1199577600</td>\n",
       "      <td>LOACKER QUADRATINI VANILLA WAFERS</td>\n",
       "      <td>DELICIOUS WAFERS. I FIND THAT EUROPEAN WAFERS ...</td>\n",
       "    </tr>\n",
       "  </tbody>\n",
       "</table>\n",
       "</div>"
      ],
      "text/plain": [
       "       Id   ProductId         UserId      ProfileName  HelpfulnessNumerator  \\\n",
       "0   78445  B000HDL1RQ  AR5J8UI46CURR  Geetha Krishnan                     2   \n",
       "1  138317  B000HDOPYC  AR5J8UI46CURR  Geetha Krishnan                     2   \n",
       "2  138277  B000HDOPYM  AR5J8UI46CURR  Geetha Krishnan                     2   \n",
       "3   73791  B000HDOPZG  AR5J8UI46CURR  Geetha Krishnan                     2   \n",
       "4  155049  B000PAQ75C  AR5J8UI46CURR  Geetha Krishnan                     2   \n",
       "\n",
       "   HelpfulnessDenominator  Score        Time  \\\n",
       "0                       2      5  1199577600   \n",
       "1                       2      5  1199577600   \n",
       "2                       2      5  1199577600   \n",
       "3                       2      5  1199577600   \n",
       "4                       2      5  1199577600   \n",
       "\n",
       "                             Summary  \\\n",
       "0  LOACKER QUADRATINI VANILLA WAFERS   \n",
       "1  LOACKER QUADRATINI VANILLA WAFERS   \n",
       "2  LOACKER QUADRATINI VANILLA WAFERS   \n",
       "3  LOACKER QUADRATINI VANILLA WAFERS   \n",
       "4  LOACKER QUADRATINI VANILLA WAFERS   \n",
       "\n",
       "                                                Text  \n",
       "0  DELICIOUS WAFERS. I FIND THAT EUROPEAN WAFERS ...  \n",
       "1  DELICIOUS WAFERS. I FIND THAT EUROPEAN WAFERS ...  \n",
       "2  DELICIOUS WAFERS. I FIND THAT EUROPEAN WAFERS ...  \n",
       "3  DELICIOUS WAFERS. I FIND THAT EUROPEAN WAFERS ...  \n",
       "4  DELICIOUS WAFERS. I FIND THAT EUROPEAN WAFERS ...  "
      ]
     },
     "execution_count": 4,
     "metadata": {},
     "output_type": "execute_result"
    }
   ],
   "source": [
    "display= pd.read_sql_query(\"\"\"\n",
    "SELECT *\n",
    "FROM Reviews\n",
    "WHERE Score != 3 AND UserId=\"AR5J8UI46CURR\"\n",
    "ORDER BY ProductID\n",
    "\"\"\", con)\n",
    "display.head()"
   ]
  },
  {
   "cell_type": "markdown",
   "metadata": {
    "colab_type": "text",
    "id": "95Aa3bAYMQvb"
   },
   "source": [
    "As can be seen above the same user has multiple reviews of the with the same values for HelpfulnessNumerator, HelpfulnessDenominator, Score, Time, Summary and Text  and on doing analysis it was found that <br>\n",
    "<br> \n",
    "ProductId=B000HDOPZG was Loacker Quadratini Vanilla Wafer Cookies, 8.82-Ounce Packages (Pack of 8)<br>\n",
    "<br> \n",
    "ProductId=B000HDL1RQ was Loacker Quadratini Lemon Wafer Cookies, 8.82-Ounce Packages (Pack of 8) and so on<br>\n",
    "\n",
    "It was inferred after analysis that reviews with same parameters other than ProductId belonged to the same product just having different flavour or quantity. Hence in order to reduce redundancy it was decided to eliminate the rows having same parameters.<br>\n",
    "\n",
    "The method used for the same was that we first sort the data according to ProductId and then just keep the first similar product review and delelte the others. for eg. in the above just the review for ProductId=B000HDL1RQ remains. This method ensures that there is only one representative for each product and deduplication without sorting would lead to possibility of different representatives still existing for the same product."
   ]
  },
  {
   "cell_type": "code",
   "execution_count": 5,
   "metadata": {
    "colab": {},
    "colab_type": "code",
    "id": "0wUj2BDzMQvc"
   },
   "outputs": [],
   "source": [
    "#Sorting data according to ProductId in ascending order\n",
    "sorted_data=filtered_data.sort_values('ProductId', axis=0, ascending=True, inplace=False, kind='quicksort', na_position='last')"
   ]
  },
  {
   "cell_type": "code",
   "execution_count": 6,
   "metadata": {
    "colab": {},
    "colab_type": "code",
    "id": "hYd69x4KMQve"
   },
   "outputs": [
    {
     "data": {
      "text/plain": [
       "(364173, 10)"
      ]
     },
     "execution_count": 6,
     "metadata": {},
     "output_type": "execute_result"
    }
   ],
   "source": [
    "#Deduplication of entries\n",
    "final=sorted_data.drop_duplicates(subset={\"UserId\",\"ProfileName\",\"Time\",\"Text\"}, keep='first', inplace=False)\n",
    "final.shape"
   ]
  },
  {
   "cell_type": "code",
   "execution_count": 7,
   "metadata": {
    "colab": {},
    "colab_type": "code",
    "id": "_UVH2UNwMQvi"
   },
   "outputs": [
    {
     "data": {
      "text/plain": [
       "69.25890143662969"
      ]
     },
     "execution_count": 7,
     "metadata": {},
     "output_type": "execute_result"
    }
   ],
   "source": [
    "#Checking to see how much % of data still remains\n",
    "(final['Id'].size*1.0)/(filtered_data['Id'].size*1.0)*100"
   ]
  },
  {
   "cell_type": "markdown",
   "metadata": {
    "colab_type": "text",
    "id": "GeOy9IcuMQvk"
   },
   "source": [
    "<b>Observation:-</b> It was also seen that in two rows given below the value of HelpfulnessNumerator is greater than HelpfulnessDenominator which is not practically possible hence these two rows too are removed from calcualtions"
   ]
  },
  {
   "cell_type": "code",
   "execution_count": 8,
   "metadata": {
    "colab": {},
    "colab_type": "code",
    "id": "EDD5FsuGMQvm"
   },
   "outputs": [
    {
     "data": {
      "text/html": [
       "<div>\n",
       "<style scoped>\n",
       "    .dataframe tbody tr th:only-of-type {\n",
       "        vertical-align: middle;\n",
       "    }\n",
       "\n",
       "    .dataframe tbody tr th {\n",
       "        vertical-align: top;\n",
       "    }\n",
       "\n",
       "    .dataframe thead th {\n",
       "        text-align: right;\n",
       "    }\n",
       "</style>\n",
       "<table border=\"1\" class=\"dataframe\">\n",
       "  <thead>\n",
       "    <tr style=\"text-align: right;\">\n",
       "      <th></th>\n",
       "      <th>Id</th>\n",
       "      <th>ProductId</th>\n",
       "      <th>UserId</th>\n",
       "      <th>ProfileName</th>\n",
       "      <th>HelpfulnessNumerator</th>\n",
       "      <th>HelpfulnessDenominator</th>\n",
       "      <th>Score</th>\n",
       "      <th>Time</th>\n",
       "      <th>Summary</th>\n",
       "      <th>Text</th>\n",
       "    </tr>\n",
       "  </thead>\n",
       "  <tbody>\n",
       "    <tr>\n",
       "      <th>0</th>\n",
       "      <td>64422</td>\n",
       "      <td>B000MIDROQ</td>\n",
       "      <td>A161DK06JJMCYF</td>\n",
       "      <td>J. E. Stephens \"Jeanne\"</td>\n",
       "      <td>3</td>\n",
       "      <td>1</td>\n",
       "      <td>5</td>\n",
       "      <td>1224892800</td>\n",
       "      <td>Bought This for My Son at College</td>\n",
       "      <td>My son loves spaghetti so I didn't hesitate or...</td>\n",
       "    </tr>\n",
       "    <tr>\n",
       "      <th>1</th>\n",
       "      <td>44737</td>\n",
       "      <td>B001EQ55RW</td>\n",
       "      <td>A2V0I904FH7ABY</td>\n",
       "      <td>Ram</td>\n",
       "      <td>3</td>\n",
       "      <td>2</td>\n",
       "      <td>4</td>\n",
       "      <td>1212883200</td>\n",
       "      <td>Pure cocoa taste with crunchy almonds inside</td>\n",
       "      <td>It was almost a 'love at first bite' - the per...</td>\n",
       "    </tr>\n",
       "  </tbody>\n",
       "</table>\n",
       "</div>"
      ],
      "text/plain": [
       "      Id   ProductId          UserId              ProfileName  \\\n",
       "0  64422  B000MIDROQ  A161DK06JJMCYF  J. E. Stephens \"Jeanne\"   \n",
       "1  44737  B001EQ55RW  A2V0I904FH7ABY                      Ram   \n",
       "\n",
       "   HelpfulnessNumerator  HelpfulnessDenominator  Score        Time  \\\n",
       "0                     3                       1      5  1224892800   \n",
       "1                     3                       2      4  1212883200   \n",
       "\n",
       "                                        Summary  \\\n",
       "0             Bought This for My Son at College   \n",
       "1  Pure cocoa taste with crunchy almonds inside   \n",
       "\n",
       "                                                Text  \n",
       "0  My son loves spaghetti so I didn't hesitate or...  \n",
       "1  It was almost a 'love at first bite' - the per...  "
      ]
     },
     "execution_count": 8,
     "metadata": {},
     "output_type": "execute_result"
    }
   ],
   "source": [
    "display= pd.read_sql_query(\"\"\"\n",
    "SELECT *\n",
    "FROM Reviews\n",
    "WHERE Score != 3 AND Id=44737 OR Id=64422\n",
    "ORDER BY ProductID\n",
    "\"\"\", con)\n",
    "\n",
    "display.head()"
   ]
  },
  {
   "cell_type": "code",
   "execution_count": 9,
   "metadata": {
    "colab": {},
    "colab_type": "code",
    "id": "kThrWN9FMQvq"
   },
   "outputs": [],
   "source": [
    "final=final[final.HelpfulnessNumerator<=final.HelpfulnessDenominator]"
   ]
  },
  {
   "cell_type": "code",
   "execution_count": 10,
   "metadata": {
    "colab": {},
    "colab_type": "code",
    "id": "lvw544BEMQvs"
   },
   "outputs": [
    {
     "name": "stdout",
     "output_type": "stream",
     "text": [
      "(364171, 10)\n"
     ]
    },
    {
     "data": {
      "text/plain": [
       "1    307061\n",
       "0     57110\n",
       "Name: Score, dtype: int64"
      ]
     },
     "execution_count": 10,
     "metadata": {},
     "output_type": "execute_result"
    }
   ],
   "source": [
    "#Before starting the next phase of preprocessing lets see the number of entries left\n",
    "print(final.shape)\n",
    "\n",
    "#How many positive and negative reviews are present in our dataset?\n",
    "final['Score'].value_counts()"
   ]
  },
  {
   "cell_type": "markdown",
   "metadata": {
    "colab_type": "text",
    "id": "3-ZDuet8MQvw"
   },
   "source": [
    "## 7.2.3  Text Preprocessing: Stemming, stop-word removal and Lemmatization.\n",
    "\n",
    "Now that we have finished deduplication our data requires some preprocessing before we go on further with analysis and making the prediction model.\n",
    "\n",
    "Hence in the Preprocessing phase we do the following in the order below:-\n",
    "\n",
    "1. Begin by removing the html tags\n",
    "2. Remove any punctuations or limited set of special characters like , or . or # etc.\n",
    "3. Check if the word is made up of english letters and is not alpha-numeric\n",
    "4. Check to see if the length of the word is greater than 2 (as it was researched that there is no adjective in 2-letters)\n",
    "5. Convert the word to lowercase\n",
    "6. Remove Stopwords\n",
    "7. Finally Snowball Stemming the word (it was obsereved to be better than Porter Stemming)<br>\n",
    "\n",
    "After which we collect the words used to describe positive and negative reviews"
   ]
  },
  {
   "cell_type": "code",
   "execution_count": 11,
   "metadata": {
    "colab": {},
    "colab_type": "code",
    "id": "I2NRwIj6MQvz"
   },
   "outputs": [
    {
     "name": "stdout",
     "output_type": "stream",
     "text": [
      "6\n",
      "I set aside at least an hour each day to read to my son (3 y/o). At this point, I consider myself a connoisseur of children's books and this is one of the best. Santa Clause put this under the tree. Since then, we've read it perpetually and he loves it.<br /><br />First, this book taught him the months of the year.<br /><br />Second, it's a pleasure to read. Well suited to 1.5 y/o old to 4+.<br /><br />Very few children's books are worth owning. Most should be borrowed from the library. This book, however, deserves a permanent spot on your shelf. Sendak's best.\n"
     ]
    }
   ],
   "source": [
    "# find sentences containing HTML tags\n",
    "import re\n",
    "i=0;\n",
    "for sent in final['Text'].values:\n",
    "    if (len(re.findall('<.*?>', sent))):\n",
    "        print(i)\n",
    "        print(sent)\n",
    "        break;\n",
    "    i += 1;"
   ]
  },
  {
   "cell_type": "code",
   "execution_count": 12,
   "metadata": {
    "colab": {},
    "colab_type": "code",
    "id": "hSYsO2neMQv2"
   },
   "outputs": [
    {
     "name": "stdout",
     "output_type": "stream",
     "text": [
      "{'it', \"wasn't\", 'now', 'until', 'other', 'than', 'couldn', 'yourselves', \"you've\", 'here', 'below', 'why', 'ain', 'when', 'mightn', 'won', \"should've\", \"hasn't\", 'herself', \"shan't\", 'that', 'few', 'only', 'a', 'can', 'will', 'on', 'being', 'its', 'because', 'to', \"won't\", 'after', 'each', 'your', \"you're\", 'itself', 'as', 'did', 'in', 'himself', 'down', 'nor', 'off', 'very', 'the', 'his', 'weren', 'mustn', 'needn', \"isn't\", 'this', 'you', 'again', 'we', 'what', 'were', 'some', 'myself', \"haven't\", 'my', 's', 'should', 'don', 'these', 'not', 'further', 'by', 'both', 'yours', 'theirs', 'then', 'out', 'where', 'is', 'with', 'there', 'they', 'do', \"hadn't\", 'for', 'wouldn', 'd', 'be', 'or', 'same', 'against', 'been', 'shan', \"shouldn't\", \"don't\", 'shouldn', \"doesn't\", 'me', 'wasn', 'ours', 'all', 'more', 'was', \"couldn't\", \"weren't\", 'themselves', 'her', 'and', 'of', 'from', 've', 'before', 'y', 'most', 'haven', \"aren't\", 'just', \"wouldn't\", \"needn't\", \"you'd\", 'but', 'having', 'didn', 'does', 'o', 'hasn', 'through', 'aren', \"didn't\", 'yourself', 'between', 'which', 'ourselves', 'he', 'any', 'about', 'such', 'own', \"it's\", 'them', 'have', 'above', 'once', 'too', 'whom', 'isn', 'under', 're', 'no', 't', 'doesn', 'an', 'am', 'll', 'while', \"mustn't\", 'i', 'hadn', \"she's\", 'over', 'had', 'how', 'him', 'at', 'm', 'hers', 'their', 'she', \"you'll\", 'up', 'during', 'who', 'if', 'so', 'our', 'doing', 'are', 'into', 'ma', 'has', 'those', \"mightn't\", \"that'll\"}\n",
      "************************************\n",
      "tasti\n"
     ]
    }
   ],
   "source": [
    "\n",
    "stop = set(stopwords.words('english')) #set of stopwords\n",
    "sno = nltk.stem.SnowballStemmer('english') #initialising the snowball stemmer\n",
    "\n",
    "def cleanhtml(sentence): #function to clean the word of any html-tags\n",
    "    cleanr = re.compile('<.*?>')\n",
    "    cleantext = re.sub(cleanr, ' ', sentence)\n",
    "    return cleantext\n",
    "def cleanpunc(sentence): #function to clean the word of any punctuation or special characters\n",
    "    cleaned = re.sub(r'[?|!|\\'|\"|#]',r'',sentence)\n",
    "    cleaned = re.sub(r'[.|,|)|(|\\|/]',r' ',cleaned)\n",
    "    return  cleaned\n",
    "print(stop)\n",
    "print('************************************')\n",
    "print(sno.stem('tasty'))"
   ]
  },
  {
   "cell_type": "code",
   "execution_count": 13,
   "metadata": {
    "colab": {},
    "colab_type": "code",
    "id": "BUGzVaKbMQv5"
   },
   "outputs": [],
   "source": [
    "#Code for implementing step-by-step the checks mentioned in the pre-processing phase\n",
    "# this code takes a while to run as it needs to run on 500k sentences.\n",
    "if not os.path.isfile('final.sqlite'):\n",
    "    final_string=[]\n",
    "    all_positive_words=[] # store words from +ve reviews here\n",
    "    all_negative_words=[] # store words from -ve reviews here.\n",
    "    for i, sent in enumerate(tqdm(final['Text'].values)):\n",
    "        filtered_sentence=[]\n",
    "        #print(sent);\n",
    "        sent=cleanhtml(sent) # remove HTMl tags\n",
    "        for w in sent.split():\n",
    "            # we have used cleanpunc(w).split(), one more split function here because consider w=\"abc.def\", cleanpunc(w) will return \"abc def\"\n",
    "            # if we dont use .split() function then we will be considring \"abc def\" as a single word, but if you use .split() function we will get \"abc\", \"def\"\n",
    "            for cleaned_words in cleanpunc(w).split():\n",
    "                if((cleaned_words.isalpha()) & (len(cleaned_words)>2)):    \n",
    "                    if(cleaned_words.lower() not in stop):\n",
    "                        s=(sno.stem(cleaned_words.lower())).encode('utf8')\n",
    "                        filtered_sentence.append(s)\n",
    "                        if (final['Score'].values)[i] == 1: \n",
    "                            all_positive_words.append(s) #list of all words used to describe positive reviews\n",
    "                        if(final['Score'].values)[i] == 0:\n",
    "                            all_negative_words.append(s) #list of all words used to describe negative reviews reviews\n",
    "        str1 = b\" \".join(filtered_sentence) #final string of cleaned words\n",
    "        #print(\"***********************************************************************\")\n",
    "        final_string.append(str1)\n",
    "\n",
    "    #############---- storing the data into .sqlite file ------########################\n",
    "    final['CleanedText']=final_string #adding a column of CleanedText which displays the data after pre-processing of the review \n",
    "    final['CleanedText']=final['CleanedText'].str.decode(\"utf-8\")\n",
    "        # store final table into an SQlLite table for future.\n",
    "    conn = sqlite3.connect('final.sqlite')\n",
    "    c=conn.cursor()\n",
    "    conn.text_factory = str\n",
    "    final.to_sql('Reviews', conn,  schema=None, if_exists='replace', \\\n",
    "                 index=True, index_label=None, chunksize=None, dtype=None)\n",
    "    conn.close()\n",
    "    \n",
    "    \n",
    "    with open('positive_words.pkl', 'wb') as f:\n",
    "        pickle.dump(all_positive_words, f)\n",
    "    with open('negitive_words.pkl', 'wb') as f:\n",
    "        pickle.dump(all_negative_words, f)"
   ]
  },
  {
   "cell_type": "code",
   "execution_count": 14,
   "metadata": {
    "colab": {},
    "colab_type": "code",
    "id": "bU88yTG9MQv-",
    "scrolled": false
   },
   "outputs": [],
   "source": [
    "if os.path.isfile('final.sqlite'):\n",
    "    conn = sqlite3.connect('final.sqlite')\n",
    "    final = pd.read_sql_query(\"\"\" SELECT * FROM Reviews WHERE Score != 3 \"\"\", conn)\n",
    "    conn.close()\n",
    "else:\n",
    "    print(\"Please the above cell\")"
   ]
  },
  {
   "cell_type": "markdown",
   "metadata": {},
   "source": [
    "# function to find optimal k from knn with kd-tree algorithm"
   ]
  },
  {
   "cell_type": "code",
   "execution_count": 15,
   "metadata": {
    "colab_type": "text",
    "id": "hXA02Hw0MQv_"
   },
   "outputs": [],
   "source": [
    "# kd_tree algo \n",
    "\n",
    "def find_optimal_k_kdtree(x_tr_dataset,y_train,x_cv_dataset,y_cv):\n",
    "    from sklearn.metrics import f1_score\n",
    "    \n",
    "    #Setup arrays to store training and test accuracies\n",
    "    neighbors = np.arange(1,9)\n",
    " #   train_accuracy =np.empty(len(neighbors))\n",
    "    acc = np.empty(len(neighbors))\n",
    "    error = np.empty(len(neighbors))\n",
    "    for i,k in enumerate(neighbors):\n",
    "        \n",
    "    # instantiate learning model (k = 30)\n",
    "        knn = KNeighborsClassifier(n_neighbors=k,algorithm='kd_tree' )\n",
    "\n",
    "    # fitting the model on crossvalidation train\n",
    "        knn.fit(x_tr_dataset, y_train)\n",
    "\n",
    "    # predict the response on the crossvalidation train\n",
    "        pred = knn.predict(x_cv_dataset)\n",
    "\n",
    "    # evaluate CV accuracy\n",
    "        acc[i] = f1_score(y_cv, pred, average='macro') * float(100)\n",
    "        #print('\\nCV accuracy for k = %d is %d%%' % (i, acc))\n",
    "        error[i] = 100-acc[i]\n",
    "           \n",
    "  #  optimal_k = int(min(error))\n",
    "  #  print('\\nThe optimal number of neighbors is %d.' % optimal_k)\n",
    "\n",
    "    \n",
    "    #Generate plot\n",
    "    d = acc.max()\n",
    "    i = np.where(acc == d)\n",
    "    optimal_k = int(neighbors[i])\n",
    "    print(\"optimal_k is:-\",optimal_k)\n",
    "    plt.title('k-NN Varying number of neighbors')\n",
    "    plt.plot(neighbors, error, label='Testing Accuracy')\n",
    "#plt.plot(neighbors, train_accuracy, label='Training accuracy')\n",
    "    plt.legend()\n",
    "    plt.xlabel('Number of neighbors')\n",
    "    plt.ylabel('Misclassification error')\n",
    "    plt.grid()\n",
    "    plt.show()\n",
    "    \n",
    "    return optimal_k"
   ]
  },
  {
   "cell_type": "markdown",
   "metadata": {},
   "source": [
    "# function to find optimal k from knn with brute algorithm"
   ]
  },
  {
   "cell_type": "code",
   "execution_count": 16,
   "metadata": {},
   "outputs": [],
   "source": [
    "# brute algo \n",
    "\n",
    "def find_optimal_k_brute(x_tr_dataset,y_train,x_cv_dataset,y_cv):\n",
    "    \n",
    "    from sklearn.metrics import f1_score\n",
    "    \n",
    "    #Setup arrays to store training and test accuracies\n",
    "    neighbors = np.arange(1,9)\n",
    " #   train_accuracy =np.empty(len(neighbors))\n",
    "    acc = np.empty(len(neighbors))\n",
    "    error = np.empty(len(neighbors))\n",
    "    for i,k in enumerate(neighbors):\n",
    "        \n",
    "    # instantiate learning model (k = 30)\n",
    "        knn = KNeighborsClassifier(n_neighbors=k,algorithm='brute' )\n",
    "\n",
    "    # fitting the model on crossvalidation train\n",
    "        knn.fit(x_tr_dataset, y_train)\n",
    "\n",
    "    # predict the response on the crossvalidation train\n",
    "        pred = knn.predict(x_cv_dataset)\n",
    "\n",
    "    # evaluate CV accuracy\n",
    "        acc[i] = f1_score(y_cv, pred, average='macro') * float(100)\n",
    "        #print('\\nCV accuracy for k = %d is %d%%' % (i, acc))\n",
    "        error[i] = 100-acc[i]\n",
    "           \n",
    "  #  optimal_k = int(min(error))\n",
    "  #  print('\\nThe optimal number of neighbors is %d.' % optimal_k)\n",
    "\n",
    "    \n",
    "    #Generate plot\n",
    "    d = acc.max()\n",
    "    i = np.where(acc == d)\n",
    "    optimal_k = int(neighbors[i])\n",
    "    print(\"optimal_k is:-\",optimal_k)\n",
    "    plt.title('k-NN Varying number of neighbors')\n",
    "    plt.plot(neighbors, error, label='Testing Accuracy')\n",
    "#plt.plot(neighbors, train_accuracy, label='Training accuracy')\n",
    "    plt.legend()\n",
    "    plt.xlabel('Number of neighbors')\n",
    "    plt.ylabel('Misclassification error')\n",
    "    plt.grid()\n",
    "    plt.show()\n",
    "    \n",
    "    return optimal_k"
   ]
  },
  {
   "cell_type": "markdown",
   "metadata": {},
   "source": [
    "# randomly generate data and sort in ascending order"
   ]
  },
  {
   "cell_type": "code",
   "execution_count": 17,
   "metadata": {},
   "outputs": [],
   "source": [
    "#random_sample = final.sample(n = 6000)\n",
    "#random_sample.shape\n",
    "#random_sample = random_sample.sort_values('Time', axis=0, ascending=True, inplace=False, kind='quicksort', na_position='last')\n",
    "\n",
    "sorted_sample = final.sort_values('Time', axis=0, ascending=True, inplace=False, kind='quicksort', na_position='last')    \n",
    "sample_60000 = sorted_sample.iloc[0:25000]\n",
    "sample_60000.shape\n",
    "y = sample_60000['Score']"
   ]
  },
  {
   "cell_type": "code",
   "execution_count": 18,
   "metadata": {},
   "outputs": [
    {
     "name": "stdout",
     "output_type": "stream",
     "text": [
      "total data 25000\n",
      "x_train data 15000\n",
      "total output data 25000\n",
      "total y_train data 15000\n",
      "x_cv data 5000\n",
      "x_ts data 5000\n",
      "y_cv data 5000\n",
      "y_ts data 5000\n"
     ]
    }
   ],
   "source": [
    "# sort the data in 60:20:20 ratio\n",
    "x_train_size = int(len(sample_60000)*.60)\n",
    "y_size  = int(len(y)*.60)\n",
    "\n",
    "# split into Train and Test sets    \n",
    "x_train = sample_60000[0:x_train_size]\n",
    "x_test = sample_60000[x_train_size:len(sample_60000)]\n",
    "\n",
    "print(\"total data\",len(sample_60000))\n",
    "print(\"x_train data\",len(x_train))\n",
    "#print(\"x_test data\",len(x_test))\n",
    "\n",
    "y_train = y[0:y_size]\n",
    "y_test = y[y_size:len(y)]\n",
    "\n",
    "\n",
    "print(\"total output data\",len(y))\n",
    "print(\"total y_train data\",len(y_train))\n",
    "#print(\"total y_test data\",len(y_test))\n",
    "\n",
    "x_tr_size = int(len(x_test)*.50)\n",
    "y_tr_size = int(len(y_test)*.50)\n",
    "\n",
    "x_cv = x_test[0:x_tr_size]\n",
    "x_ts = x_test[x_tr_size:len(x_test)]\n",
    "\n",
    "#print(\"total data\",x_tr_size)\n",
    "print(\"x_cv data\",len(x_cv))\n",
    "print(\"x_ts data\",len(x_ts))\n",
    "\n",
    "y_cv = y[0:y_tr_size]\n",
    "y_ts = y[y_tr_size:len(y_test)]\n",
    "\n",
    "#print(\"total data\",y_tr_size)\n",
    "print(\"y_cv data\",len(y_cv))\n",
    "print(\"y_ts data\",len(y_ts))\n",
    "\n",
    "\n"
   ]
  },
  {
   "cell_type": "code",
   "execution_count": 19,
   "metadata": {},
   "outputs": [],
   "source": [
    "# data dimension reduction \n",
    "def truncatesvd_reduction(c):\n",
    "    from sklearn import decomposition\n",
    "    truncatesd = decomposition.TruncatedSVD()\n",
    "    truncatesd.n_components = 784\n",
    "    svd_data = truncatesd.fit_transform(c)\n",
    "\n",
    "    percentage_var_explained = truncatesd.explained_variance_ratio_ / truncatesd.explained_variance_ratio_.sum()\n",
    "\n",
    "    cum_var_explained = np.cumsum(percentage_var_explained)\n",
    "\n",
    "# Plot the PCA spectrum\n",
    "    plt.figure(1, figsize=(6, 4))\n",
    "\n",
    "    plt.clf()\n",
    "    plt.plot(cum_var_explained, linewidth=2)\n",
    "    plt.axis('tight')\n",
    "    plt.grid()\n",
    "    plt.xlabel('n_components')\n",
    "    plt.ylabel('Cumulative_explained_variance')\n",
    "    plt.show()\n"
   ]
  },
  {
   "cell_type": "markdown",
   "metadata": {},
   "source": [
    "# [7.2.2] Bag of Words (BoW)"
   ]
  },
  {
   "cell_type": "code",
   "execution_count": 19,
   "metadata": {
    "colab": {},
    "colab_type": "code",
    "id": "giCwNM_rMQwA"
   },
   "outputs": [
    {
     "name": "stdout",
     "output_type": "stream",
     "text": [
      "the type of count vectorizer  <class 'scipy.sparse.csr.csr_matrix'>\n",
      "the shape of out text BOW vectorizer  (15000, 16311)\n",
      "the number of unique words  16311\n",
      "the type of count vectorizer  <class 'scipy.sparse.csr.csr_matrix'>\n",
      "the shape of out text BOW vectorizer  (5000, 16311)\n",
      "the number of unique words  16311\n",
      "the type of count vectorizer  <class 'scipy.sparse.csr.csr_matrix'>\n",
      "the shape of out text BOW vectorizer  (5000, 16311)\n",
      "the number of unique words  16311\n"
     ]
    }
   ],
   "source": [
    "#BoW\n",
    "count_vect = CountVectorizer() #in scikit-learn\n",
    "x_tr_final_counts = count_vect.fit_transform(x_train['CleanedText'].values)\n",
    "x_cv_final_counts = count_vect.transform(x_cv['CleanedText'].values)\n",
    "x_ts_final_counts = count_vect.transform(x_ts['CleanedText'].values)\n",
    "\n",
    "\n",
    "print(\"the type of count vectorizer \",type(x_tr_final_counts))\n",
    "print(\"the shape of out text BOW vectorizer \",x_tr_final_counts.get_shape())\n",
    "print(\"the number of unique words \", x_tr_final_counts.get_shape()[1])\n",
    "\n",
    "print(\"the type of count vectorizer \",type(x_cv_final_counts))\n",
    "print(\"the shape of out text BOW vectorizer \",x_cv_final_counts.get_shape())\n",
    "print(\"the number of unique words \", x_cv_final_counts.get_shape()[1])\n",
    "\n",
    "print(\"the type of count vectorizer \",type(x_ts_final_counts))\n",
    "print(\"the shape of out text BOW vectorizer \",x_ts_final_counts.get_shape())\n",
    "print(\"the number of unique words \", x_ts_final_counts.get_shape()[1])\n",
    "\n"
   ]
  },
  {
   "cell_type": "code",
   "execution_count": 20,
   "metadata": {},
   "outputs": [
    {
     "name": "stderr",
     "output_type": "stream",
     "text": [
      "C:\\Users\\hemant\\Anaconda\\lib\\site-packages\\sklearn\\utils\\validation.py:475: DataConversionWarning: Data with input dtype int64 was converted to float64 by StandardScaler.\n",
      "  warnings.warn(msg, DataConversionWarning)\n",
      "C:\\Users\\hemant\\Anaconda\\lib\\site-packages\\sklearn\\utils\\validation.py:475: DataConversionWarning: Data with input dtype int64 was converted to float64 by StandardScaler.\n",
      "  warnings.warn(msg, DataConversionWarning)\n"
     ]
    },
    {
     "data": {
      "image/png": "[encoded data removed]",
      "text/plain": [
       "<Figure size 432x288 with 1 Axes>"
      ]
     },
     "metadata": {},
     "output_type": "display_data"
    }
   ],
   "source": [
    "# dimenstionality reduction for bowT train data\n",
    "sc = StandardScaler(with_mean=False)\n",
    "c = sc.fit_transform(x_tr_final_counts)\n",
    "truncatesvd_reduction(c)\n"
   ]
  },
  {
   "cell_type": "markdown",
   "metadata": {},
   "source": [
    "Here 500 components explain 80% of the variation in bowT train data"
   ]
  },
  {
   "cell_type": "code",
   "execution_count": 21,
   "metadata": {},
   "outputs": [
    {
     "data": {
      "text/plain": [
       "(15000, 500)"
      ]
     },
     "execution_count": 21,
     "metadata": {},
     "output_type": "execute_result"
    }
   ],
   "source": [
    "svd = TruncatedSVD(n_components=500)\n",
    "x_tr_dataset = svd.fit_transform(c)\n",
    "x_tr_dataset.shape"
   ]
  },
  {
   "cell_type": "code",
   "execution_count": 22,
   "metadata": {},
   "outputs": [
    {
     "name": "stderr",
     "output_type": "stream",
     "text": [
      "C:\\Users\\hemant\\Anaconda\\lib\\site-packages\\sklearn\\utils\\validation.py:475: DataConversionWarning: Data with input dtype int64 was converted to float64 by StandardScaler.\n",
      "  warnings.warn(msg, DataConversionWarning)\n",
      "C:\\Users\\hemant\\Anaconda\\lib\\site-packages\\sklearn\\utils\\validation.py:475: DataConversionWarning: Data with input dtype int64 was converted to float64 by StandardScaler.\n",
      "  warnings.warn(msg, DataConversionWarning)\n"
     ]
    },
    {
     "data": {
      "image/png": "[encoded data removed]",
      "text/plain": [
       "<Figure size 432x288 with 1 Axes>"
      ]
     },
     "metadata": {},
     "output_type": "display_data"
    }
   ],
   "source": [
    "# dimenstionality reduction for bowT cross validation data\n",
    "c = sc.fit_transform(x_cv_final_counts)\n",
    "truncatesvd_reduction(c)\n"
   ]
  },
  {
   "cell_type": "markdown",
   "metadata": {},
   "source": [
    "Here 500 components explain 80% of the variation in bowT cross validated data"
   ]
  },
  {
   "cell_type": "code",
   "execution_count": 23,
   "metadata": {},
   "outputs": [
    {
     "data": {
      "text/plain": [
       "(5000, 500)"
      ]
     },
     "execution_count": 23,
     "metadata": {},
     "output_type": "execute_result"
    }
   ],
   "source": [
    "svd = TruncatedSVD(n_components=500)\n",
    "x_cv_dataset = svd.fit_transform(c)\n",
    "x_cv_dataset.shape"
   ]
  },
  {
   "cell_type": "code",
   "execution_count": 24,
   "metadata": {},
   "outputs": [
    {
     "name": "stderr",
     "output_type": "stream",
     "text": [
      "C:\\Users\\hemant\\Anaconda\\lib\\site-packages\\sklearn\\utils\\validation.py:475: DataConversionWarning: Data with input dtype int64 was converted to float64 by StandardScaler.\n",
      "  warnings.warn(msg, DataConversionWarning)\n",
      "C:\\Users\\hemant\\Anaconda\\lib\\site-packages\\sklearn\\utils\\validation.py:475: DataConversionWarning: Data with input dtype int64 was converted to float64 by StandardScaler.\n",
      "  warnings.warn(msg, DataConversionWarning)\n"
     ]
    },
    {
     "data": {
      "image/png": "[encoded data removed]",
      "text/plain": [
       "<Figure size 432x288 with 1 Axes>"
      ]
     },
     "metadata": {},
     "output_type": "display_data"
    }
   ],
   "source": [
    "# dimenstionality reduction for bowT test data\n",
    "c = sc.fit_transform(x_ts_final_counts)\n",
    "truncatesvd_reduction(c)\n"
   ]
  },
  {
   "cell_type": "markdown",
   "metadata": {},
   "source": [
    "Here 500 components explain 80% of the variation in bowT test data"
   ]
  },
  {
   "cell_type": "code",
   "execution_count": 25,
   "metadata": {},
   "outputs": [
    {
     "data": {
      "text/plain": [
       "(5000, 500)"
      ]
     },
     "execution_count": 25,
     "metadata": {},
     "output_type": "execute_result"
    }
   ],
   "source": [
    "svd = TruncatedSVD(n_components=500)\n",
    "x_ts_dataset = svd.fit_transform(c)\n",
    "x_ts_dataset.shape"
   ]
  },
  {
   "cell_type": "code",
   "execution_count": 26,
   "metadata": {},
   "outputs": [
    {
     "name": "stdout",
     "output_type": "stream",
     "text": [
      "(15000, 500)\n",
      "(5000, 500)\n",
      "(5000, 500)\n",
      "(15000,)\n",
      "(5000,)\n",
      "(5000,)\n"
     ]
    }
   ],
   "source": [
    "print(x_tr_dataset.shape)\n",
    "print(x_cv_dataset.shape)\n",
    "print(x_ts_dataset.shape)\n",
    "print(y_train.shape)\n",
    "print(y_cv.shape)\n",
    "print(y_ts.shape)"
   ]
  },
  {
   "cell_type": "code",
   "execution_count": 27,
   "metadata": {},
   "outputs": [
    {
     "name": "stdout",
     "output_type": "stream",
     "text": [
      "optimal_k is:- 2\n"
     ]
    },
    {
     "data": {
      "image/png": "[encoded data removed]",
      "text/plain": [
       "<Figure size 432x288 with 1 Axes>"
      ]
     },
     "metadata": {},
     "output_type": "display_data"
    }
   ],
   "source": [
    "# Finding Optimal K by simple Cross validation by kd- tree algo \n",
    "\n",
    "optimal_k = find_optimal_k_kdtree(x_tr_dataset,y_train,x_cv_dataset,y_cv)"
   ]
  },
  {
   "cell_type": "code",
   "execution_count": 28,
   "metadata": {},
   "outputs": [
    {
     "name": "stdout",
     "output_type": "stream",
     "text": [
      "\n",
      "The f1_score of the knn classifier of KDtree algo for k = 2 is 50.761934%\n"
     ]
    }
   ],
   "source": [
    "from sklearn.metrics import f1_score\n",
    "# ============================== KNN with k = optimal_k ===============================================\n",
    "# instantiate learning model k = optimal_k\n",
    "\n",
    "#knn_optimal = KNeighborsClassifier(n_neighbors = optimal_k)\n",
    "knn_optimal = KNeighborsClassifier(n_neighbors = 2)\n",
    "\n",
    "# fitting the model\n",
    "knn_optimal.fit(x_tr_dataset, y_train)\n",
    "\n",
    "\n",
    "# predict the response\n",
    "pred = knn_optimal.predict(x_ts_dataset)\n",
    "\n",
    "# evaluate f1_score\n",
    "f1_bowt_kdtree_optimal_k = optimal_k \n",
    "f1_bowt_kdtree = f1_score(y_ts, pred, average='macro') * float(100)\n",
    "print('\\nThe f1_score of the knn classifier of KDtree algo for k = %d is %f%%' % (optimal_k, f1_bowt_kdtree))"
   ]
  },
  {
   "cell_type": "code",
   "execution_count": 29,
   "metadata": {},
   "outputs": [
    {
     "data": {
      "text/plain": [
       "<matplotlib.axes._subplots.AxesSubplot at 0x36c0178128>"
      ]
     },
     "execution_count": 29,
     "metadata": {},
     "output_type": "execute_result"
    },
    {
     "data": {
      "image/png": "[encoded data removed]",
      "text/plain": [
       "<Figure size 432x288 with 2 Axes>"
      ]
     },
     "metadata": {},
     "output_type": "display_data"
    }
   ],
   "source": [
    "skplt.plot_confusion_matrix(y_ts ,pred)\n"
   ]
  },
  {
   "cell_type": "code",
   "execution_count": 30,
   "metadata": {},
   "outputs": [
    {
     "name": "stdout",
     "output_type": "stream",
     "text": [
      "             precision    recall  f1-score   support\n",
      "\n",
      "   negative       0.13      0.18      0.15       554\n",
      "   positive       0.89      0.84      0.87      4446\n",
      "\n",
      "avg / total       0.81      0.77      0.79      5000\n",
      "\n"
     ]
    }
   ],
   "source": [
    "#classification report\n",
    "from sklearn.metrics import classification_report\n",
    "print(classification_report(y_ts, pred))"
   ]
  },
  {
   "cell_type": "code",
   "execution_count": 31,
   "metadata": {},
   "outputs": [
    {
     "name": "stdout",
     "output_type": "stream",
     "text": [
      "optimal_k is:- 2\n"
     ]
    },
    {
     "data": {
      "image/png": "[encoded data removed]",
      "text/plain": [
       "<Figure size 432x288 with 1 Axes>"
      ]
     },
     "metadata": {},
     "output_type": "display_data"
    }
   ],
   "source": [
    "# Finding Optimal K by simple Cross validation by brute algo \n",
    "\n",
    "optimal_k = find_optimal_k_brute(x_tr_dataset ,y_train,x_cv_dataset,y_cv)\n"
   ]
  },
  {
   "cell_type": "code",
   "execution_count": 32,
   "metadata": {},
   "outputs": [
    {
     "name": "stdout",
     "output_type": "stream",
     "text": [
      "\n",
      "The accuracy of the knn classifier of brute algo for k = 2 is 50.761934%\n"
     ]
    }
   ],
   "source": [
    "from sklearn.metrics import f1_score\n",
    "# ============================== KNN with k = optimal_k ===============================================\n",
    "# instantiate learning model k = optimal_k\n",
    "\n",
    "knn_optimal = KNeighborsClassifier(n_neighbors = optimal_k)\n",
    "\n",
    "# fitting the model\n",
    "knn_optimal.fit(x_tr_dataset, y_train)\n",
    "\n",
    "# predict the response\n",
    "pred = knn_optimal.predict(x_ts_dataset)\n",
    "\n",
    "# evaluate f1_score\n",
    "f1_bowt_brute_optimal_k = optimal_k \n",
    "\n",
    "f1_bowt_brute = f1_score(y_ts, pred, average='macro') * float(100)\n",
    "print('\\nThe accuracy of the knn classifier of brute algo for k = %d is %f%%' % (optimal_k, f1_bowt_brute))"
   ]
  },
  {
   "cell_type": "code",
   "execution_count": 33,
   "metadata": {},
   "outputs": [
    {
     "data": {
      "text/plain": [
       "<matplotlib.axes._subplots.AxesSubplot at 0x36b7d98c18>"
      ]
     },
     "execution_count": 33,
     "metadata": {},
     "output_type": "execute_result"
    },
    {
     "data": {
      "image/png": "[encoded data removed]",
      "text/plain": [
       "<Figure size 432x288 with 2 Axes>"
      ]
     },
     "metadata": {},
     "output_type": "display_data"
    }
   ],
   "source": [
    "skplt.plot_confusion_matrix(y_ts ,pred)"
   ]
  },
  {
   "cell_type": "code",
   "execution_count": 34,
   "metadata": {},
   "outputs": [
    {
     "name": "stdout",
     "output_type": "stream",
     "text": [
      "             precision    recall  f1-score   support\n",
      "\n",
      "   negative       0.13      0.18      0.15       554\n",
      "   positive       0.89      0.84      0.87      4446\n",
      "\n",
      "avg / total       0.81      0.77      0.79      5000\n",
      "\n"
     ]
    }
   ],
   "source": [
    "#classification report\n",
    "print(classification_report(y_ts, pred))"
   ]
  },
  {
   "cell_type": "markdown",
   "metadata": {
    "colab_type": "text",
    "id": "hdx-Cb0AMQwM"
   },
   "source": [
    "# [7.2.5] TF-IDF"
   ]
  },
  {
   "cell_type": "code",
   "execution_count": 20,
   "metadata": {
    "colab": {},
    "colab_type": "code",
    "id": "P-EUwU9nMQwN"
   },
   "outputs": [
    {
     "name": "stdout",
     "output_type": "stream",
     "text": [
      "the type of count vectorizer  <class 'scipy.sparse.csr.csr_matrix'>\n",
      "the shape of out text TFIDF vectorizer  (15000, 299891)\n",
      "the number of unique words including both unigrams and bigrams  299891\n",
      "the type of count vectorizer  <class 'scipy.sparse.csr.csr_matrix'>\n",
      "the shape of out text TFIDF vectorizer  (5000, 116881)\n",
      "the number of unique words including both unigrams and bigrams  116881\n",
      "the type of count vectorizer  <class 'scipy.sparse.csr.csr_matrix'>\n",
      "the shape of out text TFIDF vectorizer  (5000, 113417)\n",
      "the number of unique words including both unigrams and bigrams  113417\n"
     ]
    }
   ],
   "source": [
    "tf_idf_vect = TfidfVectorizer(ngram_range=(1,2))\n",
    "x_tr_final_counts = tf_idf_vect.fit_transform(x_train['CleanedText'].values)\n",
    "x_cv_final_counts = tf_idf_vect.fit_transform(x_cv['CleanedText'].values)\n",
    "x_ts_final_counts = tf_idf_vect.fit_transform(x_ts['CleanedText'].values)\n",
    "\n",
    "print(\"the type of count vectorizer \",type(x_tr_final_counts))\n",
    "print(\"the shape of out text TFIDF vectorizer \",x_tr_final_counts.get_shape())\n",
    "print(\"the number of unique words including both unigrams and bigrams \", x_tr_final_counts.get_shape()[1])\n",
    "\n",
    "print(\"the type of count vectorizer \",type(x_cv_final_counts))\n",
    "print(\"the shape of out text TFIDF vectorizer \",x_cv_final_counts.get_shape())\n",
    "print(\"the number of unique words including both unigrams and bigrams \", x_cv_final_counts.get_shape()[1])\n",
    "\n",
    "print(\"the type of count vectorizer \",type(x_ts_final_counts))\n",
    "print(\"the shape of out text TFIDF vectorizer \",x_ts_final_counts.get_shape())\n",
    "print(\"the number of unique words including both unigrams and bigrams \", x_ts_final_counts.get_shape()[1])\n",
    "\n",
    "\n"
   ]
  },
  {
   "cell_type": "code",
   "execution_count": 22,
   "metadata": {},
   "outputs": [
    {
     "data": {
      "image/png": "[encoded data removed]",
      "text/plain": [
       "<Figure size 432x288 with 1 Axes>"
      ]
     },
     "metadata": {},
     "output_type": "display_data"
    }
   ],
   "source": [
    "# dimenstionality reduction for TF-IDF train data\n",
    "sc = StandardScaler(with_mean=False)\n",
    "c = sc.fit_transform(x_tr_final_counts)\n",
    "truncatesvd_reduction(c)\n"
   ]
  },
  {
   "cell_type": "markdown",
   "metadata": {},
   "source": [
    "Here 500 components explain 80% of the variation in TF-IDF train data"
   ]
  },
  {
   "cell_type": "code",
   "execution_count": 23,
   "metadata": {},
   "outputs": [
    {
     "data": {
      "text/plain": [
       "(15000, 500)"
      ]
     },
     "execution_count": 23,
     "metadata": {},
     "output_type": "execute_result"
    }
   ],
   "source": [
    "svd = TruncatedSVD(n_components=500)\n",
    "x_tr_dataset = svd.fit_transform(c)\n",
    "x_tr_dataset.shape"
   ]
  },
  {
   "cell_type": "code",
   "execution_count": 24,
   "metadata": {},
   "outputs": [
    {
     "data": {
      "image/png": "[encoded data removed]",
      "text/plain": [
       "<Figure size 432x288 with 1 Axes>"
      ]
     },
     "metadata": {},
     "output_type": "display_data"
    }
   ],
   "source": [
    "# dimenstionality reduction for TF-IDF cross validate data\n",
    "c = sc.fit_transform(x_cv_final_counts)\n",
    "truncatesvd_reduction(c)\n"
   ]
  },
  {
   "cell_type": "markdown",
   "metadata": {},
   "source": [
    "Here 500 components explain 80% of the variation in TF-IDF cross validate data"
   ]
  },
  {
   "cell_type": "code",
   "execution_count": 25,
   "metadata": {},
   "outputs": [
    {
     "data": {
      "text/plain": [
       "(5000, 500)"
      ]
     },
     "execution_count": 25,
     "metadata": {},
     "output_type": "execute_result"
    }
   ],
   "source": [
    "svd = TruncatedSVD(n_components=500)\n",
    "x_cv_dataset = svd.fit_transform(c)\n",
    "x_cv_dataset.shape"
   ]
  },
  {
   "cell_type": "code",
   "execution_count": 26,
   "metadata": {},
   "outputs": [
    {
     "data": {
      "image/png": "[encoded data removed]",
      "text/plain": [
       "<Figure size 432x288 with 1 Axes>"
      ]
     },
     "metadata": {},
     "output_type": "display_data"
    }
   ],
   "source": [
    "# dimenstionality reduction for TF-IDF test data\n",
    "c = sc.fit_transform(x_ts_final_counts)\n",
    "truncatesvd_reduction(c)\n"
   ]
  },
  {
   "cell_type": "markdown",
   "metadata": {},
   "source": [
    "Here 500 components explain 80% of the variation in TF-IDF test data"
   ]
  },
  {
   "cell_type": "code",
   "execution_count": 27,
   "metadata": {},
   "outputs": [
    {
     "data": {
      "text/plain": [
       "(5000, 500)"
      ]
     },
     "execution_count": 27,
     "metadata": {},
     "output_type": "execute_result"
    }
   ],
   "source": [
    "svd = TruncatedSVD(n_components=500)\n",
    "x_ts_dataset = svd.fit_transform(c)\n",
    "x_ts_dataset.shape"
   ]
  },
  {
   "cell_type": "code",
   "execution_count": 28,
   "metadata": {},
   "outputs": [
    {
     "name": "stdout",
     "output_type": "stream",
     "text": [
      "(15000, 500)\n",
      "(5000, 500)\n",
      "(5000, 500)\n",
      "(15000,)\n",
      "(5000,)\n",
      "(5000,)\n"
     ]
    }
   ],
   "source": [
    "print(x_tr_dataset.shape)\n",
    "print(x_cv_dataset.shape)\n",
    "print(x_ts_dataset.shape)\n",
    "print(y_train.shape)\n",
    "print(y_cv.shape)\n",
    "print(y_ts.shape)"
   ]
  },
  {
   "cell_type": "code",
   "execution_count": 29,
   "metadata": {},
   "outputs": [
    {
     "name": "stdout",
     "output_type": "stream",
     "text": [
      "optimal_k is:- 1\n"
     ]
    },
    {
     "data": {
      "image/png": "[encoded data removed]",
      "text/plain": [
       "<Figure size 432x288 with 1 Axes>"
      ]
     },
     "metadata": {},
     "output_type": "display_data"
    }
   ],
   "source": [
    "# Finding Optimal K by simple Cross validation by kd- tree algo \n",
    "\n",
    "\n",
    "optimal_k = find_optimal_k_kdtree(x_tr_dataset,y_train,x_cv_dataset,y_cv)"
   ]
  },
  {
   "cell_type": "code",
   "execution_count": 30,
   "metadata": {},
   "outputs": [
    {
     "name": "stdout",
     "output_type": "stream",
     "text": [
      "\n",
      "The f1_score of the knn classifier of KDtree algo for k = 1 is 51.053416%\n"
     ]
    }
   ],
   "source": [
    "from sklearn.metrics import f1_score\n",
    "# ============================== KNN with k = optimal_k ===============================================\n",
    "# instantiate learning model k = optimal_k\n",
    "\n",
    "knn_optimal = KNeighborsClassifier(n_neighbors = optimal_k)\n",
    "\n",
    "# fitting the model\n",
    "knn_optimal.fit(x_tr_dataset, y_train)\n",
    "\n",
    "# predict the response\n",
    "pred = knn_optimal.predict(x_ts_dataset)\n",
    "\n",
    "# evaluate f1_score\n",
    "f1_tfidf_kdtree_optimal_k = optimal_k\n",
    "f1_tfidf_kdtree = f1_score(y_ts, pred, average='macro') * float(100)\n",
    "print('\\nThe f1_score of the knn classifier of KDtree algo for k = %d is %f%%' % (optimal_k, f1_tfidf_kdtree))\n",
    "\n"
   ]
  },
  {
   "cell_type": "code",
   "execution_count": 31,
   "metadata": {},
   "outputs": [
    {
     "data": {
      "text/plain": [
       "<matplotlib.axes._subplots.AxesSubplot at 0x629cdd9828>"
      ]
     },
     "execution_count": 31,
     "metadata": {},
     "output_type": "execute_result"
    },
    {
     "data": {
      "image/png": "[encoded data removed]",
      "text/plain": [
       "<Figure size 432x288 with 2 Axes>"
      ]
     },
     "metadata": {},
     "output_type": "display_data"
    }
   ],
   "source": [
    "skplt.plot_confusion_matrix(y_ts,pred)"
   ]
  },
  {
   "cell_type": "code",
   "execution_count": 33,
   "metadata": {},
   "outputs": [
    {
     "name": "stdout",
     "output_type": "stream",
     "text": [
      "             precision    recall  f1-score   support\n",
      "\n",
      "   negative       0.13      0.13      0.13       554\n",
      "   positive       0.89      0.89      0.89      4446\n",
      "\n",
      "avg / total       0.81      0.81      0.81      5000\n",
      "\n"
     ]
    }
   ],
   "source": [
    "#classification report\n",
    "from sklearn.metrics import classification_report\n",
    "print(classification_report(y_ts, pred))"
   ]
  },
  {
   "cell_type": "code",
   "execution_count": 34,
   "metadata": {},
   "outputs": [
    {
     "name": "stdout",
     "output_type": "stream",
     "text": [
      "optimal_k is:- 1\n"
     ]
    },
    {
     "data": {
      "image/png": "[encoded data removed]",
      "text/plain": [
       "<Figure size 432x288 with 1 Axes>"
      ]
     },
     "metadata": {},
     "output_type": "display_data"
    }
   ],
   "source": [
    "# Finding Optimal K by simple Cross validation¶ by brute algo \n",
    "\n",
    "optimal_k = find_optimal_k_brute(x_tr_dataset ,y_train,x_cv_dataset,y_cv)\n"
   ]
  },
  {
   "cell_type": "code",
   "execution_count": 35,
   "metadata": {},
   "outputs": [
    {
     "name": "stdout",
     "output_type": "stream",
     "text": [
      "\n",
      "The accuracy of the knn classifier of brute algo for k = 1 is 51.053416%\n"
     ]
    }
   ],
   "source": [
    "from sklearn.metrics import f1_score\n",
    "# ============================== KNN with k = optimal_k ===============================================\n",
    "# instantiate learning model k = optimal_k\n",
    "\n",
    "knn_optimal = KNeighborsClassifier(n_neighbors = optimal_k)\n",
    "\n",
    "# fitting the model\n",
    "knn_optimal.fit(x_tr_dataset, y_train)\n",
    "\n",
    "# predict the response\n",
    "pred = knn_optimal.predict(x_ts_dataset)\n",
    "\n",
    "# evaluate f1_score\n",
    "f1_tfidf_brute = f1_score(y_ts, pred, average='macro') * float(100)\n",
    "f1_tfidf_brute_optimal_k = optimal_k\n",
    "print('\\nThe f1_score of the knn classifier of brute algo for k = %d is %f%%' % (optimal_k, f1_tfidf_brute))"
   ]
  },
  {
   "cell_type": "code",
   "execution_count": 36,
   "metadata": {},
   "outputs": [
    {
     "data": {
      "text/plain": [
       "<matplotlib.axes._subplots.AxesSubplot at 0x62a2f7b048>"
      ]
     },
     "execution_count": 36,
     "metadata": {},
     "output_type": "execute_result"
    },
    {
     "data": {
      "image/png": "[encoded data removed]",
      "text/plain": [
       "<Figure size 432x288 with 2 Axes>"
      ]
     },
     "metadata": {},
     "output_type": "display_data"
    }
   ],
   "source": [
    "skplt.plot_confusion_matrix(y_ts ,pred)"
   ]
  },
  {
   "cell_type": "code",
   "execution_count": 37,
   "metadata": {},
   "outputs": [
    {
     "name": "stdout",
     "output_type": "stream",
     "text": [
      "             precision    recall  f1-score   support\n",
      "\n",
      "   negative       0.13      0.13      0.13       554\n",
      "   positive       0.89      0.89      0.89      4446\n",
      "\n",
      "avg / total       0.81      0.81      0.81      5000\n",
      "\n"
     ]
    }
   ],
   "source": [
    "#classification report\n",
    "print(classification_report(y_ts, pred))"
   ]
  },
  {
   "cell_type": "markdown",
   "metadata": {
    "colab_type": "text",
    "id": "FvLejEvqMQwY"
   },
   "source": [
    "# [7.2.6] Word2Vec train data"
   ]
  },
  {
   "cell_type": "code",
   "execution_count": 38,
   "metadata": {},
   "outputs": [],
   "source": [
    "# Word2Vec for train data\n",
    "# Train your own Word2Vec model using your own text corpus\n",
    "i=0\n",
    "list_of_sent=[]\n",
    "for sent in x_train['CleanedText'].values:\n",
    "    list_of_sent.append(sent.split())"
   ]
  },
  {
   "cell_type": "code",
   "execution_count": 39,
   "metadata": {},
   "outputs": [
    {
     "name": "stdout",
     "output_type": "stream",
     "text": [
      "witti littl book make son laugh loud recit car drive along alway sing refrain hes learn whale india droop love new word book introduc silli classic book will bet son still abl recit memori colleg\n",
      "*****************************************************************\n",
      "['witti', 'littl', 'book', 'make', 'son', 'laugh', 'loud', 'recit', 'car', 'drive', 'along', 'alway', 'sing', 'refrain', 'hes', 'learn', 'whale', 'india', 'droop', 'love', 'new', 'word', 'book', 'introduc', 'silli', 'classic', 'book', 'will', 'bet', 'son', 'still', 'abl', 'recit', 'memori', 'colleg']\n"
     ]
    }
   ],
   "source": [
    "print(x_train['CleanedText'].values[0])\n",
    "print(\"*****************************************************************\")\n",
    "print(list_of_sent[0])"
   ]
  },
  {
   "cell_type": "code",
   "execution_count": 40,
   "metadata": {},
   "outputs": [],
   "source": [
    "# min_count = 5 considers only words that occured atleast 5 times\n",
    "w2v_model=Word2Vec(list_of_sent,min_count=5,size=50, workers=4)"
   ]
  },
  {
   "cell_type": "code",
   "execution_count": 41,
   "metadata": {},
   "outputs": [
    {
     "name": "stdout",
     "output_type": "stream",
     "text": [
      "number of words that occured minimum 5 times  5603\n",
      "sample words  ['littl', 'book', 'make', 'son', 'laugh', 'loud', 'car', 'drive', 'along', 'alway', 'sing', 'hes', 'learn', 'india', 'love', 'new', 'word', 'introduc', 'silli', 'classic', 'will', 'bet', 'still', 'abl', 'memori', 'colleg', 'rememb', 'see', 'show', 'air', 'televis', 'year', 'ago', 'child', 'sister', 'later', 'bought', 'day', 'thirti', 'someth', 'use', 'seri', 'song', 'student', 'teach', 'turn', 'whole', 'school', 'purchas', 'children']\n"
     ]
    }
   ],
   "source": [
    "w2v_words = list(w2v_model.wv.vocab)\n",
    "print(\"number of words that occured minimum 5 times \",len(w2v_words))\n",
    "print(\"sample words \", w2v_words[0:50])"
   ]
  },
  {
   "cell_type": "code",
   "execution_count": 42,
   "metadata": {},
   "outputs": [
    {
     "data": {
      "text/plain": [
       "[('crunchi', 0.8753650188446045),\n",
       " ('satisfi', 0.8572958707809448),\n",
       " ('chewi', 0.8385087251663208),\n",
       " ('nutriti', 0.8355476260185242),\n",
       " ('crispi', 0.834044337272644),\n",
       " ('crisp', 0.8306637406349182),\n",
       " ('yummi', 0.8147004842758179),\n",
       " ('bombay', 0.8044424057006836),\n",
       " ('soft', 0.7914944291114807),\n",
       " ('crunch', 0.7907328605651855)]"
      ]
     },
     "execution_count": 42,
     "metadata": {},
     "output_type": "execute_result"
    }
   ],
   "source": [
    "w2v_model.wv.most_similar('tasti')"
   ]
  },
  {
   "cell_type": "code",
   "execution_count": 43,
   "metadata": {},
   "outputs": [
    {
     "data": {
      "text/plain": [
       "[('real', 0.8213435411453247),\n",
       " ('normal', 0.8042137622833252),\n",
       " ('prefer', 0.7925163507461548),\n",
       " ('isnt', 0.7837004661560059),\n",
       " ('think', 0.7791032791137695),\n",
       " ('bland', 0.7584354877471924),\n",
       " ('sort', 0.7490204572677612),\n",
       " ('weird', 0.7471733689308167),\n",
       " ('arent', 0.7392364740371704),\n",
       " ('horribl', 0.7285444140434265)]"
      ]
     },
     "execution_count": 43,
     "metadata": {},
     "output_type": "execute_result"
    }
   ],
   "source": [
    "w2v_model.wv.most_similar('like')"
   ]
  },
  {
   "cell_type": "code",
   "execution_count": 44,
   "metadata": {},
   "outputs": [
    {
     "name": "stderr",
     "output_type": "stream",
     "text": [
      "100%|███████████████████████████████████| 15000/15000 [00:25<00:00, 580.79it/s]\n"
     ]
    },
    {
     "name": "stdout",
     "output_type": "stream",
     "text": [
      "15000\n",
      "50\n"
     ]
    }
   ],
   "source": [
    "# average Word2Vec\n",
    "# compute average word2vec for each review.\n",
    "sent_vectors = []; # the avg-w2v for each sentence/review is stored in this list\n",
    "for sent in tqdm(list_of_sent): # for each review/sentence\n",
    "    sent_vec = np.zeros(50) # as word vectors are of zero length\n",
    "    cnt_words =0; # num of words with a valid vector in the sentence/review\n",
    "    for word in sent: # for each word in a review/sentence\n",
    "        if word in w2v_words:\n",
    "            vec = w2v_model.wv[word]\n",
    "            sent_vec += vec\n",
    "            cnt_words += 1\n",
    "    if cnt_words != 0:\n",
    "        sent_vec /= cnt_words\n",
    "    sent_vectors.append(sent_vec)\n",
    "print(len(sent_vectors))\n",
    "print(len(sent_vectors[0]))"
   ]
  },
  {
   "cell_type": "markdown",
   "metadata": {},
   "source": [
    "# Word2Vec for cv data"
   ]
  },
  {
   "cell_type": "code",
   "execution_count": 45,
   "metadata": {},
   "outputs": [],
   "source": [
    "# Word2Vec\n",
    "# Train your own Word2Vec model using your own text corpus\n",
    "i=0\n",
    "list_of_sent_cv=[]\n",
    "for sent in x_cv['CleanedText'].values:\n",
    "    list_of_sent_cv.append(sent.split())"
   ]
  },
  {
   "cell_type": "code",
   "execution_count": 46,
   "metadata": {},
   "outputs": [
    {
     "name": "stdout",
     "output_type": "stream",
     "text": [
      "realli good hot beverag tran fat havent tri ice would assum would also good way\n",
      "*****************************************************************\n",
      "['realli', 'good', 'hot', 'beverag', 'tran', 'fat', 'havent', 'tri', 'ice', 'would', 'assum', 'would', 'also', 'good', 'way']\n"
     ]
    }
   ],
   "source": [
    "print(x_cv['CleanedText'].values[0])\n",
    "print(\"*****************************************************************\")\n",
    "print(list_of_sent_cv[0])"
   ]
  },
  {
   "cell_type": "code",
   "execution_count": 47,
   "metadata": {},
   "outputs": [],
   "source": [
    "# min_count = 5 considers only words that occured atleast 5 times\n",
    "w2v_model=Word2Vec(list_of_sent_cv,min_count=5,size=50, workers=4)"
   ]
  },
  {
   "cell_type": "code",
   "execution_count": 48,
   "metadata": {},
   "outputs": [
    {
     "name": "stdout",
     "output_type": "stream",
     "text": [
      "number of words that occured minimum 5 times  2984\n",
      "sample words  ['realli', 'good', 'hot', 'beverag', 'tran', 'fat', 'havent', 'tri', 'ice', 'would', 'assum', 'also', 'way', 'pretzel', 'think', 'box', 'could', 'pack', 'better', 'deliv', 'care', 'mani', 'broken', 'half', 'small', 'piec', 'two', 'plastic', 'partial', 'crush', 'bought', 'grandson', 'celiac', 'eat', 'absolut', 'delici', 'fool', 'friend', 'famili', 'tast', 'much', 'like', 'regular', 'wheat', 'pasta', 'store', 'wonder', 'great', 'product', 'recal']\n"
     ]
    }
   ],
   "source": [
    "w2v_words = list(w2v_model.wv.vocab)\n",
    "print(\"number of words that occured minimum 5 times \",len(w2v_words))\n",
    "print(\"sample words \", w2v_words[0:50])"
   ]
  },
  {
   "cell_type": "code",
   "execution_count": 49,
   "metadata": {},
   "outputs": [
    {
     "data": {
      "text/plain": [
       "[('potato', 0.9988864660263062),\n",
       " ('crunchi', 0.9986565113067627),\n",
       " ('crispi', 0.9983552098274231),\n",
       " ('altern', 0.9982517957687378),\n",
       " ('nut', 0.9981160163879395),\n",
       " ('meal', 0.9980118274688721),\n",
       " ('chip', 0.9978975057601929),\n",
       " ('chewi', 0.9978684782981873),\n",
       " ('veggi', 0.9977338314056396),\n",
       " ('substitut', 0.9977049827575684)]"
      ]
     },
     "execution_count": 49,
     "metadata": {},
     "output_type": "execute_result"
    }
   ],
   "source": [
    "w2v_model.wv.most_similar('tasti')"
   ]
  },
  {
   "cell_type": "code",
   "execution_count": 50,
   "metadata": {},
   "outputs": [
    {
     "data": {
      "text/plain": [
       "[('tast', 0.9885746240615845),\n",
       " ('sweet', 0.9875316023826599),\n",
       " ('strong', 0.9857115149497986),\n",
       " ('bitter', 0.9854695796966553),\n",
       " ('realli', 0.983518660068512),\n",
       " ('chocol', 0.9810254573822021),\n",
       " ('light', 0.9804829359054565),\n",
       " ('hot', 0.9801589846611023),\n",
       " ('flavor', 0.9797714948654175),\n",
       " ('make', 0.9789963960647583)]"
      ]
     },
     "execution_count": 50,
     "metadata": {},
     "output_type": "execute_result"
    }
   ],
   "source": [
    "w2v_model.wv.most_similar('like')"
   ]
  },
  {
   "cell_type": "code",
   "execution_count": 51,
   "metadata": {},
   "outputs": [
    {
     "name": "stderr",
     "output_type": "stream",
     "text": [
      "100%|█████████████████████████████████████| 5000/5000 [00:05<00:00, 959.87it/s]\n"
     ]
    },
    {
     "name": "stdout",
     "output_type": "stream",
     "text": [
      "5000\n",
      "50\n"
     ]
    }
   ],
   "source": [
    "sent_vectors = []; # the avg-w2v for each sentence/review is stored in this list\n",
    "for sent in tqdm(list_of_sent_cv): # for each review/sentence\n",
    "    sent_vec = np.zeros(50) # as word vectors are of zero length\n",
    "    cnt_words =0; # num of words with a valid vector in the sentence/review\n",
    "    for word in sent: # for each word in a review/sentence\n",
    "        if word in w2v_words:\n",
    "            vec = w2v_model.wv[word]\n",
    "            sent_vec += vec\n",
    "            cnt_words += 1\n",
    "    if cnt_words != 0:\n",
    "        sent_vec /= cnt_words\n",
    "    sent_vectors.append(sent_vec)\n",
    "print(len(sent_vectors))\n",
    "print(len(sent_vectors[0]))"
   ]
  },
  {
   "cell_type": "markdown",
   "metadata": {},
   "source": [
    "# Word2Vec for test data"
   ]
  },
  {
   "cell_type": "code",
   "execution_count": 52,
   "metadata": {},
   "outputs": [],
   "source": [
    "# Word2Vec\n",
    "# Train your own Word2Vec model using your own text corpus\n",
    "i=0\n",
    "list_of_sent_ts=[]\n",
    "for sent in x_ts['CleanedText'].values:\n",
    "    list_of_sent_ts.append(sent.split())"
   ]
  },
  {
   "cell_type": "code",
   "execution_count": 53,
   "metadata": {},
   "outputs": [
    {
     "name": "stdout",
     "output_type": "stream",
     "text": [
      "german chocol tickl buy everi xmas smooth rich eleg arriv day thank\n",
      "*****************************************************************\n",
      "['german', 'chocol', 'tickl', 'buy', 'everi', 'xmas', 'smooth', 'rich', 'eleg', 'arriv', 'day', 'thank']\n"
     ]
    }
   ],
   "source": [
    "print(x_ts['CleanedText'].values[0])\n",
    "print(\"*****************************************************************\")\n",
    "print(list_of_sent_ts[0])"
   ]
  },
  {
   "cell_type": "code",
   "execution_count": 54,
   "metadata": {},
   "outputs": [],
   "source": [
    "# min_count = 5 considers only words that occured atleast 5 times\n",
    "w2v_model=Word2Vec(list_of_sent_ts,min_count=5,size=50, workers=4)"
   ]
  },
  {
   "cell_type": "code",
   "execution_count": 55,
   "metadata": {},
   "outputs": [
    {
     "name": "stdout",
     "output_type": "stream",
     "text": [
      "number of words that occured minimum 5 times  2905\n",
      "sample words  ['german', 'chocol', 'buy', 'everi', 'xmas', 'smooth', 'rich', 'eleg', 'arriv', 'day', 'thank', 'salt', 'separ', 'rice', 'someth', 'weird', 'happen', 'product', 'sit', 'top', 'tast', 'wick', 'terribl', 'either', 'folk', 'enjoy', 'dont', 'know', 'sushi', 'suppos', 'like', 'shipment', 'got', 'ruin', 'wont', 'order', 'ever', 'discov', 'sauc', 'restaur', 'search', 'everywher', 'garlic', 'avail', 'final', 'found', 'amazon', 'spici', 'doesnt', 'burn']\n"
     ]
    }
   ],
   "source": [
    "w2v_words = list(w2v_model.wv.vocab)\n",
    "print(\"number of words that occured minimum 5 times \",len(w2v_words))\n",
    "print(\"sample words \", w2v_words[0:50])"
   ]
  },
  {
   "cell_type": "code",
   "execution_count": 56,
   "metadata": {},
   "outputs": [
    {
     "data": {
      "text/plain": [
       "[('crunch', 0.9992246627807617),\n",
       " ('creami', 0.9990120530128479),\n",
       " ('crunchi', 0.998974084854126),\n",
       " ('salti', 0.9989132285118103),\n",
       " ('salad', 0.9989044666290283),\n",
       " ('aftertast', 0.998854398727417),\n",
       " ('substitut', 0.9988285303115845),\n",
       " ('mapl', 0.998788595199585),\n",
       " ('toast', 0.9987733960151672),\n",
       " ('nut', 0.998724102973938)]"
      ]
     },
     "execution_count": 56,
     "metadata": {},
     "output_type": "execute_result"
    }
   ],
   "source": [
    "w2v_model.wv.most_similar('tasti')"
   ]
  },
  {
   "cell_type": "code",
   "execution_count": 57,
   "metadata": {},
   "outputs": [
    {
     "data": {
      "text/plain": [
       "[('tast', 0.9932795763015747),\n",
       " ('sweet', 0.9917718172073364),\n",
       " ('flavor', 0.9894028902053833),\n",
       " ('chocol', 0.9876375198364258),\n",
       " ('strong', 0.9838699102401733),\n",
       " ('hot', 0.9814661145210266),\n",
       " ('milk', 0.9799574017524719),\n",
       " ('bitter', 0.9756320714950562),\n",
       " ('dark', 0.9754601716995239),\n",
       " ('drink', 0.9754283428192139)]"
      ]
     },
     "execution_count": 57,
     "metadata": {},
     "output_type": "execute_result"
    }
   ],
   "source": [
    "w2v_model.wv.most_similar('like')"
   ]
  },
  {
   "cell_type": "code",
   "execution_count": 58,
   "metadata": {},
   "outputs": [
    {
     "name": "stderr",
     "output_type": "stream",
     "text": [
      "100%|████████████████████████████████████| 5000/5000 [00:04<00:00, 1013.99it/s]\n"
     ]
    },
    {
     "name": "stdout",
     "output_type": "stream",
     "text": [
      "5000\n",
      "50\n"
     ]
    }
   ],
   "source": [
    "sent_vectors = []; # the avg-w2v for each sentence/review is stored in this list\n",
    "for sent in tqdm(list_of_sent_ts): # for each review/sentence\n",
    "    sent_vec = np.zeros(50) # as word vectors are of zero length\n",
    "    cnt_words =0; # num of words with a valid vector in the sentence/review\n",
    "    for word in sent: # for each word in a review/sentence\n",
    "        if word in w2v_words:\n",
    "            vec = w2v_model.wv[word]\n",
    "            sent_vec += vec\n",
    "            cnt_words += 1\n",
    "    if cnt_words != 0:\n",
    "        sent_vec /= cnt_words\n",
    "    sent_vectors.append(sent_vec)\n",
    "print(len(sent_vectors))\n",
    "print(len(sent_vectors[0]))"
   ]
  },
  {
   "cell_type": "code",
   "execution_count": null,
   "metadata": {},
   "outputs": [],
   "source": []
  },
  {
   "cell_type": "code",
   "execution_count": 59,
   "metadata": {},
   "outputs": [
    {
     "name": "stdout",
     "output_type": "stream",
     "text": [
      "the type of count vectorizer  <class 'scipy.sparse.csr.csr_matrix'>\n",
      "the shape of out text TFIDF vectorizer  (15000, 16311)\n",
      "the number of unique words including both unigrams and bigrams  16311\n",
      "the type of count vectorizer  <class 'scipy.sparse.csr.csr_matrix'>\n",
      "the shape of out text TFIDF vectorizer  (5000, 9086)\n",
      "the number of unique words including both unigrams and bigrams  9086\n",
      "the type of count vectorizer  <class 'scipy.sparse.csr.csr_matrix'>\n",
      "the shape of out text TFIDF vectorizer  (5000, 8627)\n",
      "the number of unique words including both unigrams and bigrams  8627\n"
     ]
    }
   ],
   "source": [
    "# S = [\"abc def pqr\", \"def def def abc\", \"pqr pqr def\"]\n",
    "model = TfidfVectorizer()\n",
    "x_tr_final_counts = model.fit_transform(x_train['CleanedText'].values)\n",
    "x_cv_final_counts = model.fit_transform(x_cv['CleanedText'].values)\n",
    "x_ts_final_counts = model.fit_transform(x_ts['CleanedText'].values)\n",
    "# we are converting a dictionary with word as a key, and the idf as a value\n",
    "dictionary = dict(zip(model.get_feature_names(), list(model.idf_)))\n",
    "\n",
    "print(\"the type of count vectorizer \",type(x_tr_final_counts))\n",
    "print(\"the shape of out text TFIDF vectorizer \",x_tr_final_counts.get_shape())\n",
    "print(\"the number of unique words including both unigrams and bigrams \", x_tr_final_counts.get_shape()[1])\n",
    "\n",
    "print(\"the type of count vectorizer \",type(x_cv_final_counts))\n",
    "print(\"the shape of out text TFIDF vectorizer \",x_cv_final_counts.get_shape())\n",
    "print(\"the number of unique words including both unigrams and bigrams \", x_cv_final_counts.get_shape()[1])\n",
    "\n",
    "print(\"the type of count vectorizer \",type(x_ts_final_counts))\n",
    "print(\"the shape of out text TFIDF vectorizer \",x_ts_final_counts.get_shape())\n",
    "print(\"the number of unique words including both unigrams and bigrams \", x_ts_final_counts.get_shape()[1])\n"
   ]
  },
  {
   "cell_type": "code",
   "execution_count": 60,
   "metadata": {},
   "outputs": [
    {
     "data": {
      "image/png": "[encoded data removed]",
      "text/plain": [
       "<Figure size 432x288 with 1 Axes>"
      ]
     },
     "metadata": {},
     "output_type": "display_data"
    }
   ],
   "source": [
    "# dimenstionality reduction for word2vec train data\n",
    "c = sc.fit_transform(x_tr_final_counts)\n",
    "truncatesvd_reduction(c)"
   ]
  },
  {
   "cell_type": "markdown",
   "metadata": {},
   "source": [
    "Here 500 components explain 80% of the variation in word2vec train data"
   ]
  },
  {
   "cell_type": "code",
   "execution_count": 61,
   "metadata": {},
   "outputs": [
    {
     "data": {
      "text/plain": [
       "(15000, 500)"
      ]
     },
     "execution_count": 61,
     "metadata": {},
     "output_type": "execute_result"
    }
   ],
   "source": [
    "svd = TruncatedSVD(n_components=500)\n",
    "x_tr_dataset = svd.fit_transform(c)\n",
    "x_tr_dataset.shape"
   ]
  },
  {
   "cell_type": "code",
   "execution_count": 62,
   "metadata": {},
   "outputs": [
    {
     "data": {
      "image/png": "[encoded data removed]",
      "text/plain": [
       "<Figure size 432x288 with 1 Axes>"
      ]
     },
     "metadata": {},
     "output_type": "display_data"
    }
   ],
   "source": [
    "# dimenstionality reduction for word2vec cross validated data\n",
    "c = sc.fit_transform(x_cv_final_counts)\n",
    "truncatesvd_reduction(c)"
   ]
  },
  {
   "cell_type": "markdown",
   "metadata": {},
   "source": [
    "Here 500 components explain 80% of the variation in word2vec cross validated data"
   ]
  },
  {
   "cell_type": "code",
   "execution_count": 63,
   "metadata": {},
   "outputs": [
    {
     "data": {
      "text/plain": [
       "(5000, 500)"
      ]
     },
     "execution_count": 63,
     "metadata": {},
     "output_type": "execute_result"
    }
   ],
   "source": [
    "svd = TruncatedSVD(n_components=500)\n",
    "x_cv_dataset = svd.fit_transform(c)\n",
    "x_cv_dataset.shape\n"
   ]
  },
  {
   "cell_type": "code",
   "execution_count": 64,
   "metadata": {},
   "outputs": [
    {
     "data": {
      "image/png": "[encoded data removed]",
      "text/plain": [
       "<Figure size 432x288 with 1 Axes>"
      ]
     },
     "metadata": {},
     "output_type": "display_data"
    }
   ],
   "source": [
    "# dimenstionality reduction for word2vec test data\n",
    "c = sc.fit_transform(x_ts_final_counts)\n",
    "truncatesvd_reduction(c)\n"
   ]
  },
  {
   "cell_type": "markdown",
   "metadata": {},
   "source": [
    "Here 500 components explain 80% of the variation in word2vec test data"
   ]
  },
  {
   "cell_type": "code",
   "execution_count": 65,
   "metadata": {},
   "outputs": [
    {
     "data": {
      "text/plain": [
       "(5000, 500)"
      ]
     },
     "execution_count": 65,
     "metadata": {},
     "output_type": "execute_result"
    }
   ],
   "source": [
    "svd = TruncatedSVD(n_components=500)\n",
    "x_ts_dataset = svd.fit_transform(c)\n",
    "x_ts_dataset.shape"
   ]
  },
  {
   "cell_type": "code",
   "execution_count": 66,
   "metadata": {},
   "outputs": [
    {
     "name": "stdout",
     "output_type": "stream",
     "text": [
      "(15000, 500)\n",
      "(5000, 500)\n",
      "(5000, 500)\n",
      "(15000,)\n",
      "(5000,)\n",
      "(5000,)\n"
     ]
    }
   ],
   "source": [
    "\n",
    "print(x_tr_dataset.shape)\n",
    "print(x_cv_dataset.shape)\n",
    "print(x_ts_dataset.shape)\n",
    "print(y_train.shape)\n",
    "print(y_cv.shape)\n",
    "print(y_ts.shape)"
   ]
  },
  {
   "cell_type": "code",
   "execution_count": 67,
   "metadata": {},
   "outputs": [
    {
     "name": "stdout",
     "output_type": "stream",
     "text": [
      "optimal_k is:- 4\n"
     ]
    },
    {
     "data": {
      "image/png": "[encoded data removed]",
      "text/plain": [
       "<Figure size 432x288 with 1 Axes>"
      ]
     },
     "metadata": {},
     "output_type": "display_data"
    }
   ],
   "source": [
    "# Finding Optimal K by simple Cross validation¶ by kd- tree algo \n",
    "\n",
    "\n",
    "optimal_k = find_optimal_k_kdtree(x_tr_dataset,y_train,x_cv_dataset,y_cv)\n"
   ]
  },
  {
   "cell_type": "code",
   "execution_count": 68,
   "metadata": {},
   "outputs": [
    {
     "name": "stdout",
     "output_type": "stream",
     "text": [
      "\n",
      "The f1_score of the knn classifier of KDtree algo for k = 4 is 49.606452%\n"
     ]
    }
   ],
   "source": [
    "from sklearn.metrics import f1_score\n",
    "# ============================== KNN with k = optimal_k ===============================================\n",
    "# instantiate learning model k = optimal_k\n",
    "\n",
    "knn_optimal = KNeighborsClassifier(n_neighbors = optimal_k)\n",
    "\n",
    "# fitting the model\n",
    "knn_optimal.fit(x_tr_dataset, y_train)\n",
    "\n",
    "# predict the response\n",
    "pred = knn_optimal.predict(x_ts_dataset)\n",
    "\n",
    "# evaluate f1_score\n",
    "f1_w2c_kdtree = f1_score(y_ts, pred, average='macro') * float(100)\n",
    "f1_w2c_kdtree_optimal_k = optimal_k\n",
    "print('\\nThe f1_score of the knn classifier of KDtree algo for k = %d is %f%%' % (optimal_k, f1_w2c_kdtree))\n",
    "\n",
    "\n",
    "\n"
   ]
  },
  {
   "cell_type": "code",
   "execution_count": 69,
   "metadata": {},
   "outputs": [
    {
     "data": {
      "text/plain": [
       "<matplotlib.axes._subplots.AxesSubplot at 0x62a2f7b198>"
      ]
     },
     "execution_count": 69,
     "metadata": {},
     "output_type": "execute_result"
    },
    {
     "data": {
      "image/png": "[encoded data removed]",
      "text/plain": [
       "<Figure size 432x288 with 2 Axes>"
      ]
     },
     "metadata": {},
     "output_type": "display_data"
    }
   ],
   "source": [
    "skplt.plot_confusion_matrix(y_ts,pred)\n"
   ]
  },
  {
   "cell_type": "code",
   "execution_count": 70,
   "metadata": {},
   "outputs": [
    {
     "name": "stdout",
     "output_type": "stream",
     "text": [
      "             precision    recall  f1-score   support\n",
      "\n",
      "   negative       0.11      0.20      0.15       554\n",
      "   positive       0.89      0.81      0.85      4446\n",
      "\n",
      "avg / total       0.80      0.74      0.77      5000\n",
      "\n"
     ]
    }
   ],
   "source": [
    "#classification report\n",
    "print(classification_report(y_ts, pred))"
   ]
  },
  {
   "cell_type": "code",
   "execution_count": 71,
   "metadata": {},
   "outputs": [
    {
     "name": "stdout",
     "output_type": "stream",
     "text": [
      "optimal_k is:- 4\n"
     ]
    },
    {
     "data": {
      "image/png": "[encoded data removed]",
      "text/plain": [
       "<Figure size 432x288 with 1 Axes>"
      ]
     },
     "metadata": {},
     "output_type": "display_data"
    }
   ],
   "source": [
    " # Finding Optimal K by simple Cross validation¶ by brute algo \n",
    "\n",
    "optimal_k = find_optimal_k_brute(x_tr_dataset ,y_train,x_cv_dataset,y_cv)\n",
    "\n"
   ]
  },
  {
   "cell_type": "code",
   "execution_count": 72,
   "metadata": {},
   "outputs": [
    {
     "name": "stdout",
     "output_type": "stream",
     "text": [
      "\n",
      "The accuracy of the knn classifier of brute algo for k = 4 is 49.606452%\n"
     ]
    }
   ],
   "source": [
    "\n",
    "from sklearn.metrics import f1_score\n",
    "# ============================== KNN with k = optimal_k ===============================================\n",
    "# instantiate learning model k = optimal_k\n",
    "\n",
    "knn_optimal = KNeighborsClassifier(n_neighbors = optimal_k)\n",
    "\n",
    "# fitting the model\n",
    "knn_optimal.fit(x_tr_dataset, y_train)\n",
    "\n",
    "# predict the response\n",
    "pred = knn_optimal.predict(x_ts_dataset)\n",
    "\n",
    "# evaluate accuracy\n",
    "f1_w2c_brute = f1_score(y_ts, pred, average='macro') * float(100)\n",
    "f1_w2c_brute_optimal_k = optimal_k\n",
    "print('\\nThe accuracy of the knn classifier of brute algo for k = %d is %f%%' % (optimal_k, f1_w2c_brute))\n",
    "\n",
    "\n"
   ]
  },
  {
   "cell_type": "code",
   "execution_count": 74,
   "metadata": {},
   "outputs": [
    {
     "data": {
      "text/plain": [
       "<matplotlib.axes._subplots.AxesSubplot at 0x62bbbadfd0>"
      ]
     },
     "execution_count": 74,
     "metadata": {},
     "output_type": "execute_result"
    },
    {
     "data": {
      "image/png": "[encoded data removed]",
      "text/plain": [
       "<Figure size 432x288 with 2 Axes>"
      ]
     },
     "metadata": {},
     "output_type": "display_data"
    }
   ],
   "source": [
    "\n",
    "skplt.plot_confusion_matrix(y_ts ,pred)\n"
   ]
  },
  {
   "cell_type": "code",
   "execution_count": 75,
   "metadata": {},
   "outputs": [
    {
     "name": "stdout",
     "output_type": "stream",
     "text": [
      "             precision    recall  f1-score   support\n",
      "\n",
      "   negative       0.11      0.20      0.15       554\n",
      "   positive       0.89      0.81      0.85      4446\n",
      "\n",
      "avg / total       0.80      0.74      0.77      5000\n",
      "\n"
     ]
    }
   ],
   "source": [
    "#classification report\n",
    "print(classification_report(y_ts, pred))"
   ]
  },
  {
   "cell_type": "code",
   "execution_count": 79,
   "metadata": {},
   "outputs": [
    {
     "name": "stderr",
     "output_type": "stream",
     "text": [
      "100%|███████████████████████████████████| 15000/15000 [00:23<00:00, 626.98it/s]\n"
     ]
    }
   ],
   "source": [
    "# TF-IDF weighted Word2Vec\n",
    "#tfidf_feats = model.get_feature_names() # tfidf words/col-names\n",
    "# final_tf_idf is the sparse matrix with row= sentence, col=word and cell_val = tfidf\n",
    "\n",
    "tfidf_sent_vectors = []; # the tfidf-w2v for each sentence/review is stored in this list\n",
    "row=0;\n",
    "for sent in tqdm(list_of_sent): # for each review/sentence \n",
    "    sent_vec = np.zeros(50) # as word vectors are of zero length\n",
    "    weight_sum =0; # num of words with a valid vector in the sentence/review\n",
    "    for word in sent: # for each word in a review/sentence\n",
    "        if word in w2v_words:\n",
    "            vec = w2v_model.wv[word]\n",
    "#             tf_idf = tf_idf_matrix[row, tfidf_feat.index(word)]\n",
    "            # to reduce the computation we are \n",
    "            # dictionary[word] = idf value of word in whole courpus\n",
    "            # sent.count(word) = tf valeus of word in this review\n",
    "            tf_idf = dictionary[word]*(sent.count(word)/len(sent))\n",
    "            sent_vec += (vec * tf_idf)\n",
    "            weight_sum += tf_idf\n",
    "    if weight_sum != 0:\n",
    "        sent_vec /= weight_sum\n",
    "    tfidf_sent_vectors.append(sent_vec)\n",
    "    row += 1"
   ]
  },
  {
   "cell_type": "code",
   "execution_count": 80,
   "metadata": {},
   "outputs": [
    {
     "name": "stderr",
     "output_type": "stream",
     "text": [
      "100%|█████████████████████████████████████| 5000/5000 [00:07<00:00, 681.29it/s]\n"
     ]
    }
   ],
   "source": [
    "# TF-IDF weighted Word2Vec\n",
    "#tfidf_feats = model.get_feature_names() # tfidf words/col-names\n",
    "# final_tf_idf is the sparse matrix with row= sentence, col=word and cell_val = tfidf\n",
    "\n",
    "tfidf_sent_vectors1 = []; # the tfidf-w2v for each sentence/review is stored in this list\n",
    "row=0;\n",
    "for sent in tqdm(list_of_sent_cv): # for each review/sentence \n",
    "    sent_vec = np.zeros(50) # as word vectors are of zero length\n",
    "    weight_sum =0; # num of words with a valid vector in the sentence/review\n",
    "    for word in sent: # for each word in a review/sentence\n",
    "        if word in w2v_words:\n",
    "            vec = w2v_model.wv[word]\n",
    "#             tf_idf = tf_idf_matrix[row, tfidf_feat.index(word)]\n",
    "            # to reduce the computation we are \n",
    "            # dictionary[word] = idf value of word in whole courpus\n",
    "            # sent.count(word) = tf valeus of word in this review\n",
    "            tf_idf = dictionary[word]*(sent.count(word)/len(sent))\n",
    "            sent_vec += (vec * tf_idf)\n",
    "            weight_sum += tf_idf\n",
    "    if weight_sum != 0:\n",
    "        sent_vec /= weight_sum\n",
    "    tfidf_sent_vectors1.append(sent_vec)\n",
    "    row += 1"
   ]
  },
  {
   "cell_type": "code",
   "execution_count": 81,
   "metadata": {},
   "outputs": [
    {
     "name": "stderr",
     "output_type": "stream",
     "text": [
      "100%|█████████████████████████████████████| 5000/5000 [00:07<00:00, 706.43it/s]\n"
     ]
    }
   ],
   "source": [
    "# TF-IDF weighted Word2Vec\n",
    "#tfidf_feats = model.get_feature_names() # tfidf words/col-names\n",
    "# final_tf_idf is the sparse matrix with row= sentence, col=word and cell_val = tfidf\n",
    "\n",
    "tfidf_sent_vectors2 = []; # the tfidf-w2v for each sentence/review is stored in this list\n",
    "row=0;\n",
    "for sent in tqdm(list_of_sent_ts): # for each review/sentence \n",
    "    sent_vec = np.zeros(50) # as word vectors are of zero length\n",
    "    weight_sum =0; # num of words with a valid vector in the sentence/review\n",
    "    for word in sent: # for each word in a review/sentence\n",
    "        if word in w2v_words:\n",
    "            vec = w2v_model.wv[word]\n",
    "#             tf_idf = tf_idf_matrix[row, tfidf_feat.index(word)]\n",
    "            # to reduce the computation we are \n",
    "            # dictionary[word] = idf value of word in whole courpus\n",
    "            # sent.count(word) = tf valeus of word in this review\n",
    "            tf_idf = dictionary[word]*(sent.count(word)/len(sent))\n",
    "            sent_vec += (vec * tf_idf)\n",
    "            weight_sum += tf_idf\n",
    "    if weight_sum != 0:\n",
    "        sent_vec /= weight_sum\n",
    "    tfidf_sent_vectors2.append(sent_vec)\n",
    "    row += 1"
   ]
  },
  {
   "cell_type": "code",
   "execution_count": 82,
   "metadata": {},
   "outputs": [],
   "source": [
    "x_tr_final_counts =  tfidf_sent_vectors\n",
    "x_cv_final_counts = tfidf_sent_vectors1\n",
    "x_ts_final_counts = tfidf_sent_vectors2\n"
   ]
  },
  {
   "cell_type": "code",
   "execution_count": 83,
   "metadata": {},
   "outputs": [
    {
     "name": "stdout",
     "output_type": "stream",
     "text": [
      "optimal_k is:- 1\n"
     ]
    },
    {
     "data": {
      "image/png": "[encoded data removed]",
      "text/plain": [
       "<Figure size 432x288 with 1 Axes>"
      ]
     },
     "metadata": {},
     "output_type": "display_data"
    }
   ],
   "source": [
    "# Finding Optimal K by simple Cross validation¶ by kd- tree algo \n",
    "\n",
    "optimal_k = find_optimal_k_kdtree(x_tr_final_counts,y_train,x_cv_final_counts,y_cv)\n"
   ]
  },
  {
   "cell_type": "code",
   "execution_count": 84,
   "metadata": {},
   "outputs": [
    {
     "name": "stdout",
     "output_type": "stream",
     "text": [
      "\n",
      "The accuracy of the knn classifier of KDtree algo for k = 1 is 48.942989%\n"
     ]
    }
   ],
   "source": [
    "from sklearn.metrics import f1_score\n",
    "# ============================== KNN with k = optimal_k ===============================================\n",
    "# instantiate learning model k = optimal_k\n",
    "\n",
    "knn_optimal = KNeighborsClassifier(n_neighbors = optimal_k)\n",
    "\n",
    "# fitting the model\n",
    "knn_optimal.fit(x_tr_final_counts, y_train)\n",
    "\n",
    "# predict the response\n",
    "pred = knn_optimal.predict(x_ts_final_counts)\n",
    "\n",
    "# evaluate accuracy\n",
    "f1_tfidf_w2c_kdtree = f1_score(y_ts, pred, average='macro') * float(100)\n",
    "f1_tfidf_w2c_kdtree_optimal_k = optimal_k\n",
    "print('\\nThe accuracy of the knn classifier of KDtree algo for k = %d is %f%%' % (optimal_k, f1_tfidf_w2c_kdtree))\n",
    "\n",
    "\n"
   ]
  },
  {
   "cell_type": "code",
   "execution_count": 86,
   "metadata": {},
   "outputs": [
    {
     "data": {
      "text/plain": [
       "<matplotlib.axes._subplots.AxesSubplot at 0x62c4c53390>"
      ]
     },
     "execution_count": 86,
     "metadata": {},
     "output_type": "execute_result"
    },
    {
     "data": {
      "image/png": "[encoded data removed]",
      "text/plain": [
       "<Figure size 432x288 with 2 Axes>"
      ]
     },
     "metadata": {},
     "output_type": "display_data"
    }
   ],
   "source": [
    "skplt.plot_confusion_matrix(y_ts ,pred)"
   ]
  },
  {
   "cell_type": "code",
   "execution_count": 87,
   "metadata": {},
   "outputs": [
    {
     "name": "stdout",
     "output_type": "stream",
     "text": [
      "             precision    recall  f1-score   support\n",
      "\n",
      "   negative       0.09      0.09      0.09       554\n",
      "   positive       0.89      0.88      0.89      4446\n",
      "\n",
      "avg / total       0.80      0.80      0.80      5000\n",
      "\n"
     ]
    }
   ],
   "source": [
    "#classification report\n",
    "print(classification_report(y_ts, pred))"
   ]
  },
  {
   "cell_type": "code",
   "execution_count": 89,
   "metadata": {},
   "outputs": [
    {
     "name": "stdout",
     "output_type": "stream",
     "text": [
      "optimal_k is:- 1\n"
     ]
    },
    {
     "data": {
      "image/png": "[encoded data removed]",
      "text/plain": [
       "<Figure size 432x288 with 1 Axes>"
      ]
     },
     "metadata": {},
     "output_type": "display_data"
    }
   ],
   "source": [
    "# Finding Optimal K by simple Cross validation¶ by brute algo \n",
    "\n",
    "optimal_k = find_optimal_k_brute(x_tr_final_counts,y_train,x_cv_final_counts,y_cv)\n"
   ]
  },
  {
   "cell_type": "code",
   "execution_count": 91,
   "metadata": {},
   "outputs": [
    {
     "name": "stdout",
     "output_type": "stream",
     "text": [
      "\n",
      "The accuracy of the knn classifier of brute algo for k = 1 is 48.942989%\n"
     ]
    }
   ],
   "source": [
    "from sklearn.metrics import f1_score\n",
    "# ============================== KNN with k = optimal_k ===============================================\n",
    "# instantiate learning model k = optimal_k\n",
    "\n",
    "knn_optimal = KNeighborsClassifier(n_neighbors = optimal_k)\n",
    "\n",
    "# fitting the model\n",
    "knn_optimal.fit(x_tr_final_counts, y_train)\n",
    "\n",
    "# predict the response\n",
    "pred = knn_optimal.predict(x_ts_final_counts)\n",
    "\n",
    "# evaluate accuracy\n",
    "f1_tfidf_w2c_brute = f1_score(y_ts, pred, average='macro') * float(100)\n",
    "f1_tfidf_w2c_brute_optimal_k = optimal_k\n",
    "print('\\nThe accuracy of the knn classifier of brute algo for k = %d is %f%%' % (optimal_k, f1_tfidf_w2c_brute))"
   ]
  },
  {
   "cell_type": "code",
   "execution_count": 92,
   "metadata": {},
   "outputs": [
    {
     "data": {
      "text/plain": [
       "<matplotlib.axes._subplots.AxesSubplot at 0x62dcf7a1d0>"
      ]
     },
     "execution_count": 92,
     "metadata": {},
     "output_type": "execute_result"
    },
    {
     "data": {
      "image/png": "[encoded data removed]",
      "text/plain": [
       "<Figure size 432x288 with 2 Axes>"
      ]
     },
     "metadata": {},
     "output_type": "display_data"
    }
   ],
   "source": [
    "skplt.plot_confusion_matrix(y_ts ,pred)"
   ]
  },
  {
   "cell_type": "code",
   "execution_count": 93,
   "metadata": {},
   "outputs": [
    {
     "name": "stdout",
     "output_type": "stream",
     "text": [
      "             precision    recall  f1-score   support\n",
      "\n",
      "   negative       0.09      0.09      0.09       554\n",
      "   positive       0.89      0.88      0.89      4446\n",
      "\n",
      "avg / total       0.80      0.80      0.80      5000\n",
      "\n"
     ]
    }
   ],
   "source": [
    "#classification report\n",
    "print(classification_report(y_ts, pred))"
   ]
  },
  {
   "cell_type": "code",
   "execution_count": 100,
   "metadata": {},
   "outputs": [
    {
     "name": "stdout",
     "output_type": "stream",
     "text": [
      "+-----------------+---------+-------------------+--------------------+\n",
      "|    Vectorizer   |  Model  | hyperparameter(k) |      F1_Score      |\n",
      "+-----------------+---------+-------------------+--------------------+\n",
      "|       BOW       | KD-Tree |         2         |     50.761934      |\n",
      "|       BOW       |  Brute  |         2         |     50.761934      |\n",
      "|      TF-IDF     | KD-Tree |         1         | 51.053415620344744 |\n",
      "|      TF-IDF     |  Brute  |         1         | 51.053415620344744 |\n",
      "|     Word2Vec    | KD-Tree |         4         | 49.60645242557704  |\n",
      "|     Word2Vec    |  Brute  |         4         | 49.60645242557704  |\n",
      "|  TFIDF Word2Vec | KD-Tree |         1         | 48.942988955975764 |\n",
      "|  TFIDF Word2Vec |  Brute  |         1         | 48.942988955975764 |\n",
      "+-----------------+---------+-------------------+--------------------+\n"
     ]
    }
   ],
   "source": [
    "from prettytable import PrettyTable\n",
    "x = PrettyTable()\n",
    "x.field_names = [\"Vectorizer\", \"Model\",\"hyperparameter(k)\",\"F1_Score\"]\n",
    "x.add_row([\"BOW\",\"KD-Tree\",f1_bowt_kdtree_optimal_k,f1_bowt_kdtree])\n",
    "x.add_row([\"BOW\",\"Brute\",f1_bowt_brute_optimal_k,f1_bowt_brute])\n",
    "x.add_row([\"TF-IDF\",\"KD-Tree\",f1_tfidf_kdtree_optimal_k,f1_tfidf_kdtree])\n",
    "x.add_row([\"TF-IDF\",\"Brute\",f1_tfidf_brute_optimal_k,f1_tfidf_brute])\n",
    "x.add_row([\"Word2Vec\",\"KD-Tree\",f1_w2c_kdtree_optimal_k,f1_w2c_kdtree])\n",
    "x.add_row([\"Word2Vec\",\"Brute\",f1_w2c_brute_optimal_k,f1_w2c_brute])\n",
    "x.add_row([\" TFIDF Word2Vec\",\"KD-Tree\",f1_tfidf_w2c_kdtree_optimal_k,f1_tfidf_w2c_kdtree])\n",
    "x.add_row([\"TFIDF Word2Vec\",\"Brute\",f1_tfidf_w2c_brute_optimal_k,f1_tfidf_w2c_brute])\n",
    "print(x)"
   ]
  },
  {
   "cell_type": "markdown",
   "metadata": {},
   "source": [
    "As per the above chart observation, \"word2vec KD-tree\" and \"word2vec Brute\" is well fit. others Bow , TF-IDF and TFIDF word2vec models are underfit. so we will consider \"Word2vec KD-tree\" and \"Word2vec brute\" model for classification positve and negative datapoints with hyperparameter 4.  "
   ]
  },
  {
   "cell_type": "code",
   "execution_count": null,
   "metadata": {},
   "outputs": [],
   "source": []
  }
 ],
 "metadata": {
  "colab": {
   "collapsed_sections": [
    "0Zhvc5AMMQwD"
   ],
   "name": "Amazon Fine Food Reviews Analysis.ipynb",
   "provenance": [],
   "version": "0.3.2"
  },
  "kernelspec": {
   "display_name": "Python 3",
   "language": "python",
   "name": "python3"
  },
  "language_info": {
   "codemirror_mode": {
    "name": "ipython",
    "version": 3
   },
   "file_extension": ".py",
   "mimetype": "text/x-python",
   "name": "python",
   "nbconvert_exporter": "python",
   "pygments_lexer": "ipython3",
   "version": "3.6.5"
  }
 },
 "nbformat": 4,
 "nbformat_minor": 1
}
