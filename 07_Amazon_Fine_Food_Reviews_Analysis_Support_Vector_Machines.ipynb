{
 "cells": [
  {
   "cell_type": "markdown",
   "metadata": {},
   "source": [
    "# Amazon Fine Food Reviews Analysis\n",
    "\n",
    "\n",
    "Data Source: https://www.kaggle.com/snap/amazon-fine-food-reviews <br>\n",
    "\n",
    "EDA: https://nycdatascience.com/blog/student-works/amazon-fine-foods-visualization/\n",
    "\n",
    "\n",
    "The Amazon Fine Food Reviews dataset consists of reviews of fine foods from Amazon.<br>\n",
    "\n",
    "Number of reviews: 568,454<br>\n",
    "Number of users: 256,059<br>\n",
    "Number of products: 74,258<br>\n",
    "Timespan: Oct 1999 - Oct 2012<br>\n",
    "Number of Attributes/Columns in data: 10 \n",
    "\n",
    "Attribute Information:\n",
    "\n",
    "1. Id\n",
    "2. ProductId - unique identifier for the product\n",
    "3. UserId - unqiue identifier for the user\n",
    "4. ProfileName\n",
    "5. HelpfulnessNumerator - number of users who found the review helpful\n",
    "6. HelpfulnessDenominator - number of users who indicated whether they found the review helpful or not\n",
    "7. Score - rating between 1 and 5\n",
    "8. Time - timestamp for the review\n",
    "9. Summary - brief summary of the review\n",
    "10. Text - text of the review\n",
    "\n",
    "\n",
    "#### Objective:\n",
    "Given a review, determine whether the review is positive (rating of 4 or 5) or negative (rating of 1 or 2).\n",
    "\n",
    "<br>\n",
    "[Q] How to determine if a review is positive or negative?<br>\n",
    "<br> \n",
    "[Ans] We could use Score/Rating. A rating of 4 or 5 can be cosnidered as a positive review. A rating of 1 or 2 can be considered as negative one. A review of rating 3 is considered nuetral and such reviews are ignored from our analysis. This is an approximate and proxy way of determining the polarity (positivity/negativity) of a review.\n",
    "\n",
    "\n"
   ]
  },
  {
   "cell_type": "markdown",
   "metadata": {},
   "source": [
    "# [1]. Reading Data"
   ]
  },
  {
   "cell_type": "markdown",
   "metadata": {},
   "source": [
    "## [1.1] Loading the data\n",
    "\n",
    "The dataset is available in two forms\n",
    "1. .csv file\n",
    "2. SQLite Database\n",
    "\n",
    "In order to load the data, We have used the SQLITE dataset as it is easier to query the data and visualise the data efficiently.\n",
    "<br> \n",
    "\n",
    "Here as we only want to get the global sentiment of the recommendations (positive or negative), we will purposefully ignore all Scores equal to 3. If the score is above 3, then the recommendation wil be set to \"positive\". Otherwise, it will be set to \"negative\"."
   ]
  },
  {
   "cell_type": "code",
   "execution_count": 1,
   "metadata": {},
   "outputs": [
    {
     "name": "stderr",
     "output_type": "stream",
     "text": [
      "C:\\Users\\hemant\\Anaconda\\lib\\site-packages\\gensim\\utils.py:1209: UserWarning: detected Windows; aliasing chunkize to chunkize_serial\n",
      "  warnings.warn(\"detected Windows; aliasing chunkize to chunkize_serial\")\n"
     ]
    }
   ],
   "source": [
    "%matplotlib inline\n",
    "import warnings\n",
    "warnings.filterwarnings(\"ignore\")\n",
    "\n",
    "\n",
    "import sqlite3\n",
    "import pandas as pd\n",
    "import numpy as np\n",
    "import nltk\n",
    "import string\n",
    "import matplotlib.pyplot as plt\n",
    "import seaborn as sns\n",
    "from sklearn.feature_extraction.text import TfidfTransformer\n",
    "from sklearn.feature_extraction.text import TfidfVectorizer\n",
    "\n",
    "from sklearn.feature_extraction.text import CountVectorizer\n",
    "from sklearn.metrics import confusion_matrix\n",
    "from sklearn import metrics\n",
    "from sklearn.metrics import roc_curve, auc\n",
    "from nltk.stem.porter import PorterStemmer\n",
    "\n",
    "import re\n",
    "# Tutorial about Python regular expressions: https://pymotw.com/2/re/\n",
    "import string\n",
    "from nltk.corpus import stopwords\n",
    "from nltk.stem import PorterStemmer\n",
    "from nltk.stem.wordnet import WordNetLemmatizer\n",
    "\n",
    "from gensim.models import Word2Vec\n",
    "from gensim.models import KeyedVectors\n",
    "import pickle\n",
    "\n",
    "from tqdm import tqdm\n",
    "import os"
   ]
  },
  {
   "cell_type": "code",
   "execution_count": 2,
   "metadata": {},
   "outputs": [
    {
     "name": "stdout",
     "output_type": "stream",
     "text": [
      "Number of data points in our data (525814, 10)\n"
     ]
    },
    {
     "data": {
      "text/html": [
       "<div>\n",
       "<style scoped>\n",
       "    .dataframe tbody tr th:only-of-type {\n",
       "        vertical-align: middle;\n",
       "    }\n",
       "\n",
       "    .dataframe tbody tr th {\n",
       "        vertical-align: top;\n",
       "    }\n",
       "\n",
       "    .dataframe thead th {\n",
       "        text-align: right;\n",
       "    }\n",
       "</style>\n",
       "<table border=\"1\" class=\"dataframe\">\n",
       "  <thead>\n",
       "    <tr style=\"text-align: right;\">\n",
       "      <th></th>\n",
       "      <th>Id</th>\n",
       "      <th>ProductId</th>\n",
       "      <th>UserId</th>\n",
       "      <th>ProfileName</th>\n",
       "      <th>HelpfulnessNumerator</th>\n",
       "      <th>HelpfulnessDenominator</th>\n",
       "      <th>Score</th>\n",
       "      <th>Time</th>\n",
       "      <th>Summary</th>\n",
       "      <th>Text</th>\n",
       "    </tr>\n",
       "  </thead>\n",
       "  <tbody>\n",
       "    <tr>\n",
       "      <th>0</th>\n",
       "      <td>1</td>\n",
       "      <td>B001E4KFG0</td>\n",
       "      <td>A3SGXH7AUHU8GW</td>\n",
       "      <td>delmartian</td>\n",
       "      <td>1</td>\n",
       "      <td>1</td>\n",
       "      <td>1</td>\n",
       "      <td>1303862400</td>\n",
       "      <td>Good Quality Dog Food</td>\n",
       "      <td>I have bought several of the Vitality canned d...</td>\n",
       "    </tr>\n",
       "    <tr>\n",
       "      <th>1</th>\n",
       "      <td>2</td>\n",
       "      <td>B00813GRG4</td>\n",
       "      <td>A1D87F6ZCVE5NK</td>\n",
       "      <td>dll pa</td>\n",
       "      <td>0</td>\n",
       "      <td>0</td>\n",
       "      <td>0</td>\n",
       "      <td>1346976000</td>\n",
       "      <td>Not as Advertised</td>\n",
       "      <td>Product arrived labeled as Jumbo Salted Peanut...</td>\n",
       "    </tr>\n",
       "    <tr>\n",
       "      <th>2</th>\n",
       "      <td>3</td>\n",
       "      <td>B000LQOCH0</td>\n",
       "      <td>ABXLMWJIXXAIN</td>\n",
       "      <td>Natalia Corres \"Natalia Corres\"</td>\n",
       "      <td>1</td>\n",
       "      <td>1</td>\n",
       "      <td>1</td>\n",
       "      <td>1219017600</td>\n",
       "      <td>\"Delight\" says it all</td>\n",
       "      <td>This is a confection that has been around a fe...</td>\n",
       "    </tr>\n",
       "  </tbody>\n",
       "</table>\n",
       "</div>"
      ],
      "text/plain": [
       "   Id   ProductId          UserId                      ProfileName  \\\n",
       "0   1  B001E4KFG0  A3SGXH7AUHU8GW                       delmartian   \n",
       "1   2  B00813GRG4  A1D87F6ZCVE5NK                           dll pa   \n",
       "2   3  B000LQOCH0   ABXLMWJIXXAIN  Natalia Corres \"Natalia Corres\"   \n",
       "\n",
       "   HelpfulnessNumerator  HelpfulnessDenominator  Score        Time  \\\n",
       "0                     1                       1      1  1303862400   \n",
       "1                     0                       0      0  1346976000   \n",
       "2                     1                       1      1  1219017600   \n",
       "\n",
       "                 Summary                                               Text  \n",
       "0  Good Quality Dog Food  I have bought several of the Vitality canned d...  \n",
       "1      Not as Advertised  Product arrived labeled as Jumbo Salted Peanut...  \n",
       "2  \"Delight\" says it all  This is a confection that has been around a fe...  "
      ]
     },
     "execution_count": 2,
     "metadata": {},
     "output_type": "execute_result"
    }
   ],
   "source": [
    "# using SQLite Table to read data.\n",
    "con = sqlite3.connect(r'G:\\database_assignment\\Logistic_regression\\database5.sqlite') \n",
    "# filtering only positive and negative reviews i.e. \n",
    "# not taking into consideration those reviews with Score=3\n",
    "# SELECT * FROM Reviews WHERE Score != 3 LIMIT 500000, will give top 500000 data points\n",
    "# you can change the number to any other number based on your computing power\n",
    "\n",
    "# filtered_data = pd.read_sql_query(\"\"\" SELECT * FROM Reviews WHERE Score != 3 LIMIT 500000\"\"\", con) \n",
    "# for tsne assignment you can take 5k data points\n",
    "\n",
    "filtered_data = pd.read_sql_query(\"\"\" SELECT * FROM Reviews WHERE Score != 3 \"\"\", con) \n",
    "\n",
    "# Give reviews with Score>3 a positive rating(1), and reviews with a score<3 a negative rating(0).\n",
    "def partition(x):\n",
    "    if x < 3:\n",
    "        return 0\n",
    "    return 1\n",
    "\n",
    "#changing reviews with score less than 3 to be positive and vice-versa\n",
    "actualScore = filtered_data['Score']\n",
    "positiveNegative = actualScore.map(partition) \n",
    "filtered_data['Score'] = positiveNegative\n",
    "print(\"Number of data points in our data\", filtered_data.shape)\n",
    "filtered_data.head(3)"
   ]
  },
  {
   "cell_type": "code",
   "execution_count": 3,
   "metadata": {},
   "outputs": [],
   "source": [
    "display = pd.read_sql_query(\"\"\"\n",
    "SELECT UserId, ProductId, ProfileName, Time, Score, Text, COUNT(*)\n",
    "FROM Reviews\n",
    "GROUP BY UserId\n",
    "HAVING COUNT(*)>1\n",
    "\"\"\", con)"
   ]
  },
  {
   "cell_type": "code",
   "execution_count": 4,
   "metadata": {
    "scrolled": true
   },
   "outputs": [
    {
     "name": "stdout",
     "output_type": "stream",
     "text": [
      "(80668, 7)\n"
     ]
    },
    {
     "data": {
      "text/html": [
       "<div>\n",
       "<style scoped>\n",
       "    .dataframe tbody tr th:only-of-type {\n",
       "        vertical-align: middle;\n",
       "    }\n",
       "\n",
       "    .dataframe tbody tr th {\n",
       "        vertical-align: top;\n",
       "    }\n",
       "\n",
       "    .dataframe thead th {\n",
       "        text-align: right;\n",
       "    }\n",
       "</style>\n",
       "<table border=\"1\" class=\"dataframe\">\n",
       "  <thead>\n",
       "    <tr style=\"text-align: right;\">\n",
       "      <th></th>\n",
       "      <th>UserId</th>\n",
       "      <th>ProductId</th>\n",
       "      <th>ProfileName</th>\n",
       "      <th>Time</th>\n",
       "      <th>Score</th>\n",
       "      <th>Text</th>\n",
       "      <th>COUNT(*)</th>\n",
       "    </tr>\n",
       "  </thead>\n",
       "  <tbody>\n",
       "    <tr>\n",
       "      <th>0</th>\n",
       "      <td>#oc-R115TNMSPFT9I7</td>\n",
       "      <td>B007Y59HVM</td>\n",
       "      <td>Breyton</td>\n",
       "      <td>1331510400</td>\n",
       "      <td>2</td>\n",
       "      <td>Overall its just OK when considering the price...</td>\n",
       "      <td>2</td>\n",
       "    </tr>\n",
       "    <tr>\n",
       "      <th>1</th>\n",
       "      <td>#oc-R11D9D7SHXIJB9</td>\n",
       "      <td>B005HG9ET0</td>\n",
       "      <td>Louis E. Emory \"hoppy\"</td>\n",
       "      <td>1342396800</td>\n",
       "      <td>5</td>\n",
       "      <td>My wife has recurring extreme muscle spasms, u...</td>\n",
       "      <td>3</td>\n",
       "    </tr>\n",
       "    <tr>\n",
       "      <th>2</th>\n",
       "      <td>#oc-R11DNU2NBKQ23Z</td>\n",
       "      <td>B007Y59HVM</td>\n",
       "      <td>Kim Cieszykowski</td>\n",
       "      <td>1348531200</td>\n",
       "      <td>1</td>\n",
       "      <td>This coffee is horrible and unfortunately not ...</td>\n",
       "      <td>2</td>\n",
       "    </tr>\n",
       "    <tr>\n",
       "      <th>3</th>\n",
       "      <td>#oc-R11O5J5ZVQE25C</td>\n",
       "      <td>B005HG9ET0</td>\n",
       "      <td>Penguin Chick</td>\n",
       "      <td>1346889600</td>\n",
       "      <td>5</td>\n",
       "      <td>This will be the bottle that you grab from the...</td>\n",
       "      <td>3</td>\n",
       "    </tr>\n",
       "    <tr>\n",
       "      <th>4</th>\n",
       "      <td>#oc-R12KPBODL2B5ZD</td>\n",
       "      <td>B007OSBE1U</td>\n",
       "      <td>Christopher P. Presta</td>\n",
       "      <td>1348617600</td>\n",
       "      <td>1</td>\n",
       "      <td>I didnt like this coffee. Instead of telling y...</td>\n",
       "      <td>2</td>\n",
       "    </tr>\n",
       "  </tbody>\n",
       "</table>\n",
       "</div>"
      ],
      "text/plain": [
       "               UserId   ProductId             ProfileName        Time  Score  \\\n",
       "0  #oc-R115TNMSPFT9I7  B007Y59HVM                 Breyton  1331510400      2   \n",
       "1  #oc-R11D9D7SHXIJB9  B005HG9ET0  Louis E. Emory \"hoppy\"  1342396800      5   \n",
       "2  #oc-R11DNU2NBKQ23Z  B007Y59HVM        Kim Cieszykowski  1348531200      1   \n",
       "3  #oc-R11O5J5ZVQE25C  B005HG9ET0           Penguin Chick  1346889600      5   \n",
       "4  #oc-R12KPBODL2B5ZD  B007OSBE1U   Christopher P. Presta  1348617600      1   \n",
       "\n",
       "                                                Text  COUNT(*)  \n",
       "0  Overall its just OK when considering the price...         2  \n",
       "1  My wife has recurring extreme muscle spasms, u...         3  \n",
       "2  This coffee is horrible and unfortunately not ...         2  \n",
       "3  This will be the bottle that you grab from the...         3  \n",
       "4  I didnt like this coffee. Instead of telling y...         2  "
      ]
     },
     "execution_count": 4,
     "metadata": {},
     "output_type": "execute_result"
    }
   ],
   "source": [
    "print(display.shape)\n",
    "display.head()"
   ]
  },
  {
   "cell_type": "code",
   "execution_count": 5,
   "metadata": {},
   "outputs": [
    {
     "data": {
      "text/html": [
       "<div>\n",
       "<style scoped>\n",
       "    .dataframe tbody tr th:only-of-type {\n",
       "        vertical-align: middle;\n",
       "    }\n",
       "\n",
       "    .dataframe tbody tr th {\n",
       "        vertical-align: top;\n",
       "    }\n",
       "\n",
       "    .dataframe thead th {\n",
       "        text-align: right;\n",
       "    }\n",
       "</style>\n",
       "<table border=\"1\" class=\"dataframe\">\n",
       "  <thead>\n",
       "    <tr style=\"text-align: right;\">\n",
       "      <th></th>\n",
       "      <th>UserId</th>\n",
       "      <th>ProductId</th>\n",
       "      <th>ProfileName</th>\n",
       "      <th>Time</th>\n",
       "      <th>Score</th>\n",
       "      <th>Text</th>\n",
       "      <th>COUNT(*)</th>\n",
       "    </tr>\n",
       "  </thead>\n",
       "  <tbody>\n",
       "    <tr>\n",
       "      <th>80638</th>\n",
       "      <td>AZY10LLTJ71NX</td>\n",
       "      <td>B006P7E5ZI</td>\n",
       "      <td>undertheshrine \"undertheshrine\"</td>\n",
       "      <td>1334707200</td>\n",
       "      <td>5</td>\n",
       "      <td>I was recommended to try green tea extract to ...</td>\n",
       "      <td>5</td>\n",
       "    </tr>\n",
       "  </tbody>\n",
       "</table>\n",
       "</div>"
      ],
      "text/plain": [
       "              UserId   ProductId                      ProfileName        Time  \\\n",
       "80638  AZY10LLTJ71NX  B006P7E5ZI  undertheshrine \"undertheshrine\"  1334707200   \n",
       "\n",
       "       Score                                               Text  COUNT(*)  \n",
       "80638      5  I was recommended to try green tea extract to ...         5  "
      ]
     },
     "execution_count": 5,
     "metadata": {},
     "output_type": "execute_result"
    }
   ],
   "source": [
    "display[display['UserId']=='AZY10LLTJ71NX']"
   ]
  },
  {
   "cell_type": "code",
   "execution_count": 6,
   "metadata": {},
   "outputs": [
    {
     "data": {
      "text/plain": [
       "393063"
      ]
     },
     "execution_count": 6,
     "metadata": {},
     "output_type": "execute_result"
    }
   ],
   "source": [
    "display['COUNT(*)'].sum()"
   ]
  },
  {
   "cell_type": "markdown",
   "metadata": {},
   "source": [
    "#  [2] Exploratory Data Analysis"
   ]
  },
  {
   "cell_type": "markdown",
   "metadata": {},
   "source": [
    "## [2.1] Data Cleaning: Deduplication\n",
    "\n",
    "It is observed (as shown in the table below) that the reviews data had many duplicate entries. Hence it was necessary to remove duplicates in order to get unbiased results for the analysis of the data.  Following is an example:"
   ]
  },
  {
   "cell_type": "code",
   "execution_count": 7,
   "metadata": {
    "scrolled": false
   },
   "outputs": [
    {
     "data": {
      "text/html": [
       "<div>\n",
       "<style scoped>\n",
       "    .dataframe tbody tr th:only-of-type {\n",
       "        vertical-align: middle;\n",
       "    }\n",
       "\n",
       "    .dataframe tbody tr th {\n",
       "        vertical-align: top;\n",
       "    }\n",
       "\n",
       "    .dataframe thead th {\n",
       "        text-align: right;\n",
       "    }\n",
       "</style>\n",
       "<table border=\"1\" class=\"dataframe\">\n",
       "  <thead>\n",
       "    <tr style=\"text-align: right;\">\n",
       "      <th></th>\n",
       "      <th>Id</th>\n",
       "      <th>ProductId</th>\n",
       "      <th>UserId</th>\n",
       "      <th>ProfileName</th>\n",
       "      <th>HelpfulnessNumerator</th>\n",
       "      <th>HelpfulnessDenominator</th>\n",
       "      <th>Score</th>\n",
       "      <th>Time</th>\n",
       "      <th>Summary</th>\n",
       "      <th>Text</th>\n",
       "    </tr>\n",
       "  </thead>\n",
       "  <tbody>\n",
       "    <tr>\n",
       "      <th>0</th>\n",
       "      <td>78445</td>\n",
       "      <td>B000HDL1RQ</td>\n",
       "      <td>AR5J8UI46CURR</td>\n",
       "      <td>Geetha Krishnan</td>\n",
       "      <td>2</td>\n",
       "      <td>2</td>\n",
       "      <td>5</td>\n",
       "      <td>1199577600</td>\n",
       "      <td>LOACKER QUADRATINI VANILLA WAFERS</td>\n",
       "      <td>DELICIOUS WAFERS. I FIND THAT EUROPEAN WAFERS ...</td>\n",
       "    </tr>\n",
       "    <tr>\n",
       "      <th>1</th>\n",
       "      <td>138317</td>\n",
       "      <td>B000HDOPYC</td>\n",
       "      <td>AR5J8UI46CURR</td>\n",
       "      <td>Geetha Krishnan</td>\n",
       "      <td>2</td>\n",
       "      <td>2</td>\n",
       "      <td>5</td>\n",
       "      <td>1199577600</td>\n",
       "      <td>LOACKER QUADRATINI VANILLA WAFERS</td>\n",
       "      <td>DELICIOUS WAFERS. I FIND THAT EUROPEAN WAFERS ...</td>\n",
       "    </tr>\n",
       "    <tr>\n",
       "      <th>2</th>\n",
       "      <td>138277</td>\n",
       "      <td>B000HDOPYM</td>\n",
       "      <td>AR5J8UI46CURR</td>\n",
       "      <td>Geetha Krishnan</td>\n",
       "      <td>2</td>\n",
       "      <td>2</td>\n",
       "      <td>5</td>\n",
       "      <td>1199577600</td>\n",
       "      <td>LOACKER QUADRATINI VANILLA WAFERS</td>\n",
       "      <td>DELICIOUS WAFERS. I FIND THAT EUROPEAN WAFERS ...</td>\n",
       "    </tr>\n",
       "    <tr>\n",
       "      <th>3</th>\n",
       "      <td>73791</td>\n",
       "      <td>B000HDOPZG</td>\n",
       "      <td>AR5J8UI46CURR</td>\n",
       "      <td>Geetha Krishnan</td>\n",
       "      <td>2</td>\n",
       "      <td>2</td>\n",
       "      <td>5</td>\n",
       "      <td>1199577600</td>\n",
       "      <td>LOACKER QUADRATINI VANILLA WAFERS</td>\n",
       "      <td>DELICIOUS WAFERS. I FIND THAT EUROPEAN WAFERS ...</td>\n",
       "    </tr>\n",
       "    <tr>\n",
       "      <th>4</th>\n",
       "      <td>155049</td>\n",
       "      <td>B000PAQ75C</td>\n",
       "      <td>AR5J8UI46CURR</td>\n",
       "      <td>Geetha Krishnan</td>\n",
       "      <td>2</td>\n",
       "      <td>2</td>\n",
       "      <td>5</td>\n",
       "      <td>1199577600</td>\n",
       "      <td>LOACKER QUADRATINI VANILLA WAFERS</td>\n",
       "      <td>DELICIOUS WAFERS. I FIND THAT EUROPEAN WAFERS ...</td>\n",
       "    </tr>\n",
       "  </tbody>\n",
       "</table>\n",
       "</div>"
      ],
      "text/plain": [
       "       Id   ProductId         UserId      ProfileName  HelpfulnessNumerator  \\\n",
       "0   78445  B000HDL1RQ  AR5J8UI46CURR  Geetha Krishnan                     2   \n",
       "1  138317  B000HDOPYC  AR5J8UI46CURR  Geetha Krishnan                     2   \n",
       "2  138277  B000HDOPYM  AR5J8UI46CURR  Geetha Krishnan                     2   \n",
       "3   73791  B000HDOPZG  AR5J8UI46CURR  Geetha Krishnan                     2   \n",
       "4  155049  B000PAQ75C  AR5J8UI46CURR  Geetha Krishnan                     2   \n",
       "\n",
       "   HelpfulnessDenominator  Score        Time  \\\n",
       "0                       2      5  1199577600   \n",
       "1                       2      5  1199577600   \n",
       "2                       2      5  1199577600   \n",
       "3                       2      5  1199577600   \n",
       "4                       2      5  1199577600   \n",
       "\n",
       "                             Summary  \\\n",
       "0  LOACKER QUADRATINI VANILLA WAFERS   \n",
       "1  LOACKER QUADRATINI VANILLA WAFERS   \n",
       "2  LOACKER QUADRATINI VANILLA WAFERS   \n",
       "3  LOACKER QUADRATINI VANILLA WAFERS   \n",
       "4  LOACKER QUADRATINI VANILLA WAFERS   \n",
       "\n",
       "                                                Text  \n",
       "0  DELICIOUS WAFERS. I FIND THAT EUROPEAN WAFERS ...  \n",
       "1  DELICIOUS WAFERS. I FIND THAT EUROPEAN WAFERS ...  \n",
       "2  DELICIOUS WAFERS. I FIND THAT EUROPEAN WAFERS ...  \n",
       "3  DELICIOUS WAFERS. I FIND THAT EUROPEAN WAFERS ...  \n",
       "4  DELICIOUS WAFERS. I FIND THAT EUROPEAN WAFERS ...  "
      ]
     },
     "execution_count": 7,
     "metadata": {},
     "output_type": "execute_result"
    }
   ],
   "source": [
    "display= pd.read_sql_query(\"\"\"\n",
    "SELECT *\n",
    "FROM Reviews\n",
    "WHERE Score != 3 AND UserId=\"AR5J8UI46CURR\"\n",
    "ORDER BY ProductID\n",
    "\"\"\", con)\n",
    "display.head()"
   ]
  },
  {
   "cell_type": "markdown",
   "metadata": {},
   "source": [
    "As it can be seen above that same user has multiple reviews with same values for HelpfulnessNumerator, HelpfulnessDenominator, Score, Time, Summary and Text and on doing analysis it was found that <br>\n",
    "<br> \n",
    "ProductId=B000HDOPZG was Loacker Quadratini Vanilla Wafer Cookies, 8.82-Ounce Packages (Pack of 8)<br>\n",
    "<br> \n",
    "ProductId=B000HDL1RQ was Loacker Quadratini Lemon Wafer Cookies, 8.82-Ounce Packages (Pack of 8) and so on<br>\n",
    "\n",
    "It was inferred after analysis that reviews with same parameters other than ProductId belonged to the same product just having different flavour or quantity. Hence in order to reduce redundancy it was decided to eliminate the rows having same parameters.<br>\n",
    "\n",
    "The method used for the same was that we first sort the data according to ProductId and then just keep the first similar product review and delelte the others. for eg. in the above just the review for ProductId=B000HDL1RQ remains. This method ensures that there is only one representative for each product and deduplication without sorting would lead to possibility of different representatives still existing for the same product."
   ]
  },
  {
   "cell_type": "code",
   "execution_count": 8,
   "metadata": {},
   "outputs": [],
   "source": [
    "#Sorting data according to ProductId in ascending order\n",
    "sorted_data=filtered_data.sort_values('ProductId', axis=0, ascending=True, inplace=False, kind='quicksort', na_position='last')"
   ]
  },
  {
   "cell_type": "code",
   "execution_count": 9,
   "metadata": {},
   "outputs": [
    {
     "data": {
      "text/plain": [
       "(364173, 10)"
      ]
     },
     "execution_count": 9,
     "metadata": {},
     "output_type": "execute_result"
    }
   ],
   "source": [
    "#Deduplication of entries\n",
    "final=sorted_data.drop_duplicates(subset={\"UserId\",\"ProfileName\",\"Time\",\"Text\"}, keep='first', inplace=False)\n",
    "final.shape"
   ]
  },
  {
   "cell_type": "code",
   "execution_count": 10,
   "metadata": {},
   "outputs": [
    {
     "data": {
      "text/plain": [
       "69.25890143662969"
      ]
     },
     "execution_count": 10,
     "metadata": {},
     "output_type": "execute_result"
    }
   ],
   "source": [
    "#Checking to see how much % of data still remains\n",
    "(final['Id'].size*1.0)/(filtered_data['Id'].size*1.0)*100"
   ]
  },
  {
   "cell_type": "markdown",
   "metadata": {},
   "source": [
    "<b>Observation:-</b> It was also seen that in two rows given below the value of HelpfulnessNumerator is greater than HelpfulnessDenominator which is not practically possible hence these two rows too are removed from calcualtions"
   ]
  },
  {
   "cell_type": "code",
   "execution_count": 11,
   "metadata": {},
   "outputs": [
    {
     "data": {
      "text/html": [
       "<div>\n",
       "<style scoped>\n",
       "    .dataframe tbody tr th:only-of-type {\n",
       "        vertical-align: middle;\n",
       "    }\n",
       "\n",
       "    .dataframe tbody tr th {\n",
       "        vertical-align: top;\n",
       "    }\n",
       "\n",
       "    .dataframe thead th {\n",
       "        text-align: right;\n",
       "    }\n",
       "</style>\n",
       "<table border=\"1\" class=\"dataframe\">\n",
       "  <thead>\n",
       "    <tr style=\"text-align: right;\">\n",
       "      <th></th>\n",
       "      <th>Id</th>\n",
       "      <th>ProductId</th>\n",
       "      <th>UserId</th>\n",
       "      <th>ProfileName</th>\n",
       "      <th>HelpfulnessNumerator</th>\n",
       "      <th>HelpfulnessDenominator</th>\n",
       "      <th>Score</th>\n",
       "      <th>Time</th>\n",
       "      <th>Summary</th>\n",
       "      <th>Text</th>\n",
       "    </tr>\n",
       "  </thead>\n",
       "  <tbody>\n",
       "    <tr>\n",
       "      <th>0</th>\n",
       "      <td>64422</td>\n",
       "      <td>B000MIDROQ</td>\n",
       "      <td>A161DK06JJMCYF</td>\n",
       "      <td>J. E. Stephens \"Jeanne\"</td>\n",
       "      <td>3</td>\n",
       "      <td>1</td>\n",
       "      <td>5</td>\n",
       "      <td>1224892800</td>\n",
       "      <td>Bought This for My Son at College</td>\n",
       "      <td>My son loves spaghetti so I didn't hesitate or...</td>\n",
       "    </tr>\n",
       "    <tr>\n",
       "      <th>1</th>\n",
       "      <td>44737</td>\n",
       "      <td>B001EQ55RW</td>\n",
       "      <td>A2V0I904FH7ABY</td>\n",
       "      <td>Ram</td>\n",
       "      <td>3</td>\n",
       "      <td>2</td>\n",
       "      <td>4</td>\n",
       "      <td>1212883200</td>\n",
       "      <td>Pure cocoa taste with crunchy almonds inside</td>\n",
       "      <td>It was almost a 'love at first bite' - the per...</td>\n",
       "    </tr>\n",
       "  </tbody>\n",
       "</table>\n",
       "</div>"
      ],
      "text/plain": [
       "      Id   ProductId          UserId              ProfileName  \\\n",
       "0  64422  B000MIDROQ  A161DK06JJMCYF  J. E. Stephens \"Jeanne\"   \n",
       "1  44737  B001EQ55RW  A2V0I904FH7ABY                      Ram   \n",
       "\n",
       "   HelpfulnessNumerator  HelpfulnessDenominator  Score        Time  \\\n",
       "0                     3                       1      5  1224892800   \n",
       "1                     3                       2      4  1212883200   \n",
       "\n",
       "                                        Summary  \\\n",
       "0             Bought This for My Son at College   \n",
       "1  Pure cocoa taste with crunchy almonds inside   \n",
       "\n",
       "                                                Text  \n",
       "0  My son loves spaghetti so I didn't hesitate or...  \n",
       "1  It was almost a 'love at first bite' - the per...  "
      ]
     },
     "execution_count": 11,
     "metadata": {},
     "output_type": "execute_result"
    }
   ],
   "source": [
    "display= pd.read_sql_query(\"\"\"\n",
    "SELECT *\n",
    "FROM Reviews\n",
    "WHERE Score != 3 AND Id=44737 OR Id=64422\n",
    "ORDER BY ProductID\n",
    "\"\"\", con)\n",
    "\n",
    "display.head()"
   ]
  },
  {
   "cell_type": "code",
   "execution_count": 12,
   "metadata": {},
   "outputs": [],
   "source": [
    "final=final[final.HelpfulnessNumerator<=final.HelpfulnessDenominator]"
   ]
  },
  {
   "cell_type": "code",
   "execution_count": 13,
   "metadata": {},
   "outputs": [
    {
     "name": "stdout",
     "output_type": "stream",
     "text": [
      "(364171, 10)\n"
     ]
    },
    {
     "data": {
      "text/plain": [
       "1    307061\n",
       "0     57110\n",
       "Name: Score, dtype: int64"
      ]
     },
     "execution_count": 13,
     "metadata": {},
     "output_type": "execute_result"
    }
   ],
   "source": [
    "#Before starting the next phase of preprocessing lets see the number of entries left\n",
    "print(final.shape)\n",
    "\n",
    "#How many positive and negative reviews are present in our dataset?\n",
    "final['Score'].value_counts()"
   ]
  },
  {
   "cell_type": "markdown",
   "metadata": {},
   "source": [
    "#  [3] Preprocessing"
   ]
  },
  {
   "cell_type": "markdown",
   "metadata": {},
   "source": [
    "## [3.1].  Preprocessing Review Text\n",
    "\n",
    "Now that we have finished deduplication our data requires some preprocessing before we go on further with analysis and making the prediction model.\n",
    "\n",
    "Hence in the Preprocessing phase we do the following in the order below:-\n",
    "\n",
    "1. Begin by removing the html tags\n",
    "2. Remove any punctuations or limited set of special characters like , or . or # etc.\n",
    "3. Check if the word is made up of english letters and is not alpha-numeric\n",
    "4. Check to see if the length of the word is greater than 2 (as it was researched that there is no adjective in 2-letters)\n",
    "5. Convert the word to lowercase\n",
    "6. Remove Stopwords\n",
    "7. Finally Snowball Stemming the word (it was obsereved to be better than Porter Stemming)<br>\n",
    "\n",
    "After which we collect the words used to describe positive and negative reviews"
   ]
  },
  {
   "cell_type": "code",
   "execution_count": 14,
   "metadata": {},
   "outputs": [
    {
     "name": "stdout",
     "output_type": "stream",
     "text": [
      "this witty little book makes my son laugh at loud. i recite it in the car as we're driving along and he always can sing the refrain. he's learned about whales, India, drooping roses:  i love all the new words this book  introduces and the silliness of it all.  this is a classic book i am  willing to bet my son will STILL be able to recite from memory when he is  in college\n",
      "==================================================\n",
      "I was really looking forward to these pods based on the reviews.  Starbucks is good, but I prefer bolder taste.... imagine my surprise when I ordered 2 boxes - both were expired! One expired back in 2005 for gosh sakes.  I admit that Amazon agreed to credit me for cost plus part of shipping, but geez, 2 years expired!!!  I'm hoping to find local San Diego area shoppe that carries pods so that I can try something different than starbucks.\n",
      "==================================================\n",
      "Great ingredients although, chicken should have been 1st rather than chicken broth, the only thing I do not think belongs in it is Canola oil. Canola or rapeseed is not someting a dog would ever find in nature and if it did find rapeseed in nature and eat it, it would poison them. Today's Food industries have convinced the masses that Canola oil is a safe and even better oil than olive or virgin coconut, facts though say otherwise. Until the late 70's it was poisonous until they figured out a way to fix that. I still like it but it could be better.\n",
      "==================================================\n",
      "Can't do sugar.  Have tried scores of SF Syrups.  NONE of them can touch the excellence of this product.<br /><br />Thick, delicious.  Perfect.  3 ingredients: Water, Maltitol, Natural Maple Flavor.  PERIOD.  No chemicals.  No garbage.<br /><br />Have numerous friends & family members hooked on this stuff.  My husband & son, who do NOT like \"sugar free\" prefer this over major label regular syrup.<br /><br />I use this as my SWEETENER in baking: cheesecakes, white brownies, muffins, pumpkin pies, etc... Unbelievably delicious...<br /><br />Can you tell I like it? :)\n",
      "==================================================\n"
     ]
    }
   ],
   "source": [
    "# printing some random reviews\n",
    "sent_0 = final['Text'].values[0]\n",
    "print(sent_0)\n",
    "print(\"=\"*50)\n",
    "\n",
    "sent_1000 = final['Text'].values[1000]\n",
    "print(sent_1000)\n",
    "print(\"=\"*50)\n",
    "\n",
    "sent_1500 = final['Text'].values[1500]\n",
    "print(sent_1500)\n",
    "print(\"=\"*50)\n",
    "\n",
    "sent_4900 = final['Text'].values[4900]\n",
    "print(sent_4900)\n",
    "print(\"=\"*50)"
   ]
  },
  {
   "cell_type": "code",
   "execution_count": 15,
   "metadata": {},
   "outputs": [
    {
     "name": "stdout",
     "output_type": "stream",
     "text": [
      "this witty little book makes my son laugh at loud. i recite it in the car as we're driving along and he always can sing the refrain. he's learned about whales, India, drooping roses:  i love all the new words this book  introduces and the silliness of it all.  this is a classic book i am  willing to bet my son will STILL be able to recite from memory when he is  in college\n"
     ]
    }
   ],
   "source": [
    "# remove urls from text python: https://stackoverflow.com/a/40823105/4084039\n",
    "sent_0 = re.sub(r\"http\\S+\", \"\", sent_0)\n",
    "sent_1000 = re.sub(r\"http\\S+\", \"\", sent_1000)\n",
    "sent_150 = re.sub(r\"http\\S+\", \"\", sent_1500)\n",
    "sent_4900 = re.sub(r\"http\\S+\", \"\", sent_4900)\n",
    "\n",
    "print(sent_0)"
   ]
  },
  {
   "cell_type": "code",
   "execution_count": 16,
   "metadata": {},
   "outputs": [
    {
     "name": "stdout",
     "output_type": "stream",
     "text": [
      "this witty little book makes my son laugh at loud. i recite it in the car as we're driving along and he always can sing the refrain. he's learned about whales, India, drooping roses:  i love all the new words this book  introduces and the silliness of it all.  this is a classic book i am  willing to bet my son will STILL be able to recite from memory when he is  in college\n",
      "==================================================\n",
      "I was really looking forward to these pods based on the reviews.  Starbucks is good, but I prefer bolder taste.... imagine my surprise when I ordered 2 boxes - both were expired! One expired back in 2005 for gosh sakes.  I admit that Amazon agreed to credit me for cost plus part of shipping, but geez, 2 years expired!!!  I'm hoping to find local San Diego area shoppe that carries pods so that I can try something different than starbucks.\n",
      "==================================================\n",
      "Great ingredients although, chicken should have been 1st rather than chicken broth, the only thing I do not think belongs in it is Canola oil. Canola or rapeseed is not someting a dog would ever find in nature and if it did find rapeseed in nature and eat it, it would poison them. Today's Food industries have convinced the masses that Canola oil is a safe and even better oil than olive or virgin coconut, facts though say otherwise. Until the late 70's it was poisonous until they figured out a way to fix that. I still like it but it could be better.\n",
      "==================================================\n",
      "Can't do sugar.  Have tried scores of SF Syrups.  NONE of them can touch the excellence of this product.Thick, delicious.  Perfect.  3 ingredients: Water, Maltitol, Natural Maple Flavor.  PERIOD.  No chemicals.  No garbage.Have numerous friends & family members hooked on this stuff.  My husband & son, who do NOT like \"sugar free\" prefer this over major label regular syrup.I use this as my SWEETENER in baking: cheesecakes, white brownies, muffins, pumpkin pies, etc... Unbelievably delicious...Can you tell I like it? :)\n"
     ]
    }
   ],
   "source": [
    "# https://stackoverflow.com/questions/16206380/python-beautifulsoup-how-to-remove-all-tags-from-an-element\n",
    "from bs4 import BeautifulSoup\n",
    "\n",
    "soup = BeautifulSoup(sent_0, 'lxml')\n",
    "text = soup.get_text()\n",
    "print(text)\n",
    "print(\"=\"*50)\n",
    "\n",
    "soup = BeautifulSoup(sent_1000, 'lxml')\n",
    "text = soup.get_text()\n",
    "print(text)\n",
    "print(\"=\"*50)\n",
    "\n",
    "soup = BeautifulSoup(sent_1500, 'lxml')\n",
    "text = soup.get_text()\n",
    "print(text)\n",
    "print(\"=\"*50)\n",
    "\n",
    "soup = BeautifulSoup(sent_4900, 'lxml')\n",
    "text = soup.get_text()\n",
    "print(text)"
   ]
  },
  {
   "cell_type": "code",
   "execution_count": 17,
   "metadata": {},
   "outputs": [],
   "source": [
    "# https://stackoverflow.com/a/47091490/4084039\n",
    "import re\n",
    "\n",
    "def decontracted(phrase):\n",
    "    # specific\n",
    "    phrase = re.sub(r\"won't\", \"will not\", phrase)\n",
    "    phrase = re.sub(r\"can\\'t\", \"can not\", phrase)\n",
    "\n",
    "    # general\n",
    "    phrase = re.sub(r\"n\\'t\", \" not\", phrase)\n",
    "    phrase = re.sub(r\"\\'re\", \" are\", phrase)\n",
    "    phrase = re.sub(r\"\\'s\", \" is\", phrase)\n",
    "    phrase = re.sub(r\"\\'d\", \" would\", phrase)\n",
    "    phrase = re.sub(r\"\\'ll\", \" will\", phrase)\n",
    "    phrase = re.sub(r\"\\'t\", \" not\", phrase)\n",
    "    phrase = re.sub(r\"\\'ve\", \" have\", phrase)\n",
    "    phrase = re.sub(r\"\\'m\", \" am\", phrase)\n",
    "    return phrase"
   ]
  },
  {
   "cell_type": "code",
   "execution_count": 18,
   "metadata": {},
   "outputs": [
    {
     "name": "stdout",
     "output_type": "stream",
     "text": [
      "Great ingredients although, chicken should have been 1st rather than chicken broth, the only thing I do not think belongs in it is Canola oil. Canola or rapeseed is not someting a dog would ever find in nature and if it did find rapeseed in nature and eat it, it would poison them. Today is Food industries have convinced the masses that Canola oil is a safe and even better oil than olive or virgin coconut, facts though say otherwise. Until the late 70 is it was poisonous until they figured out a way to fix that. I still like it but it could be better.\n",
      "==================================================\n"
     ]
    }
   ],
   "source": [
    "sent_1500 = decontracted(sent_1500)\n",
    "print(sent_1500)\n",
    "print(\"=\"*50)"
   ]
  },
  {
   "cell_type": "code",
   "execution_count": 19,
   "metadata": {},
   "outputs": [
    {
     "name": "stdout",
     "output_type": "stream",
     "text": [
      "this witty little book makes my son laugh at loud. i recite it in the car as we're driving along and he always can sing the refrain. he's learned about whales, India, drooping roses:  i love all the new words this book  introduces and the silliness of it all.  this is a classic book i am  willing to bet my son will STILL be able to recite from memory when he is  in college\n"
     ]
    }
   ],
   "source": [
    "#remove words with numbers python: https://stackoverflow.com/a/18082370/4084039\n",
    "sent_0 = re.sub(\"\\S*\\d\\S*\", \"\", sent_0).strip()\n",
    "print(sent_0)"
   ]
  },
  {
   "cell_type": "code",
   "execution_count": 20,
   "metadata": {},
   "outputs": [
    {
     "name": "stdout",
     "output_type": "stream",
     "text": [
      "Great ingredients although chicken should have been 1st rather than chicken broth the only thing I do not think belongs in it is Canola oil Canola or rapeseed is not someting a dog would ever find in nature and if it did find rapeseed in nature and eat it it would poison them Today is Food industries have convinced the masses that Canola oil is a safe and even better oil than olive or virgin coconut facts though say otherwise Until the late 70 is it was poisonous until they figured out a way to fix that I still like it but it could be better \n"
     ]
    }
   ],
   "source": [
    "#remove spacial character: https://stackoverflow.com/a/5843547/4084039\n",
    "sent_1500 = re.sub('[^A-Za-z0-9]+', ' ', sent_1500)\n",
    "print(sent_1500)"
   ]
  },
  {
   "cell_type": "code",
   "execution_count": 21,
   "metadata": {},
   "outputs": [],
   "source": [
    "# https://gist.github.com/sebleier/554280\n",
    "# we are removing the words from the stop words list: 'no', 'nor', 'not'\n",
    "# <br /><br /> ==> after the above steps, we are getting \"br br\"\n",
    "# we are including them into stop words list\n",
    "# instead of <br /> if we have <br/> these tags would have revmoved in the 1st step\n",
    "\n",
    "stopwords= set(['br', 'the', 'i', 'me', 'my', 'myself', 'we', 'our', 'ours', 'ourselves', 'you', \"you're\", \"you've\",\\\n",
    "            \"you'll\", \"you'd\", 'your', 'yours', 'yourself', 'yourselves', 'he', 'him', 'his', 'himself', \\\n",
    "            'she', \"she's\", 'her', 'hers', 'herself', 'it', \"it's\", 'its', 'itself', 'they', 'them', 'their',\\\n",
    "            'theirs', 'themselves', 'what', 'which', 'who', 'whom', 'this', 'that', \"that'll\", 'these', 'those', \\\n",
    "            'am', 'is', 'are', 'was', 'were', 'be', 'been', 'being', 'have', 'has', 'had', 'having', 'do', 'does', \\\n",
    "            'did', 'doing', 'a', 'an', 'the', 'and', 'but', 'if', 'or', 'because', 'as', 'until', 'while', 'of', \\\n",
    "            'at', 'by', 'for', 'with', 'about', 'against', 'between', 'into', 'through', 'during', 'before', 'after',\\\n",
    "            'above', 'below', 'to', 'from', 'up', 'down', 'in', 'out', 'on', 'off', 'over', 'under', 'again', 'further',\\\n",
    "            'then', 'once', 'here', 'there', 'when', 'where', 'why', 'how', 'all', 'any', 'both', 'each', 'few', 'more',\\\n",
    "            'most', 'other', 'some', 'such', 'only', 'own', 'same', 'so', 'than', 'too', 'very', \\\n",
    "            's', 't', 'can', 'will', 'just', 'don', \"don't\", 'should', \"should've\", 'now', 'd', 'll', 'm', 'o', 're', \\\n",
    "            've', 'y', 'ain', 'aren', \"aren't\", 'couldn', \"couldn't\", 'didn', \"didn't\", 'doesn', \"doesn't\", 'hadn',\\\n",
    "            \"hadn't\", 'hasn', \"hasn't\", 'haven', \"haven't\", 'isn', \"isn't\", 'ma', 'mightn', \"mightn't\", 'mustn',\\\n",
    "            \"mustn't\", 'needn', \"needn't\", 'shan', \"shan't\", 'shouldn', \"shouldn't\", 'wasn', \"wasn't\", 'weren', \"weren't\", \\\n",
    "            'won', \"won't\", 'wouldn', \"wouldn't\"])"
   ]
  },
  {
   "cell_type": "code",
   "execution_count": 22,
   "metadata": {},
   "outputs": [],
   "source": [
    "# Combining all the above stundents \n",
    "if not os.path.isfile('final.sqlite'):\n",
    "    \n",
    "    from tqdm import tqdm\n",
    "    final_string=[]\n",
    "    # tqdm is for printing the status bar\n",
    "    for sentance in tqdm(final['Text'].values):\n",
    "        sentance = re.sub(r\"http\\S+\", \"\", sentance)\n",
    "        sentance = BeautifulSoup(sentance, 'lxml').get_text()\n",
    "        sentance = decontracted(sentance)\n",
    "        sentance = re.sub(\"\\S*\\d\\S*\", \"\", sentance).strip()\n",
    "        sentance = re.sub('[^A-Za-z]+', ' ', sentance)\n",
    "        # https://gist.github.com/sebleier/554280\n",
    "        sentance = ' '.join(e.lower() for e in sentance.split() if e.lower() not in stopwords)\n",
    "        final_string.append(sentance.strip())\n",
    "        \n",
    "         #############---- storing the data into .sqlite file ------########################\n",
    "    final['CleanedText']=final_string #adding a column of CleanedText which displays the data after pre-processing of the review \n",
    "    final['CleanedText']=final['CleanedText'].str.decode(\"utf-8\")\n",
    "        # store final table into an SQlLite table for future.\n",
    "    conn = sqlite3.connect('final.sqlite')\n",
    "    c=conn.cursor()\n",
    "    conn.text_factory = str\n",
    "    final05.to_sql('Reviews', conn,  schema=None, if_exists='replace', \\\n",
    "                 index=True, index_label=None, chunksize=None, dtype=None)\n",
    "    conn.close()\n",
    "   "
   ]
  },
  {
   "cell_type": "code",
   "execution_count": 23,
   "metadata": {},
   "outputs": [],
   "source": [
    "if os.path.isfile('final.sqlite'):\n",
    "    conn = sqlite3.connect('final.sqlite')\n",
    "    final1 = pd.read_sql_query(\"\"\" SELECT * FROM Reviews WHERE Score != 3 \"\"\", conn)\n",
    "    conn.close()\n",
    "else:\n",
    "    print(\"Please the above cell\")"
   ]
  },
  {
   "cell_type": "code",
   "execution_count": 24,
   "metadata": {},
   "outputs": [
    {
     "data": {
      "text/plain": [
       "0    witti littl book make son laugh loud recit car...\n",
       "1    grew read sendak book watch realli rosi movi i...\n",
       "2    fun way children learn month year learn poem t...\n",
       "3    great littl book read nice rhythm well good re...\n",
       "4    book poetri month year goe month cute littl po...\n",
       "Name: CleanedText, dtype: object"
      ]
     },
     "execution_count": 24,
     "metadata": {},
     "output_type": "execute_result"
    }
   ],
   "source": [
    "final1.head(3)\n",
    "final1['CleanedText'].head(5)"
   ]
  },
  {
   "cell_type": "markdown",
   "metadata": {},
   "source": [
    "<h2><font color='red'>[3.2] Preprocessing Review Summary</font></h2>"
   ]
  },
  {
   "cell_type": "code",
   "execution_count": 25,
   "metadata": {},
   "outputs": [],
   "source": [
    "sorted_sample = final1.sort_values('Time', axis=0, ascending=True, inplace=False, kind='quicksort', na_position='last')    \n",
    "sample_60000 = sorted_sample.iloc[0:100000]\n",
    "final.shape\n",
    "y = sample_60000['Score']"
   ]
  },
  {
   "cell_type": "code",
   "execution_count": 26,
   "metadata": {},
   "outputs": [
    {
     "data": {
      "text/plain": [
       "(100000, 12)"
      ]
     },
     "execution_count": 26,
     "metadata": {},
     "output_type": "execute_result"
    }
   ],
   "source": [
    "sample_60000.shape"
   ]
  },
  {
   "cell_type": "code",
   "execution_count": 27,
   "metadata": {},
   "outputs": [],
   "source": [
    "sample_60000[\"length\"] = sample_60000['Text'].apply(len)"
   ]
  },
  {
   "cell_type": "code",
   "execution_count": 28,
   "metadata": {},
   "outputs": [
    {
     "data": {
      "text/plain": [
       "(100000, 13)"
      ]
     },
     "execution_count": 28,
     "metadata": {},
     "output_type": "execute_result"
    }
   ],
   "source": [
    "sample_60000.shape"
   ]
  },
  {
   "cell_type": "code",
   "execution_count": 29,
   "metadata": {},
   "outputs": [
    {
     "data": {
      "text/html": [
       "<div>\n",
       "<style scoped>\n",
       "    .dataframe tbody tr th:only-of-type {\n",
       "        vertical-align: middle;\n",
       "    }\n",
       "\n",
       "    .dataframe tbody tr th {\n",
       "        vertical-align: top;\n",
       "    }\n",
       "\n",
       "    .dataframe thead th {\n",
       "        text-align: right;\n",
       "    }\n",
       "</style>\n",
       "<table border=\"1\" class=\"dataframe\">\n",
       "  <thead>\n",
       "    <tr style=\"text-align: right;\">\n",
       "      <th></th>\n",
       "      <th>index</th>\n",
       "      <th>Id</th>\n",
       "      <th>ProductId</th>\n",
       "      <th>UserId</th>\n",
       "      <th>ProfileName</th>\n",
       "      <th>HelpfulnessNumerator</th>\n",
       "      <th>HelpfulnessDenominator</th>\n",
       "      <th>Score</th>\n",
       "      <th>Time</th>\n",
       "      <th>Summary</th>\n",
       "      <th>Text</th>\n",
       "      <th>CleanedText</th>\n",
       "      <th>length</th>\n",
       "    </tr>\n",
       "  </thead>\n",
       "  <tbody>\n",
       "    <tr>\n",
       "      <th>0</th>\n",
       "      <td>138706</td>\n",
       "      <td>150524</td>\n",
       "      <td>0006641040</td>\n",
       "      <td>ACITT7DI6IDDL</td>\n",
       "      <td>shari zychinski</td>\n",
       "      <td>0</td>\n",
       "      <td>0</td>\n",
       "      <td>1</td>\n",
       "      <td>939340800</td>\n",
       "      <td>EVERY book is educational</td>\n",
       "      <td>this witty little book makes my son laugh at l...</td>\n",
       "      <td>witti littl book make son laugh loud recit car...</td>\n",
       "      <td>375</td>\n",
       "    </tr>\n",
       "    <tr>\n",
       "      <th>30</th>\n",
       "      <td>138683</td>\n",
       "      <td>150501</td>\n",
       "      <td>0006641040</td>\n",
       "      <td>AJ46FKXOVC7NR</td>\n",
       "      <td>Nicholas A Mesiano</td>\n",
       "      <td>2</td>\n",
       "      <td>2</td>\n",
       "      <td>1</td>\n",
       "      <td>940809600</td>\n",
       "      <td>This whole series is great way to spend time w...</td>\n",
       "      <td>I can remember seeing the show when it aired o...</td>\n",
       "      <td>rememb see show air televis year ago child sis...</td>\n",
       "      <td>407</td>\n",
       "    </tr>\n",
       "    <tr>\n",
       "      <th>424</th>\n",
       "      <td>417839</td>\n",
       "      <td>451856</td>\n",
       "      <td>B00004CXX9</td>\n",
       "      <td>AIUWLEQ1ADEG5</td>\n",
       "      <td>Elizabeth Medina</td>\n",
       "      <td>0</td>\n",
       "      <td>0</td>\n",
       "      <td>1</td>\n",
       "      <td>944092800</td>\n",
       "      <td>Entertainingl Funny!</td>\n",
       "      <td>Beetlejuice is a well written movie ..... ever...</td>\n",
       "      <td>beetlejuic well written movi everyth excel act...</td>\n",
       "      <td>166</td>\n",
       "    </tr>\n",
       "  </tbody>\n",
       "</table>\n",
       "</div>"
      ],
      "text/plain": [
       "      index      Id   ProductId         UserId         ProfileName  \\\n",
       "0    138706  150524  0006641040  ACITT7DI6IDDL     shari zychinski   \n",
       "30   138683  150501  0006641040  AJ46FKXOVC7NR  Nicholas A Mesiano   \n",
       "424  417839  451856  B00004CXX9  AIUWLEQ1ADEG5    Elizabeth Medina   \n",
       "\n",
       "     HelpfulnessNumerator  HelpfulnessDenominator  Score       Time  \\\n",
       "0                       0                       0      1  939340800   \n",
       "30                      2                       2      1  940809600   \n",
       "424                     0                       0      1  944092800   \n",
       "\n",
       "                                               Summary  \\\n",
       "0                            EVERY book is educational   \n",
       "30   This whole series is great way to spend time w...   \n",
       "424                               Entertainingl Funny!   \n",
       "\n",
       "                                                  Text  \\\n",
       "0    this witty little book makes my son laugh at l...   \n",
       "30   I can remember seeing the show when it aired o...   \n",
       "424  Beetlejuice is a well written movie ..... ever...   \n",
       "\n",
       "                                           CleanedText  length  \n",
       "0    witti littl book make son laugh loud recit car...     375  \n",
       "30   rememb see show air televis year ago child sis...     407  \n",
       "424  beetlejuic well written movi everyth excel act...     166  "
      ]
     },
     "execution_count": 29,
     "metadata": {},
     "output_type": "execute_result"
    }
   ],
   "source": [
    "sample_60000.head(3)"
   ]
  },
  {
   "cell_type": "code",
   "execution_count": 30,
   "metadata": {},
   "outputs": [
    {
     "data": {
      "text/plain": [
       "1    87729\n",
       "0    12271\n",
       "Name: Score, dtype: int64"
      ]
     },
     "execution_count": 30,
     "metadata": {},
     "output_type": "execute_result"
    }
   ],
   "source": [
    "sample_60000['Score'].value_counts()"
   ]
  },
  {
   "cell_type": "code",
   "execution_count": 31,
   "metadata": {},
   "outputs": [],
   "source": [
    "from sklearn.model_selection import train_test_split\n",
    "\n",
    "x_tr, x_ts, y_tr, y_ts = train_test_split(sample_60000, y, test_size=0.20) # this is random splitting"
   ]
  },
  {
   "cell_type": "code",
   "execution_count": 32,
   "metadata": {},
   "outputs": [],
   "source": [
    "x_train, x_cv, y_train, y_cv = train_test_split(x_tr, y_tr, test_size=0.25) # this is random splitting"
   ]
  },
  {
   "cell_type": "code",
   "execution_count": 33,
   "metadata": {},
   "outputs": [
    {
     "data": {
      "text/plain": [
       "(60000, 13)"
      ]
     },
     "execution_count": 33,
     "metadata": {},
     "output_type": "execute_result"
    }
   ],
   "source": [
    "x_train.shape"
   ]
  },
  {
   "cell_type": "code",
   "execution_count": 34,
   "metadata": {},
   "outputs": [
    {
     "data": {
      "text/plain": [
       "(60000,)"
      ]
     },
     "execution_count": 34,
     "metadata": {},
     "output_type": "execute_result"
    }
   ],
   "source": [
    "y_train.shape"
   ]
  },
  {
   "cell_type": "markdown",
   "metadata": {},
   "source": [
    "# [4] Featurization"
   ]
  },
  {
   "cell_type": "markdown",
   "metadata": {},
   "source": [
    "## [4.1] BAG OF WORDS"
   ]
  },
  {
   "cell_type": "markdown",
   "metadata": {},
   "source": [
    "## [4.2] Bi-Grams and n-Grams."
   ]
  },
  {
   "cell_type": "code",
   "execution_count": 97,
   "metadata": {},
   "outputs": [
    {
     "name": "stdout",
     "output_type": "stream",
     "text": [
      "the type of count vectorizer  <class 'scipy.sparse.csr.csr_matrix'>\n",
      "the shape of out text BOW vectorizer  (60000, 34443)\n",
      "the number of unique words  34443\n",
      "the type of count vectorizer  <class 'scipy.sparse.csr.csr_matrix'>\n",
      "the shape of out text BOW vectorizer  (20000, 34443)\n",
      "the number of unique words  34443\n",
      "the type of count vectorizer  <class 'scipy.sparse.csr.csr_matrix'>\n",
      "the shape of out text BOW vectorizer  (20000, 34443)\n",
      "the number of unique words  34443\n"
     ]
    }
   ],
   "source": [
    "#bi-gram, tri-gram and n-gram\n",
    "from sklearn import preprocessing\n",
    "\n",
    "\n",
    "#removing stop words like \"not\" should be avoided before building n-grams\n",
    "# count_vect = CountVectorizer(ngram_range=(1,2))\n",
    "# please do read the CountVectorizer documentation http://scikit-learn.org/stable/modules/generated/sklearn.feature_extraction.text.CountVectorizer.html\n",
    "\n",
    "# you can choose these numebrs min_df=10, max_features=5000, of your choice\n",
    "count_vect = CountVectorizer(ngram_range=(1, 2),min_df=10) #in scikit-learn\n",
    "x_tr_final_counts_bigram = count_vect.fit_transform(x_train['CleanedText'].values)\n",
    "x_cv_final_counts_bigram = count_vect.transform(x_cv['CleanedText'].values)\n",
    "x_ts_final_counts_bigram = count_vect.transform(x_ts['CleanedText'].values)\n",
    "\n",
    "\n",
    "print(\"the type of count vectorizer \",type(x_tr_final_counts_bigram))\n",
    "print(\"the shape of out text BOW vectorizer \",x_tr_final_counts_bigram.get_shape())\n",
    "print(\"the number of unique words \", x_tr_final_counts_bigram.get_shape()[1])\n",
    "\n",
    "print(\"the type of count vectorizer \",type(x_cv_final_counts_bigram))\n",
    "print(\"the shape of out text BOW vectorizer \",x_cv_final_counts_bigram.get_shape())\n",
    "print(\"the number of unique words \", x_cv_final_counts_bigram.get_shape()[1])\n",
    "\n",
    "print(\"the type of count vectorizer \",type(x_ts_final_counts_bigram))\n",
    "print(\"the shape of out text BOW vectorizer \",x_ts_final_counts_bigram.get_shape())\n",
    "print(\"the number of unique words \", x_ts_final_counts_bigram.get_shape()[1])\n",
    "\n",
    "\n",
    "x_tr_final_counts_bigram = preprocessing.normalize(x_tr_final_counts_bigram)\n",
    "x_cv_final_counts_bigram = preprocessing.normalize(x_cv_final_counts_bigram)\n",
    "x_ts_final_counts_bigram = preprocessing.normalize(x_ts_final_counts_bigram)\n",
    "\n",
    "\n",
    "\n"
   ]
  },
  {
   "cell_type": "markdown",
   "metadata": {},
   "source": [
    "## [4.3] TF-IDF"
   ]
  },
  {
   "cell_type": "code",
   "execution_count": 98,
   "metadata": {},
   "outputs": [
    {
     "name": "stdout",
     "output_type": "stream",
     "text": [
      "the type of count vectorizer  <class 'scipy.sparse.csr.csr_matrix'>\n",
      "the shape of out text TFIDF vectorizer  (60000, 34443)\n",
      "the number of unique words including both unigrams and bigrams  34443\n",
      "the type of count vectorizer  <class 'scipy.sparse.csr.csr_matrix'>\n",
      "the shape of out text TFIDF vectorizer  (20000, 34443)\n",
      "the number of unique words including both unigrams and bigrams  34443\n",
      "the type of count vectorizer  <class 'scipy.sparse.csr.csr_matrix'>\n",
      "the shape of out text TFIDF vectorizer  (20000, 34443)\n",
      "the number of unique words including both unigrams and bigrams  34443\n"
     ]
    }
   ],
   "source": [
    "tf_idf_vect = TfidfVectorizer(ngram_range=(1, 2),min_df=10)\n",
    "x_tr_final_counts_tfidf = tf_idf_vect.fit_transform(x_train['CleanedText'].values)\n",
    "x_cv_final_counts_tfidf = tf_idf_vect.transform(x_cv['CleanedText'].values)\n",
    "x_ts_final_counts_tfidf = tf_idf_vect.transform(x_ts['CleanedText'].values)\n",
    "\n",
    "\n",
    "print(\"the type of count vectorizer \",type(x_tr_final_counts_tfidf))\n",
    "print(\"the shape of out text TFIDF vectorizer \",x_tr_final_counts_tfidf.get_shape())\n",
    "print(\"the number of unique words including both unigrams and bigrams \", x_tr_final_counts_tfidf.get_shape()[1])\n",
    "\n",
    "print(\"the type of count vectorizer \",type(x_cv_final_counts_tfidf))\n",
    "print(\"the shape of out text TFIDF vectorizer \",x_cv_final_counts_tfidf.get_shape())\n",
    "print(\"the number of unique words including both unigrams and bigrams \", x_cv_final_counts_tfidf.get_shape()[1])\n",
    "\n",
    "print(\"the type of count vectorizer \",type(x_ts_final_counts_tfidf))\n",
    "print(\"the shape of out text TFIDF vectorizer \",x_ts_final_counts_tfidf.get_shape())\n",
    "print(\"the number of unique words including both unigrams and bigrams \", x_ts_final_counts_tfidf.get_shape()[1])\n",
    "\n",
    "\n",
    "x_tr_final_counts_tfidf = preprocessing.normalize(x_tr_final_counts_tfidf)\n",
    "x_cv_final_counts_tfidf = preprocessing.normalize(x_cv_final_counts_tfidf)\n",
    "x_ts_final_counts_tfidf = preprocessing.normalize(x_ts_final_counts_tfidf)\n",
    "\n"
   ]
  },
  {
   "cell_type": "markdown",
   "metadata": {},
   "source": [
    "## [4.4] Word2Vec"
   ]
  },
  {
   "cell_type": "code",
   "execution_count": 99,
   "metadata": {},
   "outputs": [],
   "source": [
    "# Train your own Word2Vec model using your own text corpus\n",
    "i=0\n",
    "list_of_sentance_train=[]\n",
    "for sentance in x_train['CleanedText'].values:\n",
    "    list_of_sentance_train.append(sentance.split())"
   ]
  },
  {
   "cell_type": "code",
   "execution_count": 100,
   "metadata": {},
   "outputs": [],
   "source": [
    "# Train your own Word2Vec model using your own text corpus\n",
    "i=0\n",
    "list_of_sentance_cv=[]\n",
    "for sentance in x_cv['CleanedText'].values:\n",
    "    list_of_sentance_cv.append(sentance.split())"
   ]
  },
  {
   "cell_type": "code",
   "execution_count": 101,
   "metadata": {},
   "outputs": [],
   "source": [
    "# Train your own Word2Vec model using your own text corpus\n",
    "i=0\n",
    "list_of_sentance_ts=[]\n",
    "for sentance in x_ts['CleanedText'].values:\n",
    "    list_of_sentance_ts.append(sentance.split())"
   ]
  },
  {
   "cell_type": "code",
   "execution_count": 102,
   "metadata": {},
   "outputs": [
    {
     "name": "stdout",
     "output_type": "stream",
     "text": [
      "60000\n",
      "20000\n",
      "20000\n"
     ]
    }
   ],
   "source": [
    "print(len(list_of_sentance_train))\n",
    "print(len(list_of_sentance_cv))\n",
    "print(len(list_of_sentance_ts))"
   ]
  },
  {
   "cell_type": "code",
   "execution_count": 103,
   "metadata": {},
   "outputs": [],
   "source": [
    "def convertByteStringtoString(sentlist):\n",
    "    for x in sentlist:\n",
    "        for i in range(len(x)):\n",
    "            x[i] = x[i]\n",
    "            \n",
    "    return sentlist"
   ]
  },
  {
   "cell_type": "code",
   "execution_count": 104,
   "metadata": {},
   "outputs": [],
   "source": [
    "list_of_sentance_train = convertByteStringtoString(list_of_sentance_train)\n",
    "list_of_sentance_cv = convertByteStringtoString(list_of_sentance_cv)\n",
    "list_of_sentance_ts = convertByteStringtoString(list_of_sentance_ts)"
   ]
  },
  {
   "cell_type": "code",
   "execution_count": 105,
   "metadata": {},
   "outputs": [],
   "source": [
    "# min_count = 5 considers only words that occured atleast 5 times\n",
    "w2v_model=Word2Vec(list_of_sentance_train,min_count=5,size=50, workers=4)"
   ]
  },
  {
   "cell_type": "code",
   "execution_count": 106,
   "metadata": {},
   "outputs": [
    {
     "name": "stdout",
     "output_type": "stream",
     "text": [
      "number of words that occured minimum 5 times  10040\n",
      "sample words  ['tea', 'parti', 'theme', 'babi', 'shower', 'son', 'wife', 'purchas', 'numi', 'bamboo', 'gift', 'set', 'clear', 'pot', 'flower', 'describ', 'put', 'teapot', 'convers', 'great', 'open', 'make', 'part', 'event', 'know', 'guest', 'talk', 'next', 'day', 'chickpea', 'bean', 'excel', 'sourc', 'mani', 'miner', 'protein', 'two', 'pack', 'order', 'get', 'free', 'ship', 'care', 'select', 'fresh', 'smell', 'use', 'most', 'soup', 'automat']\n"
     ]
    }
   ],
   "source": [
    "w2v_words = list(w2v_model.wv.vocab)\n",
    "print(\"number of words that occured minimum 5 times \",len(w2v_words))\n",
    "print(\"sample words \", w2v_words[0:50])"
   ]
  },
  {
   "cell_type": "markdown",
   "metadata": {},
   "source": [
    "[4.4.1] Converting text into vectors using Avg W2V, TFIDF-W2V"
   ]
  },
  {
   "cell_type": "markdown",
   "metadata": {},
   "source": [
    "[4.4.1.1] Avg W2v"
   ]
  },
  {
   "cell_type": "code",
   "execution_count": 107,
   "metadata": {},
   "outputs": [
    {
     "name": "stderr",
     "output_type": "stream",
     "text": [
      "100%|███████████████████████████████████| 60000/60000 [01:49<00:00, 546.04it/s]\n"
     ]
    },
    {
     "name": "stdout",
     "output_type": "stream",
     "text": [
      "60000\n",
      "50\n"
     ]
    }
   ],
   "source": [
    "# average Word2Vec\n",
    "# compute average word2vec for each review.\n",
    "\n",
    "train_avgw2v = []; # the avg-w2v for each sentence/review is stored in this list\n",
    "for sent in tqdm(list_of_sentance_train): # for each review/sentence\n",
    "    sent_vec = np.zeros(50) # as word vectors are of zero length 50, you might need to change this to 300 if you use google's w2v\n",
    "    cnt_words =0; # num of words with a valid vector in the sentence/review\n",
    "    for word in sent: # for each word in a review/sentence\n",
    "        if word in w2v_words:\n",
    "            vec = w2v_model.wv[word]\n",
    "            sent_vec += vec\n",
    "            cnt_words += 1\n",
    "    if cnt_words != 0:\n",
    "        sent_vec /= cnt_words\n",
    "    train_avgw2v.append(sent_vec)\n",
    "print(len(train_avgw2v))\n",
    "print(len(train_avgw2v[0]))"
   ]
  },
  {
   "cell_type": "code",
   "execution_count": 108,
   "metadata": {},
   "outputs": [
    {
     "name": "stderr",
     "output_type": "stream",
     "text": [
      "100%|███████████████████████████████████| 20000/20000 [00:36<00:00, 541.23it/s]\n"
     ]
    },
    {
     "name": "stdout",
     "output_type": "stream",
     "text": [
      "20000\n",
      "50\n"
     ]
    }
   ],
   "source": [
    "\n",
    "cv_avgw2v = []; # the avg-w2v for each sentence/review is stored in this list\n",
    "for sent in tqdm(list_of_sentance_cv): # for each review/sentence\n",
    "    sent_vec = np.zeros(50) # as word vectors are of zero length 50, you might need to change this to 300 if you use google's w2v\n",
    "    cnt_words =0; # num of words with a valid vector in the sentence/review\n",
    "    for word in sent: # for each word in a review/sentence\n",
    "        if word in w2v_words:\n",
    "            vec = w2v_model.wv[word]\n",
    "            sent_vec += vec\n",
    "            cnt_words += 1\n",
    "    if cnt_words != 0:\n",
    "        sent_vec /= cnt_words\n",
    "    cv_avgw2v.append(sent_vec)\n",
    "print(len(cv_avgw2v))\n",
    "print(len(cv_avgw2v[0]))\n"
   ]
  },
  {
   "cell_type": "code",
   "execution_count": 109,
   "metadata": {},
   "outputs": [
    {
     "name": "stderr",
     "output_type": "stream",
     "text": [
      "100%|███████████████████████████████████| 20000/20000 [00:36<00:00, 540.56it/s]\n"
     ]
    },
    {
     "name": "stdout",
     "output_type": "stream",
     "text": [
      "20000\n",
      "50\n"
     ]
    }
   ],
   "source": [
    "test_avgw2v = []; # the avg-w2v for each sentence/review is stored in this list\n",
    "for sent in tqdm(list_of_sentance_ts): # for each review/sentence\n",
    "    sent_vec = np.zeros(50) # as word vectors are of zero length 50, you might need to change this to 300 if you use google's w2v\n",
    "    cnt_words =0; # num of words with a valid vector in the sentence/review\n",
    "    for word in sent: # for each word in a review/sentence\n",
    "        if word in w2v_words:\n",
    "            vec = w2v_model.wv[word]\n",
    "            sent_vec += vec\n",
    "            cnt_words += 1\n",
    "    if cnt_words != 0:\n",
    "        sent_vec /= cnt_words\n",
    "    test_avgw2v.append(sent_vec)\n",
    "print(len(test_avgw2v))\n",
    "print(len(test_avgw2v[0]))"
   ]
  },
  {
   "cell_type": "code",
   "execution_count": 110,
   "metadata": {},
   "outputs": [],
   "source": [
    "train_avgw2v = preprocessing.normalize(train_avgw2v)\n",
    "cv_avgw2v = preprocessing.normalize(cv_avgw2v)\n",
    "test_avgw2v = preprocessing.normalize(test_avgw2v)"
   ]
  },
  {
   "cell_type": "code",
   "execution_count": 111,
   "metadata": {},
   "outputs": [],
   "source": [
    "train_avgw2v = np.array(train_avgw2v)\n",
    "cv_avgw2v = np.array(cv_avgw2v)\n",
    "test_avgw2v = np.array(test_avgw2v)"
   ]
  },
  {
   "cell_type": "code",
   "execution_count": 112,
   "metadata": {},
   "outputs": [
    {
     "data": {
      "text/plain": [
       "False"
      ]
     },
     "execution_count": 112,
     "metadata": {},
     "output_type": "execute_result"
    }
   ],
   "source": [
    "np.isnan(train_avgw2v).any()\n"
   ]
  },
  {
   "cell_type": "code",
   "execution_count": 113,
   "metadata": {},
   "outputs": [
    {
     "data": {
      "text/plain": [
       "False"
      ]
     },
     "execution_count": 113,
     "metadata": {},
     "output_type": "execute_result"
    }
   ],
   "source": [
    "np.isnan(cv_avgw2v).any()\n"
   ]
  },
  {
   "cell_type": "code",
   "execution_count": 114,
   "metadata": {},
   "outputs": [
    {
     "data": {
      "text/plain": [
       "False"
      ]
     },
     "execution_count": 114,
     "metadata": {},
     "output_type": "execute_result"
    }
   ],
   "source": [
    "np.isnan(test_avgw2v).any()"
   ]
  },
  {
   "cell_type": "markdown",
   "metadata": {},
   "source": [
    "[4.4.1.2] TFIDF weighted W2v"
   ]
  },
  {
   "cell_type": "code",
   "execution_count": 115,
   "metadata": {},
   "outputs": [],
   "source": [
    "# S = [\"abc def pqr\", \"def def def abc\", \"pqr pqr def\"]\n",
    "model = TfidfVectorizer()\n",
    "x_tr_final_counts_TFIDF_w2v = model.fit_transform(x_train['CleanedText'].values)\n",
    "x_cv_final_counts_TFIDF_w2v = model.transform(x_cv['CleanedText'].values)\n",
    "x_ts_final_counts_TFIDF_w2v = model.transform(x_ts['CleanedText'].values)\n",
    "\n",
    "# we are converting a dictionary with word as a key, and the idf as a value\n",
    "dictionary = dict(zip(model.get_feature_names(), list(model.idf_)))\n"
   ]
  },
  {
   "cell_type": "code",
   "execution_count": 116,
   "metadata": {},
   "outputs": [
    {
     "name": "stderr",
     "output_type": "stream",
     "text": [
      "100%|████████████████████████████████████| 60000/60000 [20:02<00:00, 49.88it/s]\n"
     ]
    }
   ],
   "source": [
    "# TF-IDF weighted Word2Vec Train Data\n",
    "tfidf_feat = model.get_feature_names() # tfidf words/col-names\n",
    "# final_tf_idf is the sparse matrix with row= sentence, col=word and cell_val = tfidf\n",
    "\n",
    "tfidf_sent_vectors = []; # the tfidf-w2v for each sentence/review is stored in this list\n",
    "row=0;\n",
    "for sent in tqdm(list_of_sentance_train): # for each review/sentence \n",
    "    sent_vec = np.zeros(50) # as word vectors are of zero length\n",
    "    weight_sum =0; # num of words with a valid vector in the sentence/review\n",
    "    for word in sent: # for each word in a review/sentence\n",
    "        if word in w2v_words and word in tfidf_feat:\n",
    "            vec = w2v_model.wv[word]\n",
    "#             tf_idf = tf_idf_matrix[row, tfidf_feat.index(word)]\n",
    "            # to reduce the computation we are \n",
    "            # dictionary[word] = idf value of word in whole courpus\n",
    "            # sent.count(word) = tf valeus of word in this review\n",
    "            tf_idf = dictionary[word]*(sent.count(word)/len(sent))\n",
    "            sent_vec += (vec * tf_idf)\n",
    "            weight_sum += tf_idf\n",
    "    if weight_sum != 0:\n",
    "        sent_vec /= weight_sum\n",
    "    tfidf_sent_vectors.append(sent_vec)\n",
    "    row += 1"
   ]
  },
  {
   "cell_type": "code",
   "execution_count": 117,
   "metadata": {},
   "outputs": [
    {
     "name": "stderr",
     "output_type": "stream",
     "text": [
      "100%|████████████████████████████████████| 20000/20000 [06:53<00:00, 48.36it/s]\n"
     ]
    }
   ],
   "source": [
    "\n",
    "# TF-IDF weighted Word2Vec cv Data\n",
    "tfidf_feat = model.get_feature_names() # tfidf words/col-names\n",
    "# final_tf_idf is the sparse matrix with row= sentence, col=word and cell_val = tfidf\n",
    "\n",
    "tfidf_sent_vectors_cv = []; # the tfidf-w2v for each sentence/review is stored in this list\n",
    "row=0;\n",
    "for sent in tqdm(list_of_sentance_cv): # for each review/sentence \n",
    "    sent_vec = np.zeros(50) # as word vectors are of zero length\n",
    "    weight_sum =0; # num of words with a valid vector in the sentence/review\n",
    "    for word in sent: # for each word in a review/sentence\n",
    "        if word in w2v_words and word in tfidf_feat:\n",
    "            vec = w2v_model.wv[word]\n",
    "#             tf_idf = tf_idf_matrix[row, tfidf_feat.index(word)]\n",
    "            # to reduce the computation we are \n",
    "            # dictionary[word] = idf value of word in whole courpus\n",
    "            # sent.count(word) = tf valeus of word in this review\n",
    "            tf_idf = dictionary[word]*(sent.count(word)/len(sent))\n",
    "            sent_vec += (vec * tf_idf)\n",
    "            weight_sum += tf_idf\n",
    "    if weight_sum != 0:\n",
    "        sent_vec /= weight_sum\n",
    "    tfidf_sent_vectors_cv.append(sent_vec)\n",
    "    row += 1\n",
    "    "
   ]
  },
  {
   "cell_type": "code",
   "execution_count": 118,
   "metadata": {},
   "outputs": [
    {
     "name": "stderr",
     "output_type": "stream",
     "text": [
      "100%|████████████████████████████████████| 20000/20000 [06:39<00:00, 50.06it/s]\n"
     ]
    }
   ],
   "source": [
    "# TF-IDF weighted Word2Vec test Data\n",
    "tfidf_feat = model.get_feature_names() # tfidf words/col-names\n",
    "# final_tf_idf is the sparse matrix with row= sentence, col=word and cell_val = tfidf\n",
    "\n",
    "tfidf_sent_vectors_ts = []; # the tfidf-w2v for each sentence/review is stored in this list\n",
    "row=0;\n",
    "for sent in tqdm(list_of_sentance_ts): # for each review/sentence \n",
    "    sent_vec = np.zeros(50) # as word vectors are of zero length\n",
    "    weight_sum =0; # num of words with a valid vector in the sentence/review\n",
    "    for word in sent: # for each word in a review/sentence\n",
    "        if word in w2v_words and word in tfidf_feat:\n",
    "            vec = w2v_model.wv[word]\n",
    "#             tf_idf = tf_idf_matrix[row, tfidf_feat.index(word)]\n",
    "            # to reduce the computation we are \n",
    "            # dictionary[word] = idf value of word in whole courpus\n",
    "            # sent.count(word) = tf valeus of word in this review\n",
    "            tf_idf = dictionary[word]*(sent.count(word)/len(sent))\n",
    "            sent_vec += (vec * tf_idf)\n",
    "            weight_sum += tf_idf\n",
    "    if weight_sum != 0:\n",
    "        sent_vec /= weight_sum\n",
    "    tfidf_sent_vectors_ts.append(sent_vec)\n",
    "    row += 1"
   ]
  },
  {
   "cell_type": "code",
   "execution_count": 119,
   "metadata": {},
   "outputs": [],
   "source": [
    "tfidf_sent_vectors = preprocessing.normalize(tfidf_sent_vectors)\n",
    "tfidf_sent_vectors_cv = preprocessing.normalize(tfidf_sent_vectors_cv)\n",
    "tfidf_sent_vectors_ts = preprocessing.normalize(tfidf_sent_vectors_ts)\n"
   ]
  },
  {
   "cell_type": "code",
   "execution_count": 120,
   "metadata": {},
   "outputs": [],
   "source": [
    "tfidf_sent_vectors = np.array(tfidf_sent_vectors)\n",
    "tfidf_sent_vectors_cv = np.array(tfidf_sent_vectors_cv)\n",
    "tfidf_sent_vectors_ts = np.array(tfidf_sent_vectors_ts)"
   ]
  },
  {
   "cell_type": "code",
   "execution_count": 121,
   "metadata": {},
   "outputs": [
    {
     "data": {
      "text/plain": [
       "False"
      ]
     },
     "execution_count": 121,
     "metadata": {},
     "output_type": "execute_result"
    }
   ],
   "source": [
    "np.isnan(tfidf_sent_vectors).any()\n"
   ]
  },
  {
   "cell_type": "code",
   "execution_count": 122,
   "metadata": {},
   "outputs": [
    {
     "data": {
      "text/plain": [
       "False"
      ]
     },
     "execution_count": 122,
     "metadata": {},
     "output_type": "execute_result"
    }
   ],
   "source": [
    "np.isnan(tfidf_sent_vectors_cv).any()\n"
   ]
  },
  {
   "cell_type": "code",
   "execution_count": 123,
   "metadata": {},
   "outputs": [
    {
     "data": {
      "text/plain": [
       "False"
      ]
     },
     "execution_count": 123,
     "metadata": {},
     "output_type": "execute_result"
    }
   ],
   "source": [
    "np.isnan(tfidf_sent_vectors_ts).any()\n"
   ]
  },
  {
   "cell_type": "markdown",
   "metadata": {},
   "source": [
    "#RBF"
   ]
  },
  {
   "cell_type": "code",
   "execution_count": 35,
   "metadata": {},
   "outputs": [],
   "source": [
    "sorted_sample1 = final1.sort_values('Time', axis=0, ascending=True, inplace=False, kind='quicksort', na_position='last')    \n",
    "sample_600001 = sorted_sample1.iloc[0:20000]\n",
    "\n",
    "y1 = sample_600001['Score']\n"
   ]
  },
  {
   "cell_type": "code",
   "execution_count": 36,
   "metadata": {},
   "outputs": [
    {
     "data": {
      "text/plain": [
       "(20000, 12)"
      ]
     },
     "execution_count": 36,
     "metadata": {},
     "output_type": "execute_result"
    }
   ],
   "source": [
    "sample_600001.shape"
   ]
  },
  {
   "cell_type": "code",
   "execution_count": 37,
   "metadata": {},
   "outputs": [],
   "source": [
    "sample_600001[\"length\"] = sample_600001['Text'].apply(len)"
   ]
  },
  {
   "cell_type": "code",
   "execution_count": 38,
   "metadata": {},
   "outputs": [
    {
     "data": {
      "text/plain": [
       "(20000, 13)"
      ]
     },
     "execution_count": 38,
     "metadata": {},
     "output_type": "execute_result"
    }
   ],
   "source": [
    "sample_600001.shape"
   ]
  },
  {
   "cell_type": "code",
   "execution_count": 39,
   "metadata": {},
   "outputs": [
    {
     "data": {
      "text/html": [
       "<div>\n",
       "<style scoped>\n",
       "    .dataframe tbody tr th:only-of-type {\n",
       "        vertical-align: middle;\n",
       "    }\n",
       "\n",
       "    .dataframe tbody tr th {\n",
       "        vertical-align: top;\n",
       "    }\n",
       "\n",
       "    .dataframe thead th {\n",
       "        text-align: right;\n",
       "    }\n",
       "</style>\n",
       "<table border=\"1\" class=\"dataframe\">\n",
       "  <thead>\n",
       "    <tr style=\"text-align: right;\">\n",
       "      <th></th>\n",
       "      <th>index</th>\n",
       "      <th>Id</th>\n",
       "      <th>ProductId</th>\n",
       "      <th>UserId</th>\n",
       "      <th>ProfileName</th>\n",
       "      <th>HelpfulnessNumerator</th>\n",
       "      <th>HelpfulnessDenominator</th>\n",
       "      <th>Score</th>\n",
       "      <th>Time</th>\n",
       "      <th>Summary</th>\n",
       "      <th>Text</th>\n",
       "      <th>CleanedText</th>\n",
       "      <th>length</th>\n",
       "    </tr>\n",
       "  </thead>\n",
       "  <tbody>\n",
       "    <tr>\n",
       "      <th>0</th>\n",
       "      <td>138706</td>\n",
       "      <td>150524</td>\n",
       "      <td>0006641040</td>\n",
       "      <td>ACITT7DI6IDDL</td>\n",
       "      <td>shari zychinski</td>\n",
       "      <td>0</td>\n",
       "      <td>0</td>\n",
       "      <td>1</td>\n",
       "      <td>939340800</td>\n",
       "      <td>EVERY book is educational</td>\n",
       "      <td>this witty little book makes my son laugh at l...</td>\n",
       "      <td>witti littl book make son laugh loud recit car...</td>\n",
       "      <td>375</td>\n",
       "    </tr>\n",
       "    <tr>\n",
       "      <th>30</th>\n",
       "      <td>138683</td>\n",
       "      <td>150501</td>\n",
       "      <td>0006641040</td>\n",
       "      <td>AJ46FKXOVC7NR</td>\n",
       "      <td>Nicholas A Mesiano</td>\n",
       "      <td>2</td>\n",
       "      <td>2</td>\n",
       "      <td>1</td>\n",
       "      <td>940809600</td>\n",
       "      <td>This whole series is great way to spend time w...</td>\n",
       "      <td>I can remember seeing the show when it aired o...</td>\n",
       "      <td>rememb see show air televis year ago child sis...</td>\n",
       "      <td>407</td>\n",
       "    </tr>\n",
       "    <tr>\n",
       "      <th>424</th>\n",
       "      <td>417839</td>\n",
       "      <td>451856</td>\n",
       "      <td>B00004CXX9</td>\n",
       "      <td>AIUWLEQ1ADEG5</td>\n",
       "      <td>Elizabeth Medina</td>\n",
       "      <td>0</td>\n",
       "      <td>0</td>\n",
       "      <td>1</td>\n",
       "      <td>944092800</td>\n",
       "      <td>Entertainingl Funny!</td>\n",
       "      <td>Beetlejuice is a well written movie ..... ever...</td>\n",
       "      <td>beetlejuic well written movi everyth excel act...</td>\n",
       "      <td>166</td>\n",
       "    </tr>\n",
       "  </tbody>\n",
       "</table>\n",
       "</div>"
      ],
      "text/plain": [
       "      index      Id   ProductId         UserId         ProfileName  \\\n",
       "0    138706  150524  0006641040  ACITT7DI6IDDL     shari zychinski   \n",
       "30   138683  150501  0006641040  AJ46FKXOVC7NR  Nicholas A Mesiano   \n",
       "424  417839  451856  B00004CXX9  AIUWLEQ1ADEG5    Elizabeth Medina   \n",
       "\n",
       "     HelpfulnessNumerator  HelpfulnessDenominator  Score       Time  \\\n",
       "0                       0                       0      1  939340800   \n",
       "30                      2                       2      1  940809600   \n",
       "424                     0                       0      1  944092800   \n",
       "\n",
       "                                               Summary  \\\n",
       "0                            EVERY book is educational   \n",
       "30   This whole series is great way to spend time w...   \n",
       "424                               Entertainingl Funny!   \n",
       "\n",
       "                                                  Text  \\\n",
       "0    this witty little book makes my son laugh at l...   \n",
       "30   I can remember seeing the show when it aired o...   \n",
       "424  Beetlejuice is a well written movie ..... ever...   \n",
       "\n",
       "                                           CleanedText  length  \n",
       "0    witti littl book make son laugh loud recit car...     375  \n",
       "30   rememb see show air televis year ago child sis...     407  \n",
       "424  beetlejuic well written movi everyth excel act...     166  "
      ]
     },
     "execution_count": 39,
     "metadata": {},
     "output_type": "execute_result"
    }
   ],
   "source": [
    "sample_600001.head(3)"
   ]
  },
  {
   "cell_type": "code",
   "execution_count": 40,
   "metadata": {},
   "outputs": [
    {
     "data": {
      "text/plain": [
       "1    17826\n",
       "0     2174\n",
       "Name: Score, dtype: int64"
      ]
     },
     "execution_count": 40,
     "metadata": {},
     "output_type": "execute_result"
    }
   ],
   "source": [
    "sample_600001['Score'].value_counts()"
   ]
  },
  {
   "cell_type": "code",
   "execution_count": 41,
   "metadata": {},
   "outputs": [],
   "source": [
    "from sklearn.model_selection import train_test_split\n",
    "\n",
    "x_tr_rbf, x_ts_rbf, y_tr_rbf, y_ts_rbf = train_test_split(sample_600001, y1, test_size=0.20) # this is random splitting"
   ]
  },
  {
   "cell_type": "code",
   "execution_count": 42,
   "metadata": {},
   "outputs": [],
   "source": [
    "x_train_rbf, x_cv_rbf, y_train_rbf, y_cv_rbf = train_test_split(x_tr_rbf, y_tr_rbf, test_size=0.25) # this is random splitting"
   ]
  },
  {
   "cell_type": "code",
   "execution_count": 43,
   "metadata": {},
   "outputs": [
    {
     "data": {
      "text/plain": [
       "(12000, 13)"
      ]
     },
     "execution_count": 43,
     "metadata": {},
     "output_type": "execute_result"
    }
   ],
   "source": [
    "x_train_rbf.shape"
   ]
  },
  {
   "cell_type": "code",
   "execution_count": 44,
   "metadata": {},
   "outputs": [
    {
     "data": {
      "text/plain": [
       "(12000,)"
      ]
     },
     "execution_count": 44,
     "metadata": {},
     "output_type": "execute_result"
    }
   ],
   "source": [
    "y_train_rbf.shape"
   ]
  },
  {
   "cell_type": "code",
   "execution_count": 45,
   "metadata": {},
   "outputs": [
    {
     "data": {
      "text/plain": [
       "(4000, 13)"
      ]
     },
     "execution_count": 45,
     "metadata": {},
     "output_type": "execute_result"
    }
   ],
   "source": [
    "x_ts_rbf.shape"
   ]
  },
  {
   "cell_type": "code",
   "execution_count": 46,
   "metadata": {},
   "outputs": [
    {
     "data": {
      "text/plain": [
       "(4000,)"
      ]
     },
     "execution_count": 46,
     "metadata": {},
     "output_type": "execute_result"
    }
   ],
   "source": [
    "y_ts_rbf.shape"
   ]
  },
  {
   "cell_type": "markdown",
   "metadata": {},
   "source": [
    "# Bi-Grams and n-Grams for rbf"
   ]
  },
  {
   "cell_type": "code",
   "execution_count": 47,
   "metadata": {},
   "outputs": [
    {
     "name": "stdout",
     "output_type": "stream",
     "text": [
      "the type of count vectorizer  <class 'scipy.sparse.csr.csr_matrix'>\n",
      "the shape of out text BOW vectorizer  (12000, 500)\n",
      "the number of unique words  500\n",
      "the type of count vectorizer  <class 'scipy.sparse.csr.csr_matrix'>\n",
      "the shape of out text BOW vectorizer  (4000, 500)\n",
      "the number of unique words  500\n",
      "the type of count vectorizer  <class 'scipy.sparse.csr.csr_matrix'>\n",
      "the shape of out text BOW vectorizer  (4000, 500)\n",
      "the number of unique words  500\n"
     ]
    }
   ],
   "source": [
    "#bi-gram, tri-gram and n-gram\n",
    "from sklearn import preprocessing\n",
    "\n",
    "#removing stop words like \"not\" should be avoided before building n-grams\n",
    "# count_vect = CountVectorizer(ngram_range=(1,2))\n",
    "# please do read the CountVectorizer documentation http://scikit-learn.org/stable/modules/generated/sklearn.feature_extraction.text.CountVectorizer.html\n",
    "\n",
    "# you can choose these numebrs min_df=10, max_features=5000, of your choice\n",
    "count_vect = CountVectorizer(ngram_range=(1, 2),min_df=10,max_features = 500) #in scikit-learn\n",
    "x_tr_final_counts_bigram_rbf = count_vect.fit_transform(x_train_rbf['CleanedText'].values)\n",
    "x_cv_final_counts_bigram_rbf = count_vect.transform(x_cv_rbf['CleanedText'].values)\n",
    "x_ts_final_counts_bigram_rbf = count_vect.transform(x_ts_rbf['CleanedText'].values)\n",
    "\n",
    "\n",
    "print(\"the type of count vectorizer \",type(x_tr_final_counts_bigram_rbf))\n",
    "print(\"the shape of out text BOW vectorizer \",x_tr_final_counts_bigram_rbf.get_shape())\n",
    "print(\"the number of unique words \", x_tr_final_counts_bigram_rbf.get_shape()[1])\n",
    "\n",
    "print(\"the type of count vectorizer \",type(x_cv_final_counts_bigram_rbf))\n",
    "print(\"the shape of out text BOW vectorizer \",x_cv_final_counts_bigram_rbf.get_shape())\n",
    "print(\"the number of unique words \", x_cv_final_counts_bigram_rbf.get_shape()[1])\n",
    "\n",
    "print(\"the type of count vectorizer \",type(x_ts_final_counts_bigram_rbf))\n",
    "print(\"the shape of out text BOW vectorizer \",x_ts_final_counts_bigram_rbf.get_shape())\n",
    "print(\"the number of unique words \", x_ts_final_counts_bigram_rbf.get_shape()[1])\n",
    "\n",
    "\n",
    "x_tr_final_counts_bigram_rbf = preprocessing.normalize(x_tr_final_counts_bigram_rbf)\n",
    "x_cv_final_counts_bigram_rbf = preprocessing.normalize(x_cv_final_counts_bigram_rbf)\n",
    "x_ts_final_counts_bigram_rbf = preprocessing.normalize(x_ts_final_counts_bigram_rbf)\n",
    "\n",
    "\n"
   ]
  },
  {
   "cell_type": "markdown",
   "metadata": {},
   "source": [
    "# tf_idf for rbf"
   ]
  },
  {
   "cell_type": "code",
   "execution_count": 48,
   "metadata": {},
   "outputs": [
    {
     "name": "stdout",
     "output_type": "stream",
     "text": [
      "the type of count vectorizer  <class 'scipy.sparse.csr.csr_matrix'>\n",
      "the shape of out text TFIDF vectorizer  (12000, 500)\n",
      "the number of unique words including both unigrams and bigrams  500\n",
      "the type of count vectorizer  <class 'scipy.sparse.csr.csr_matrix'>\n",
      "the shape of out text TFIDF vectorizer  (4000, 500)\n",
      "the number of unique words including both unigrams and bigrams  500\n",
      "the type of count vectorizer  <class 'scipy.sparse.csr.csr_matrix'>\n",
      "the shape of out text TFIDF vectorizer  (4000, 500)\n",
      "the number of unique words including both unigrams and bigrams  500\n"
     ]
    }
   ],
   "source": [
    "tf_idf_vect = TfidfVectorizer(ngram_range=(1, 2),min_df=10,max_features = 500)\n",
    "x_tr_final_counts_tfidf_rbf = tf_idf_vect.fit_transform(x_train_rbf['CleanedText'].values)\n",
    "x_cv_final_counts_tfidf_rbf = tf_idf_vect.transform(x_cv_rbf['CleanedText'].values)\n",
    "x_ts_final_counts_tfidf_rbf = tf_idf_vect.transform(x_ts_rbf['CleanedText'].values)\n",
    "\n",
    "x_tr_final_counts_tfidf_rbf = preprocessing.normalize(x_tr_final_counts_tfidf_rbf)\n",
    "x_cv_final_counts_tfidf_rbf = preprocessing.normalize(x_cv_final_counts_tfidf_rbf)\n",
    "x_ts_final_counts_tfidf_rbf = preprocessing.normalize(x_ts_final_counts_tfidf_rbf)\n",
    "\n",
    "\n",
    "print(\"the type of count vectorizer \",type(x_tr_final_counts_tfidf_rbf))\n",
    "print(\"the shape of out text TFIDF vectorizer \",x_tr_final_counts_tfidf_rbf.get_shape())\n",
    "print(\"the number of unique words including both unigrams and bigrams \", x_tr_final_counts_tfidf_rbf.get_shape()[1])\n",
    "\n",
    "print(\"the type of count vectorizer \",type(x_cv_final_counts_tfidf_rbf))\n",
    "print(\"the shape of out text TFIDF vectorizer \",x_cv_final_counts_tfidf_rbf.get_shape())\n",
    "print(\"the number of unique words including both unigrams and bigrams \", x_cv_final_counts_tfidf_rbf.get_shape()[1])\n",
    "\n",
    "print(\"the type of count vectorizer \",type(x_ts_final_counts_tfidf_rbf))\n",
    "print(\"the shape of out text TFIDF vectorizer \",x_ts_final_counts_tfidf_rbf.get_shape())\n",
    "print(\"the number of unique words including both unigrams and bigrams \", x_ts_final_counts_tfidf_rbf.get_shape()[1])\n"
   ]
  },
  {
   "cell_type": "markdown",
   "metadata": {},
   "source": [
    "#Word2Vec Train Data"
   ]
  },
  {
   "cell_type": "code",
   "execution_count": 49,
   "metadata": {},
   "outputs": [],
   "source": [
    "# Train your own Word2Vec model using your own text corpus\n",
    "i=0\n",
    "list_of_sentance_rbf=[]\n",
    "for sentance in x_train_rbf['CleanedText'].values:\n",
    "    list_of_sentance_rbf.append(sentance.split())"
   ]
  },
  {
   "cell_type": "code",
   "execution_count": 50,
   "metadata": {},
   "outputs": [],
   "source": [
    "\n",
    "# Train your own Word2Vec model using your own text corpus\n",
    "i=0\n",
    "list_of_sentance_cv_rbf=[]\n",
    "for sentance in x_cv_rbf['CleanedText'].values:\n",
    "    list_of_sentance_cv_rbf.append(sentance.split())\n",
    "\n",
    "    "
   ]
  },
  {
   "cell_type": "code",
   "execution_count": 51,
   "metadata": {},
   "outputs": [],
   "source": [
    "# Train your own Word2Vec model using your own text corpus\n",
    "i=0\n",
    "list_of_sentance_ts_rbf=[]\n",
    "for sentance in x_ts_rbf['CleanedText'].values:\n",
    "    list_of_sentance_ts_rbf.append(sentance.split())"
   ]
  },
  {
   "cell_type": "code",
   "execution_count": 52,
   "metadata": {},
   "outputs": [
    {
     "name": "stdout",
     "output_type": "stream",
     "text": [
      "12000\n",
      "4000\n",
      "4000\n"
     ]
    }
   ],
   "source": [
    "print(len(list_of_sentance_rbf))\n",
    "print(len(list_of_sentance_cv_rbf))\n",
    "print(len(list_of_sentance_ts_rbf))"
   ]
  },
  {
   "cell_type": "code",
   "execution_count": 53,
   "metadata": {},
   "outputs": [],
   "source": [
    "def convertByteStringtoString(sentlist):\n",
    "    for x in sentlist:\n",
    "        for i in range(len(x)):\n",
    "            x[i] = x[i]\n",
    "            \n",
    "    return sentlist"
   ]
  },
  {
   "cell_type": "code",
   "execution_count": 54,
   "metadata": {},
   "outputs": [],
   "source": [
    "list_of_sentance_rbf = convertByteStringtoString(list_of_sentance_rbf)\n",
    "list_of_sentance_cv_rbf = convertByteStringtoString(list_of_sentance_cv_rbf)\n",
    "list_of_sentance_ts_rbf = convertByteStringtoString(list_of_sentance_ts_rbf)"
   ]
  },
  {
   "cell_type": "code",
   "execution_count": 55,
   "metadata": {},
   "outputs": [],
   "source": [
    "# min_count = 5 considers only words that occured atleast 5 times\n",
    "w2v_model_rbf=Word2Vec(list_of_sentance_rbf,min_count=5,size=500, workers=4)"
   ]
  },
  {
   "cell_type": "code",
   "execution_count": 56,
   "metadata": {},
   "outputs": [
    {
     "name": "stdout",
     "output_type": "stream",
     "text": [
      "number of words that occured minimum 5 times  4972\n",
      "sample words  ['one', 'review', 'said', 'care', 'dont', 'eat', 'entir', 'packag', 'well', 'didnt', 'work', 'incred', 'order', 'case', 'last', 'week', 'offic', 'find', 'pretzel', 'better', 'real', 'delici', 'organ', 'full', 'flavor', 'hit', 'hous', 'plump', 'rice', 'fat', 'carrot', 'tasti', 'chicken', 'great', 'soup', 'titl', 'pretti', 'much', 'say', 'reserv', 'star', 'consid', 'best', 'want', 'cereal', 'differ', 'ive', 'year', 'definit', 'like', 'usual', 'crispi', 'substanti', 'air', 'nice', 'though', 'strong', 'cocoa', 'doesnt', 'get', 'soggi', 'first', 'two', 'minut', 'milk', 'drink', 'product', 'pour', 'anoth', 'talk', 'empti', 'calori', 'ill', 'generous', 'assum', 'particular', 'familiar', 'read', 'compar', 'nutrit', 'label', 'high', 'qualiti', 'also', 'would', 'crisp', 'reveal', 'almost', 'ident', 'valu', 'perhap', 'never', 'claim', 'fulli', 'balanc', 'meal', 'neither', 'made', 'ingredi', 'none', 'artifici', 'vitamin', 'miner', 'ad', 'groceri', 'store', 'make', 'look', 'design', 'use', 'part', 'diet', 'way', 'plain', 'good', 'buy', 'sever', 'time', 'per', 'breakfast', 'connect', 'compani', 'love', 'mani', 'theyd', 'add', 'line', 'larg', 'bulk', 'bag', 'even', 'happier', 'help', 'mild', 'breath', 'problem', 'surpris', 'haribo', 'allow', 'name', 'noth', 'tradit', 'fare', 'golden', 'bear', 'someth', 'expect', 'see', 'wont', 'grandkid', 'live', 'learn', 'stuff', 'wild', 'ride', 'pepper', 'nitrit', 'msg', 'natur', 'healthi', 'still', 'beef', 'low', 'serv', 'protein', 'watch', 'weight', 'welcom', 'addit', 'essenti', 'slice', 'steak', 'averag', 'piec', 'inch', 'squar', 'thick', 'keep', 'mind', 'jerki', 'thus', 'lover', 'may', 'put', 'tender', 'meat', 'your', 'tough', 'consist', 'tire', 'els', 'chewi', 'contain', 'gristl', 'break', 'complet', 'chew', 'inconveni', 'minor', 'enough', 'give', 'five', 'base', 'overal', 'tast', 'perfect', 'overpow', 'mmmmmm', 'yummi', 'fall', 'tuna', 'tri', 'smoke', 'grandmoth', 'wonder', 'box', 'send', 'mother', 'sinc', 'havent', 'seen', 'avail', 'recommend', 'take', 'littl', 'bit', 'oliv', 'oil', 'vinegar', 'mix', 'cucumb', 'chees', 'green', 'onion', 'dash', 'salt', 'that', 'snack', 'happi', 'studi', 'night', 'wise', 'dip', 'north', 'unfortun', 'florida', 'couldnt', 'amazon', 'continu', 'reciev', 'today', 'quicker', 'item', 'set', 'realli', 'enjoy', 'festiv', 'thai', 'food', 'recent', 'adopt', 'total', 'asian', 'cook', 'health', 'reason', 'third', 'lost', 'pound', 'pain', 'gone', 'benefit', 'satisfi', 'crave', 'spici', 'sweet', 'anymor', 'shot', 'hard', 'area', 'limit', 'access', 'wholesom', 'thank', 'offer', 'subtl', 'lemongrass', 'alot', 'cheaper', 'cost', 'cup', 'day', 'sweetner', 'everyth', 'purchas', 'process', 'ultra', 'temperatur', 'main', 'europ', 'fact', 'franc', 'isnt', 'long', 'without', 'refriger', 'slight', 'kid', 'least', 'cant', 'smooth', 'american', 'stori', 'husband', 'coffe', 'robust', 'bitter', 'remind', 'expresso', 'stove', 'machin', 'could', 'everyday', 'agre', 'provid', 'nutti', 'interv', 'pod', 'system', 'quick', 'easi', 'fresh', 'hot', 'brew', 'everi', 'treat', 'fantast', 'abl', 'administ', 'type', 'pill', 'seem', 'notic', 'crunch', 'human', 'grade', 'cat', 'antibiot', 'kind', 'famous', 'red', 'bean', 'recip', 'scratch', 'yet', 'beat', 'zatarain', 'season', 'simpl', 'famili', 'absolut', 'favorit', 'friend', 'come', 'swear', 'ever', 'grandma', 'mom', 'etc', 'away', 'truli', 'typic', 'turkey', 'sausag', 'imposs', 'bet', 'fun', 'receiv', 'oversea', 'iraq', 'impress', 'excit', 'shipment', 'invit', 'share', 'soooo', 'side', 'wasabi', 'tube', 'comparison', 'japanes', 'sushi', 'bar', 'exact', 'pleas', 'regular', 'basi', 'ten', 'can', 'three', 'big', 'bigger', 'fruit', 'found', 'dessert', 'creami', 'alway', 'honey', 'crystal', 'whole', 'wish', 'came', 'larger', 'size', 'hold', 'raw', 'pure', 'heaven', 'school', 'teacher', 'allergi', 'diabet', 'need', 'fast', 'meet', 'dietari', 'erewhon', 'twice', 'grain', 'banana', 'fructos', 'met', 'rais', 'child', 'closest', 'lose', 'altern', 'potato', 'chip', 'reduc', 'daili', 'intak', 'wasa', 'crispbread', 'favor', 'consum', 'report', 'decid', 'textur', 'mouth', 'feel', 'cracker', 'unlik', 'brand', 'sourdough', 'actual', 'decent', 'hint', 'tang', 'rye', 'vari', 'info', 'cholesterol', 'sodium', 'carbohydr', 'fiber', 'sugar', 'number', 'australian', 'licoric', 'short', 'rather', 'thin', 'weak', 'pasti', 'linger', 'aftertast', 'posit', 'possibl', 'lot', 'variabl', 'among', 'batch', 'similar', 'wow', 'weve', 'macaroni', 'anni', 'butter', 'sauc', 'past', 'foil', 'creativ', 'tip', 'boil', 'plenti', 'water', 'requir', 'minimum', 'drain']\n"
     ]
    }
   ],
   "source": [
    "w2v_words_rbf = list(w2v_model_rbf.wv.vocab)\n",
    "print(\"number of words that occured minimum 5 times \",len(w2v_words_rbf))\n",
    "print(\"sample words \", w2v_words_rbf[0:500])"
   ]
  },
  {
   "cell_type": "code",
   "execution_count": 57,
   "metadata": {},
   "outputs": [],
   "source": [
    "# Converting text into vectors using Avg W2V, TFIDF-W2V"
   ]
  },
  {
   "cell_type": "code",
   "execution_count": 58,
   "metadata": {},
   "outputs": [],
   "source": [
    " # Avg W2v rbf"
   ]
  },
  {
   "cell_type": "code",
   "execution_count": 59,
   "metadata": {},
   "outputs": [
    {
     "name": "stderr",
     "output_type": "stream",
     "text": [
      "100%|███████████████████████████████████| 12000/12000 [00:17<00:00, 680.31it/s]\n"
     ]
    },
    {
     "name": "stdout",
     "output_type": "stream",
     "text": [
      "12000\n",
      "500\n"
     ]
    }
   ],
   "source": [
    "# average Word2Vec\n",
    "# compute average word2vec for each review.\n",
    "\n",
    "train_avgw2v_rbf = []; # the avg-w2v for each sentence/review is stored in this list\n",
    "for sent in tqdm(list_of_sentance_rbf): # for each review/sentence\n",
    "    sent_vec = np.zeros(500) # as word vectors are of zero length 50, you might need to change this to 300 if you use google's w2v\n",
    "    cnt_words =0; # num of words with a valid vector in the sentence/review\n",
    "    for word in sent: # for each word in a review/sentence\n",
    "        if word in w2v_words_rbf:\n",
    "            vec = w2v_model_rbf.wv[word]\n",
    "            sent_vec += vec\n",
    "            cnt_words += 1\n",
    "    if cnt_words != 0:\n",
    "        sent_vec /= cnt_words\n",
    "    train_avgw2v_rbf.append(sent_vec)\n",
    "print(len(train_avgw2v_rbf))\n",
    "print(len(train_avgw2v_rbf[0]))"
   ]
  },
  {
   "cell_type": "code",
   "execution_count": 60,
   "metadata": {},
   "outputs": [
    {
     "name": "stderr",
     "output_type": "stream",
     "text": [
      "100%|█████████████████████████████████████| 4000/4000 [00:05<00:00, 681.46it/s]\n"
     ]
    },
    {
     "name": "stdout",
     "output_type": "stream",
     "text": [
      "4000\n",
      "500\n"
     ]
    }
   ],
   "source": [
    "\n",
    "cv_avgw2v_rbf = []; # the avg-w2v for each sentence/review is stored in this list\n",
    "for sent in tqdm(list_of_sentance_cv_rbf): # for each review/sentence\n",
    "    sent_vec = np.zeros(500) # as word vectors are of zero length 50, you might need to change this to 300 if you use google's w2v\n",
    "    cnt_words =0; # num of words with a valid vector in the sentence/review\n",
    "    for word in sent: # for each word in a review/sentence\n",
    "        if word in w2v_words_rbf:\n",
    "            vec = w2v_model_rbf.wv[word]\n",
    "            sent_vec += vec\n",
    "            cnt_words += 1\n",
    "    if cnt_words != 0:\n",
    "        sent_vec /= cnt_words\n",
    "    cv_avgw2v_rbf.append(sent_vec)\n",
    "print(len(cv_avgw2v_rbf))\n",
    "print(len(cv_avgw2v_rbf[0]))\n"
   ]
  },
  {
   "cell_type": "code",
   "execution_count": 61,
   "metadata": {},
   "outputs": [
    {
     "name": "stderr",
     "output_type": "stream",
     "text": [
      "100%|█████████████████████████████████████| 4000/4000 [00:05<00:00, 678.59it/s]\n"
     ]
    },
    {
     "name": "stdout",
     "output_type": "stream",
     "text": [
      "4000\n",
      "500\n"
     ]
    }
   ],
   "source": [
    "test_avgw2v_rbf = []; # the avg-w2v for each sentence/review is stored in this list\n",
    "for sent in tqdm(list_of_sentance_ts_rbf): # for each review/sentence\n",
    "    sent_vec = np.zeros(500) # as word vectors are of zero length 50, you might need to change this to 300 if you use google's w2v\n",
    "    cnt_words =0; # num of words with a valid vector in the sentence/review\n",
    "    for word in sent: # for each word in a review/sentence\n",
    "        if word in w2v_words_rbf:\n",
    "            vec = w2v_model_rbf.wv[word]\n",
    "            sent_vec += vec\n",
    "            cnt_words += 1\n",
    "    if cnt_words != 0:\n",
    "        sent_vec /= cnt_words\n",
    "    test_avgw2v_rbf.append(sent_vec)\n",
    "print(len(test_avgw2v_rbf))\n",
    "print(len(test_avgw2v_rbf[0]))"
   ]
  },
  {
   "cell_type": "code",
   "execution_count": 62,
   "metadata": {},
   "outputs": [],
   "source": [
    "\n",
    "train_avgw2v_rbf = preprocessing.normalize(train_avgw2v_rbf)\n",
    "cv_avgw2v_rbf = preprocessing.normalize(cv_avgw2v_rbf)\n",
    "test_avgw2v_rbf = preprocessing.normalize(test_avgw2v_rbf)\n"
   ]
  },
  {
   "cell_type": "code",
   "execution_count": 63,
   "metadata": {},
   "outputs": [],
   "source": [
    "train_avgw2v_rbf = np.array(train_avgw2v_rbf)\n",
    "cv_avgw2v_rbf = np.array(cv_avgw2v_rbf)\n",
    "test_avgw2v_rbf = np.array(test_avgw2v_rbf)"
   ]
  },
  {
   "cell_type": "code",
   "execution_count": 64,
   "metadata": {},
   "outputs": [
    {
     "data": {
      "text/plain": [
       "False"
      ]
     },
     "execution_count": 64,
     "metadata": {},
     "output_type": "execute_result"
    }
   ],
   "source": [
    "np.isnan(train_avgw2v_rbf).any()\n"
   ]
  },
  {
   "cell_type": "code",
   "execution_count": 65,
   "metadata": {},
   "outputs": [
    {
     "data": {
      "text/plain": [
       "False"
      ]
     },
     "execution_count": 65,
     "metadata": {},
     "output_type": "execute_result"
    }
   ],
   "source": [
    "np.isnan(cv_avgw2v_rbf).any()"
   ]
  },
  {
   "cell_type": "code",
   "execution_count": 66,
   "metadata": {},
   "outputs": [
    {
     "data": {
      "text/plain": [
       "False"
      ]
     },
     "execution_count": 66,
     "metadata": {},
     "output_type": "execute_result"
    }
   ],
   "source": [
    "np.isnan(test_avgw2v_rbf).any()"
   ]
  },
  {
   "cell_type": "code",
   "execution_count": 67,
   "metadata": {},
   "outputs": [],
   "source": [
    "# TFIDF weighted W2v for rbf"
   ]
  },
  {
   "cell_type": "code",
   "execution_count": 68,
   "metadata": {},
   "outputs": [],
   "source": [
    "# S = [\"abc def pqr\", \"def def def abc\", \"pqr pqr def\"]\n",
    "model = TfidfVectorizer(min_df=10,max_features = 500)\n",
    "x_tr_final_counts_TFIDF_w2v_rbf = model.fit_transform(x_train_rbf['CleanedText'].values)\n",
    "x_cv_final_counts_TFIDF_w2v_rbf = model.transform(x_cv_rbf['CleanedText'].values)\n",
    "x_ts_final_counts_TFIDF_w2v_rbf = model.transform(x_ts_rbf['CleanedText'].values)\n",
    "\n",
    "# we are converting a dictionary with word as a key, and the idf as a value\n",
    "dictionary = dict(zip(model.get_feature_names(), list(model.idf_)))\n"
   ]
  },
  {
   "cell_type": "code",
   "execution_count": 69,
   "metadata": {},
   "outputs": [
    {
     "name": "stderr",
     "output_type": "stream",
     "text": [
      "100%|███████████████████████████████████| 12000/12000 [00:23<00:00, 518.19it/s]\n"
     ]
    }
   ],
   "source": [
    "# TF-IDF weighted Word2Vec Train Data\n",
    "tfidf_feat = model.get_feature_names() # tfidf words/col-names\n",
    "# final_tf_idf is the sparse matrix with row= sentence, col=word and cell_val = tfidf\n",
    "\n",
    "tfidf_sent_vectors_rbf = []; # the tfidf-w2v for each sentence/review is stored in this list\n",
    "row=0;\n",
    "for sent in tqdm(list_of_sentance_rbf): # for each review/sentence \n",
    "    sent_vec = np.zeros(500) # as word vectors are of zero length\n",
    "    weight_sum =0; # num of words with a valid vector in the sentence/review\n",
    "    for word in sent: # for each word in a review/sentence\n",
    "        if word in w2v_words_rbf and word in tfidf_feat:\n",
    "            vec = w2v_model_rbf.wv[word]\n",
    "#             tf_idf = tf_idf_matrix[row, tfidf_feat.index(word)]\n",
    "            # to reduce the computation we are \n",
    "            # dictionary[word] = idf value of word in whole courpus\n",
    "            # sent.count(word) = tf valeus of word in this review\n",
    "            tf_idf = dictionary[word]*(sent.count(word)/len(sent))\n",
    "            sent_vec += (vec * tf_idf)\n",
    "            weight_sum += tf_idf\n",
    "    if weight_sum != 0:\n",
    "        sent_vec /= weight_sum\n",
    "    tfidf_sent_vectors_rbf.append(sent_vec)\n",
    "    row += 1"
   ]
  },
  {
   "cell_type": "code",
   "execution_count": 70,
   "metadata": {},
   "outputs": [
    {
     "name": "stderr",
     "output_type": "stream",
     "text": [
      "100%|█████████████████████████████████████| 4000/4000 [00:08<00:00, 499.41it/s]\n"
     ]
    }
   ],
   "source": [
    "# TF-IDF weighted Word2Vec cv Data\n",
    "tfidf_feat = model.get_feature_names() # tfidf words/col-names\n",
    "# final_tf_idf is the sparse matrix with row= sentence, col=word and cell_val = tfidf\n",
    "\n",
    "tfidf_sent_vectors_cv_rbf = []; # the tfidf-w2v for each sentence/review is stored in this list\n",
    "row=0;\n",
    "for sent in tqdm(list_of_sentance_cv_rbf): # for each review/sentence \n",
    "    sent_vec = np.zeros(500) # as word vectors are of zero length\n",
    "    weight_sum =0; # num of words with a valid vector in the sentence/review\n",
    "    for word in sent: # for each word in a review/sentence\n",
    "        if word in w2v_words_rbf and word in tfidf_feat:\n",
    "            vec = w2v_model_rbf.wv[word]\n",
    "#             tf_idf = tf_idf_matrix[row, tfidf_feat.index(word)]\n",
    "            # to reduce the computation we are \n",
    "            # dictionary[word] = idf value of word in whole courpus\n",
    "            # sent.count(word) = tf valeus of word in this review\n",
    "            tf_idf = dictionary[word]*(sent.count(word)/len(sent))\n",
    "            sent_vec += (vec * tf_idf)\n",
    "            weight_sum += tf_idf\n",
    "    if weight_sum != 0:\n",
    "        sent_vec /= weight_sum\n",
    "    tfidf_sent_vectors_cv_rbf.append(sent_vec)\n",
    "    row += 1"
   ]
  },
  {
   "cell_type": "code",
   "execution_count": 71,
   "metadata": {},
   "outputs": [
    {
     "name": "stderr",
     "output_type": "stream",
     "text": [
      "100%|█████████████████████████████████████| 4000/4000 [00:07<00:00, 522.85it/s]\n"
     ]
    }
   ],
   "source": [
    "# TF-IDF weighted Word2Vec test Data\n",
    "tfidf_feat = model.get_feature_names() # tfidf words/col-names\n",
    "# final_tf_idf is the sparse matrix with row= sentence, col=word and cell_val = tfidf\n",
    "\n",
    "tfidf_sent_vectors_ts_rbf = []; # the tfidf-w2v for each sentence/review is stored in this list\n",
    "row=0;\n",
    "for sent in tqdm(list_of_sentance_ts_rbf): # for each review/sentence \n",
    "    sent_vec = np.zeros(500) # as word vectors are of zero length\n",
    "    weight_sum =0; # num of words with a valid vector in the sentence/review\n",
    "    for word in sent: # for each word in a review/sentence\n",
    "        if word in w2v_words_rbf and word in tfidf_feat:\n",
    "            vec = w2v_model_rbf.wv[word]\n",
    "#             tf_idf = tf_idf_matrix[row, tfidf_feat.index(word)]\n",
    "            # to reduce the computation we are \n",
    "            # dictionary[word] = idf value of word in whole courpus\n",
    "            # sent.count(word) = tf valeus of word in this review\n",
    "            tf_idf = dictionary[word]*(sent.count(word)/len(sent))\n",
    "            sent_vec += (vec * tf_idf)\n",
    "            weight_sum += tf_idf\n",
    "    if weight_sum != 0:\n",
    "        sent_vec /= weight_sum\n",
    "    tfidf_sent_vectors_ts_rbf.append(sent_vec)\n",
    "    row += 1"
   ]
  },
  {
   "cell_type": "code",
   "execution_count": 72,
   "metadata": {},
   "outputs": [],
   "source": [
    "tfidf_sent_vectors_rbf = preprocessing.normalize(tfidf_sent_vectors_rbf)\n",
    "tfidf_sent_vectors_cv_rbf = preprocessing.normalize(tfidf_sent_vectors_cv_rbf)\n",
    "tfidf_sent_vectors_ts_rbf = preprocessing.normalize(tfidf_sent_vectors_ts_rbf)\n"
   ]
  },
  {
   "cell_type": "code",
   "execution_count": 73,
   "metadata": {},
   "outputs": [],
   "source": [
    "tfidf_sent_vectors_rbf = np.array(tfidf_sent_vectors_rbf)\n",
    "tfidf_sent_vectors_cv_rbf = np.array(tfidf_sent_vectors_cv_rbf)\n",
    "tfidf_sent_vectors_ts_rbf = np.array(tfidf_sent_vectors_ts_rbf)"
   ]
  },
  {
   "cell_type": "code",
   "execution_count": 74,
   "metadata": {},
   "outputs": [
    {
     "data": {
      "text/plain": [
       "False"
      ]
     },
     "execution_count": 74,
     "metadata": {},
     "output_type": "execute_result"
    }
   ],
   "source": [
    "np.isnan(tfidf_sent_vectors_rbf).any()\n"
   ]
  },
  {
   "cell_type": "code",
   "execution_count": 75,
   "metadata": {},
   "outputs": [
    {
     "data": {
      "text/plain": [
       "False"
      ]
     },
     "execution_count": 75,
     "metadata": {},
     "output_type": "execute_result"
    }
   ],
   "source": [
    "np.isnan(tfidf_sent_vectors_ts_rbf).any()\n"
   ]
  },
  {
   "cell_type": "code",
   "execution_count": 76,
   "metadata": {},
   "outputs": [
    {
     "data": {
      "text/plain": [
       "False"
      ]
     },
     "execution_count": 76,
     "metadata": {},
     "output_type": "execute_result"
    }
   ],
   "source": [
    "np.isnan(tfidf_sent_vectors_cv_rbf).any()\n"
   ]
  },
  {
   "cell_type": "markdown",
   "metadata": {},
   "source": [
    "# [5] Assignment 7: SVM"
   ]
  },
  {
   "cell_type": "markdown",
   "metadata": {},
   "source": [
    "<ol>\n",
    "    <li><strong>Apply SVM on these feature sets</strong>\n",
    "        <ul>\n",
    "            <li><font color='red'>SET 1:</font>Review text, preprocessed one converted into vectors using (BOW)</li>\n",
    "            <li><font color='red'>SET 2:</font>Review text, preprocessed one converted into vectors using (TFIDF)</li>\n",
    "            <li><font color='red'>SET 3:</font>Review text, preprocessed one converted into vectors using (AVG W2v)</li>\n",
    "            <li><font color='red'>SET 4:</font>Review text, preprocessed one converted into vectors using (TFIDF W2v)</li>\n",
    "        </ul>\n",
    "    </li>\n",
    "    <br>\n",
    "    <li><strong>Procedure</strong>\n",
    "        <ul>\n",
    "    <li>You need to work with 2 versions of SVM\n",
    "        <ul><li>Linear kernel</li>\n",
    "            <li>RBF kernel</li></ul>\n",
    "    <li>When you are working with linear kernel, use SGDClassifier’ with hinge loss because it is computationally less expensive.</li>\n",
    "    <li>When you are working with ‘SGDClassifier’ with hinge loss and trying to find the AUC\n",
    "        score, you would have to use <a href='https://scikit-learn.org/stable/modules/generated/sklearn.calibration.CalibratedClassifierCV.html'>CalibratedClassifierCV</a></li>\n",
    "    <li>Similarly, like kdtree of knn, when you are working with RBF kernel it's better to reduce\n",
    "the number of dimensions. You can put min_df = 10, max_features = 500 and consider a sample size of 40k points.</li>                \n",
    "        </ul>\n",
    "    </li>\n",
    "    <br>\n",
    "    <li><strong>Hyper paramter tuning (find best alpha in range [10^-4 to 10^4], and the best penalty among 'l1', 'l2')</strong>\n",
    "        <ul>\n",
    "    <li>Find the best hyper parameter which will give the maximum <a href='https://www.appliedaicourse.com/course/applied-ai-course-online/lessons/receiver-operating-characteristic-curve-roc-curve-and-auc-1/'>AUC</a> value</li>\n",
    "    <li>Find the best hyper paramter using k-fold cross validation or simple cross validation data</li>\n",
    "    <li>Use gridsearch cv or randomsearch cv or you can also write your own for loops to do this task of hyperparameter tuning</li>          \n",
    "        </ul>\n",
    "    </li>\n",
    "    <br>\n",
    "    <li><strong>Feature importance</strong>\n",
    "        <ul>\n",
    "    <li>When you are working on the linear kernel with BOW or TFIDF please print the top 10 best\n",
    "features for each of the positive and negative classes.</li>\n",
    "        </ul>\n",
    "    </li>\n",
    "    <br>\n",
    "    <li><strong>Feature engineering</strong>\n",
    "        <ul>\n",
    "    <li>To increase the performance of your model, you can also experiment with with feature engineering like :</li>\n",
    "            <ul>\n",
    "            <li>Taking length of reviews as another feature.</li>\n",
    "            <li>Considering some features from review summary as well.</li>\n",
    "        </ul>\n",
    "        </ul>\n",
    "    </li>\n",
    "    <br>\n",
    "    <li><strong>Representation of results</strong>\n",
    "        <ul>\n",
    "    <li>You need to plot the performance of model both on train data and cross validation data for each hyper parameter, like shown in the figure.\n",
    "    <img src='train_cv_auc.JPG' width=300px></li>\n",
    "    <li>Once after you found the best hyper parameter, you need to train your model with it, and find the AUC on test data and plot the ROC curve on both train and test.\n",
    "    <img src='train_test_auc.JPG' width=300px></li>\n",
    "    <li>Along with plotting ROC curve, you need to print the <a href='https://www.appliedaicourse.com/course/applied-ai-course-online/lessons/confusion-matrix-tpr-fpr-fnr-tnr-1/'>confusion matrix</a> with predicted and original labels of test data points. Please visualize your confusion matrices using <a href='https://seaborn.pydata.org/generated/seaborn.heatmap.html'>seaborn heatmaps.\n",
    "    <img src='confusion_matrix.png' width=300px></li>\n",
    "        </ul>\n",
    "    </li>\n",
    "    <br>\n",
    "    <li><strong>Conclusion</strong>\n",
    "        <ul>\n",
    "    <li>You need to summarize the results at the end of the notebook, summarize it in the table format. To print out a table please refer to this prettytable library<a href='http://zetcode.com/python/prettytable/'>  link</a> \n",
    "        <img src='summary.JPG' width=400px>\n",
    "    </li>\n",
    "        </ul>\n",
    "</ol>"
   ]
  },
  {
   "cell_type": "markdown",
   "metadata": {},
   "source": [
    "<h4><font color='red'>Note: Data Leakage</font></h4>\n",
    "\n",
    "1. There will be an issue of data-leakage if you vectorize the entire data and then split it into train/cv/test.\n",
    "2. To avoid the issue of data-leakag, make sure to split your data first and then vectorize it. \n",
    "3. While vectorizing your data, apply the method fit_transform() on you train data, and apply the method transform() on cv/test data.\n",
    "4. For more details please go through this <a href='https://soundcloud.com/applied-ai-course/leakage-bow-and-tfidf'>link.</a>"
   ]
  },
  {
   "cell_type": "markdown",
   "metadata": {},
   "source": [
    "# Applying SVM"
   ]
  },
  {
   "cell_type": "markdown",
   "metadata": {},
   "source": [
    "## [5.1] Linear SVM"
   ]
  },
  {
   "cell_type": "markdown",
   "metadata": {},
   "source": [
    "### [5.1.1] Applying Linear SVM on BOW,<font color='red'> SET 1</font>"
   ]
  },
  {
   "cell_type": "code",
   "execution_count": 142,
   "metadata": {},
   "outputs": [
    {
     "name": "stdout",
     "output_type": "stream",
     "text": [
      "Best alpha is:- 0.0001\n"
     ]
    },
    {
     "data": {
      "image/png": "[encoded data removed]",
      "text/plain": [
       "<Figure size 432x288 with 1 Axes>"
      ]
     },
     "metadata": {},
     "output_type": "display_data"
    }
   ],
   "source": [
    "# Please write all the code with proper documentation\n",
    "# Linear kernel svm for L1 penalty\n",
    "from sklearn.calibration import CalibratedClassifierCV\n",
    "from sklearn.linear_model import SGDClassifier\n",
    "from sklearn.metrics import roc_auc_score\n",
    "\n",
    "alpha_values = np.arange(10)\n",
    " \n",
    "acc = np.empty(len(alpha_values))\n",
    "error = np.empty(len(alpha_values))\n",
    "C = np.array([0.0001,0.001,0.01,0.1,1,10,100,500,1000,10000])\n",
    "\n",
    "cv_auc = []\n",
    "train_auc = []\n",
    "i = 0\n",
    "for alpha in C:\n",
    "    clf = SGDClassifier(loss='hinge',penalty='l1',alpha = alpha,class_weight='balanced')\n",
    "    clf.fit(x_tr_final_counts_bigram, y_train)\n",
    "    sig_clf = CalibratedClassifierCV(clf, method=\"sigmoid\")\n",
    "    sig_clf.fit(x_tr_final_counts_bigram, y_train)\n",
    "    y_cv_pred = sig_clf.predict_proba(x_cv_final_counts_bigram)[:,1]\n",
    "    y_train_pred =  sig_clf.predict_proba(x_tr_final_counts_bigram)[:,1]\n",
    "\n",
    "    train_auc.append(roc_auc_score(y_train,y_train_pred))\n",
    "    cv_auc.append(roc_auc_score(y_cv, y_cv_pred))\n",
    "    \n",
    "d = max(cv_auc)\n",
    "\n",
    "i = np.where(cv_auc == d)\n",
    "\n",
    "i = i[0][0]\n",
    "best_alpha = float(C[i])\n",
    "print(\"Best alpha is:-\",best_alpha)     \n",
    "    \n",
    "    \n",
    "C = np.log(C)    \n",
    "    \n",
    "\n",
    "plt.plot(C, train_auc, label='Train AUC')\n",
    "plt.plot(C, cv_auc, label='CV AUC')\n",
    "plt.legend()\n",
    "plt.xlabel(\"No of alpha\")\n",
    "plt.ylabel(\"AUC\")\n",
    "plt.title(\"Performance PLOT\")\n",
    "plt.show()"
   ]
  },
  {
   "cell_type": "code",
   "execution_count": 143,
   "metadata": {},
   "outputs": [
    {
     "name": "stdout",
     "output_type": "stream",
     "text": [
      "\n",
      "The AUCScore of the SGDClassifier of best alpha = 0.000100 is 93.243740%\n"
     ]
    }
   ],
   "source": [
    "# SGDClassifier with best best \"alpha\" for l1 penalty of bow\n",
    "model = SGDClassifier(loss='hinge',penalty='l1',alpha = best_alpha,class_weight='balanced')\n",
    "model.fit(x_tr_final_counts_bigram,y_train)\n",
    "sig_clf = CalibratedClassifierCV(model, method=\"sigmoid\")\n",
    "sig_clf.fit(x_tr_final_counts_bigram,y_train)\n",
    "#pred = model.predict_proba(x_ts_final_counts_bigram)\n",
    "pred=model.predict(x_ts_final_counts_bigram)    \n",
    "    # evaluate CV AUC\n",
    "auc_score_bowT_l1 = roc_auc_score(y_true=np.array(y_ts), y_score=sig_clf.predict_proba(x_ts_final_counts_bigram)[:,1])*100\n",
    "auc_score_bowT_lambda_l1 = best_alpha\n",
    "print('\\nThe AUCScore of the SGDClassifier of best alpha = %f is %f%%' % (best_alpha, auc_score_bowT_l1))    "
   ]
  },
  {
   "cell_type": "code",
   "execution_count": 144,
   "metadata": {},
   "outputs": [
    {
     "data": {
      "text/plain": [
       "<matplotlib.axes._subplots.AxesSubplot at 0x1f7a844198>"
      ]
     },
     "execution_count": 144,
     "metadata": {},
     "output_type": "execute_result"
    },
    {
     "data": {
      "image/png": "[encoded data removed]",
      "text/plain": [
       "<Figure size 432x288 with 2 Axes>"
      ]
     },
     "metadata": {},
     "output_type": "display_data"
    }
   ],
   "source": [
    "import scikitplot.metrics as skplt\n",
    "skplt.plot_confusion_matrix(y_ts ,pred)\n"
   ]
  },
  {
   "cell_type": "markdown",
   "metadata": {},
   "source": [
    "False Positive rate --> when it is actually -ve, how often does it predicted +ve = fp/actual-ve = 359/2485 = .14\n",
    "\n"
   ]
  },
  {
   "cell_type": "code",
   "execution_count": 186,
   "metadata": {},
   "outputs": [],
   "source": [
    "# FPR for bowt_l1\n",
    "bowt_FPR_l1 = .14"
   ]
  },
  {
   "cell_type": "code",
   "execution_count": 145,
   "metadata": {},
   "outputs": [
    {
     "name": "stdout",
     "output_type": "stream",
     "text": [
      "             precision    recall  f1-score   support\n",
      "\n",
      "          0       0.45      0.86      0.59      2485\n",
      "          1       0.98      0.85      0.91     17515\n",
      "\n",
      "avg / total       0.91      0.85      0.87     20000\n",
      "\n"
     ]
    }
   ],
   "source": [
    "#classification report\n",
    "from sklearn.metrics import classification_report\n",
    "print(classification_report(y_ts, pred))"
   ]
  },
  {
   "cell_type": "code",
   "execution_count": 146,
   "metadata": {},
   "outputs": [
    {
     "data": {
      "image/png": "[encoded data removed]",
      "text/plain": [
       "<Figure size 432x288 with 1 Axes>"
      ]
     },
     "metadata": {},
     "output_type": "display_data"
    }
   ],
   "source": [
    "from sklearn.metrics import roc_curve, auc\n",
    "\n",
    "train_fpr, train_tpr, thresholds = roc_curve(y_train, sig_clf.predict_proba(x_tr_final_counts_bigram)[:,1])\n",
    "test_fpr, test_tpr, thresholds = roc_curve(y_ts, sig_clf.predict_proba(x_ts_final_counts_bigram)[:,1])\n",
    "\n",
    "plt.plot(train_fpr, train_tpr, label=\"train AUC =\"+str(auc(train_fpr, train_tpr)))\n",
    "plt.plot(test_fpr, test_tpr, label=\"test AUC =\"+str(auc(test_fpr, test_tpr)))\n",
    "plt.legend()\n",
    "plt.xlabel(\"alpha: hyperparameter\")\n",
    "plt.ylabel(\"AUC\")\n",
    "plt.title(\"ROC_Curve PLOT\")\n",
    "plt.show()\n",
    "\n",
    "\n"
   ]
  },
  {
   "cell_type": "code",
   "execution_count": 147,
   "metadata": {},
   "outputs": [
    {
     "name": "stdout",
     "output_type": "stream",
     "text": [
      "Best alpha is:- 0.0001\n"
     ]
    },
    {
     "data": {
      "image/png": "[encoded data removed]",
      "text/plain": [
       "<Figure size 432x288 with 1 Axes>"
      ]
     },
     "metadata": {},
     "output_type": "display_data"
    }
   ],
   "source": [
    "# Please write all the code with proper documentation\n",
    "# Linear kernel svm for L1 penalty\n",
    "from sklearn.calibration import CalibratedClassifierCV\n",
    "from sklearn.linear_model import SGDClassifier\n",
    "from sklearn.metrics import roc_auc_score\n",
    "\n",
    "alpha_values = np.arange(10)\n",
    " \n",
    "acc = np.empty(len(alpha_values))\n",
    "error = np.empty(len(alpha_values))\n",
    "C = np.array([0.0001,0.001,0.01,0.1,1,10,100,500,1000,10000])\n",
    "\n",
    "cv_auc = []\n",
    "train_auc = []\n",
    "i = 0\n",
    "for alpha in C:\n",
    "    clf = SGDClassifier(loss='hinge',penalty='l2',alpha = alpha,class_weight='balanced')\n",
    "    clf.fit(x_tr_final_counts_bigram, y_train)\n",
    "    sig_clf = CalibratedClassifierCV(clf, method=\"sigmoid\")\n",
    "    sig_clf.fit(x_tr_final_counts_bigram, y_train)\n",
    "    y_cv_pred = sig_clf.predict_proba(x_cv_final_counts_bigram)[:,1]\n",
    "    y_train_pred =  sig_clf.predict_proba(x_tr_final_counts_bigram)[:,1]\n",
    "\n",
    "    train_auc.append(roc_auc_score(y_train,y_train_pred))\n",
    "    cv_auc.append(roc_auc_score(y_cv, y_cv_pred))\n",
    "    \n",
    "d = max(cv_auc)\n",
    "\n",
    "i = np.where(cv_auc == d)\n",
    "\n",
    "i = i[0][0]\n",
    "best_alpha = float(C[i])\n",
    "print(\"Best alpha is:-\",best_alpha)     \n",
    "    \n",
    "    \n",
    "C = np.log(C)    \n",
    "    \n",
    "\n",
    "plt.plot(C, train_auc, label='Train AUC')\n",
    "plt.plot(C, cv_auc, label='CV AUC')\n",
    "plt.legend()\n",
    "plt.xlabel(\"No of alpha\")\n",
    "plt.ylabel(\"AUC\")\n",
    "plt.title(\"Performance PLOT\")\n",
    "plt.show()"
   ]
  },
  {
   "cell_type": "code",
   "execution_count": 148,
   "metadata": {},
   "outputs": [
    {
     "name": "stdout",
     "output_type": "stream",
     "text": [
      "\n",
      "The AUCScore of the SGDClassifier of best alpha = 0.000100 is 94.256361%\n"
     ]
    }
   ],
   "source": [
    "# SGDClassifier with best best \"alpha\" for l2 penalty of bow\n",
    "model = SGDClassifier(loss='hinge',penalty='l2',alpha = best_alpha,class_weight='balanced')\n",
    "model.fit(x_tr_final_counts_bigram,y_train)\n",
    "sig_clf = CalibratedClassifierCV(model, method=\"sigmoid\")\n",
    "sig_clf.fit(x_tr_final_counts_bigram,y_train)\n",
    "#pred = model.predict_proba(x_ts_final_counts_bigram)\n",
    "pred=model.predict(x_ts_final_counts_bigram)    \n",
    "    # evaluate CV AUC\n",
    "auc_score_bowT_l2 = roc_auc_score(y_true=np.array(y_ts), y_score=sig_clf.predict_proba(x_ts_final_counts_bigram)[:,1])*100\n",
    "auc_score_bowT_lambda_l2 = best_alpha\n",
    "print('\\nThe AUCScore of the SGDClassifier of best alpha = %f is %f%%' % (best_alpha, auc_score_bowT_l2))    "
   ]
  },
  {
   "cell_type": "code",
   "execution_count": 149,
   "metadata": {},
   "outputs": [
    {
     "data": {
      "text/plain": [
       "<matplotlib.axes._subplots.AxesSubplot at 0x1f7a9faa58>"
      ]
     },
     "execution_count": 149,
     "metadata": {},
     "output_type": "execute_result"
    },
    {
     "data": {
      "image/png": "[encoded data removed]",
      "text/plain": [
       "<Figure size 432x288 with 2 Axes>"
      ]
     },
     "metadata": {},
     "output_type": "display_data"
    }
   ],
   "source": [
    "import scikitplot.metrics as skplt\n",
    "skplt.plot_confusion_matrix(y_ts ,pred)\n"
   ]
  },
  {
   "cell_type": "markdown",
   "metadata": {},
   "source": [
    "False Positive rate --> when it is actually -ve, how often does it predicted +ve = fp/actual-ve = 299/2485 = .12\n"
   ]
  },
  {
   "cell_type": "code",
   "execution_count": 187,
   "metadata": {},
   "outputs": [],
   "source": [
    "# FPR for bowt_l2\n",
    "bowt_FPR_l2 = .12"
   ]
  },
  {
   "cell_type": "code",
   "execution_count": 150,
   "metadata": {},
   "outputs": [
    {
     "name": "stdout",
     "output_type": "stream",
     "text": [
      "             precision    recall  f1-score   support\n",
      "\n",
      "          0       0.49      0.88      0.63      2485\n",
      "          1       0.98      0.87      0.92     17515\n",
      "\n",
      "avg / total       0.92      0.87      0.88     20000\n",
      "\n"
     ]
    }
   ],
   "source": [
    "#classification report\n",
    "from sklearn.metrics import classification_report\n",
    "print(classification_report(y_ts, pred))"
   ]
  },
  {
   "cell_type": "code",
   "execution_count": 151,
   "metadata": {},
   "outputs": [
    {
     "data": {
      "image/png": "[encoded data removed]",
      "text/plain": [
       "<Figure size 432x288 with 1 Axes>"
      ]
     },
     "metadata": {},
     "output_type": "display_data"
    }
   ],
   "source": [
    "from sklearn.metrics import roc_curve, auc\n",
    "\n",
    "train_fpr, train_tpr, thresholds = roc_curve(y_train, sig_clf.predict_proba(x_tr_final_counts_bigram)[:,1])\n",
    "test_fpr, test_tpr, thresholds = roc_curve(y_ts, sig_clf.predict_proba(x_ts_final_counts_bigram)[:,1])\n",
    "\n",
    "plt.plot(train_fpr, train_tpr, label=\"train AUC =\"+str(auc(train_fpr, train_tpr)))\n",
    "plt.plot(test_fpr, test_tpr, label=\"test AUC =\"+str(auc(test_fpr, test_tpr)))\n",
    "plt.legend()\n",
    "plt.xlabel(\"alpha: hyperparameter\")\n",
    "plt.ylabel(\"AUC\")\n",
    "plt.title(\"ROC_Curve PLOT\")\n",
    "plt.show()\n",
    "\n",
    "\n"
   ]
  },
  {
   "cell_type": "markdown",
   "metadata": {},
   "source": [
    "Top 10 important features of positive class and Negative class"
   ]
  },
  {
   "cell_type": "code",
   "execution_count": 134,
   "metadata": {},
   "outputs": [
    {
     "name": "stdout",
     "output_type": "stream",
     "text": [
      "some sample features(unique words in the corpus) ['action', 'activ', 'actor', 'actual', 'actual add', 'actual ate', 'actual better', 'actual bit', 'actual bought', 'actual burn']\n"
     ]
    }
   ],
   "source": [
    "# Please write all the code with proper documentation\n",
    "# To get all the features name \n",
    "features = count_vect.get_feature_names()\n",
    "print(\"some sample features(unique words in the corpus)\",features[100:110])"
   ]
  },
  {
   "cell_type": "code",
   "execution_count": 135,
   "metadata": {},
   "outputs": [],
   "source": [
    "#code references :- https://stackoverflow.com/questions/11116697/how-to-get-most-informative-features-for-scikit-learn-classifiers\n",
    "n = 10 \n",
    "coefs_with_fns = sorted(zip(model.coef_[0],features))\n",
    "top = zip(coefs_with_fns[:n],coefs_with_fns[:-(n+1):-1])"
   ]
  },
  {
   "cell_type": "code",
   "execution_count": 136,
   "metadata": {},
   "outputs": [
    {
     "name": "stdout",
     "output_type": "stream",
     "text": [
      "\t\tNegative\t\t\tPositive\n",
      "________________________________________________________________________________\n",
      "\t-4.5441\tdisappoint     \t\t4.4173\tdelici         \n",
      "\t-3.9053\tworst          \t\t4.3986\tbest           \n",
      "\t-3.1496\tterribl        \t\t4.0786\texcel          \n",
      "\t-3.0563\tstale          \t\t3.9821\tperfect        \n",
      "\t-2.9510\tunfortun       \t\t3.8513\tgreat          \n",
      "\t-2.7984\tbland          \t\t3.4021\thigh recommend \n",
      "\t-2.6128\taw             \t\t3.1976\tfavorit        \n",
      "\t-2.5991\treturn         \t\t3.0677\tamaz           \n",
      "\t-2.5345\thorribl        \t\t2.9748\twonder         \n",
      "\t-2.4838\tthought        \t\t2.9624\tnice           \n"
     ]
    }
   ],
   "source": [
    "print(\"\\t\\tNegative\\t\\t\\tPositive\")\n",
    "print(\"_\"*80)\n",
    "for (coef_1, fn_1), (coef_2, fn_2) in top:\n",
    "    print(\"\\t%.4f\\t%-15s\\t\\t%.4f\\t%-15s\" % (coef_1, fn_1, coef_2, fn_2))"
   ]
  },
  {
   "cell_type": "markdown",
   "metadata": {},
   "source": [
    "### [5.1.2] Applying Linear SVM on TFIDF,<font color='red'> SET 2</font>"
   ]
  },
  {
   "cell_type": "code",
   "execution_count": 152,
   "metadata": {},
   "outputs": [
    {
     "name": "stdout",
     "output_type": "stream",
     "text": [
      "Best alpha is:- 0.0001\n"
     ]
    },
    {
     "data": {
      "image/png": "[encoded data removed]",
      "text/plain": [
       "<Figure size 432x288 with 1 Axes>"
      ]
     },
     "metadata": {},
     "output_type": "display_data"
    }
   ],
   "source": [
    "# Please write all the code with proper documentation\n",
    "# Linear kernel svm for L1 penalty\n",
    "from sklearn.calibration import CalibratedClassifierCV\n",
    "from sklearn.linear_model import SGDClassifier\n",
    "from sklearn.metrics import roc_auc_score\n",
    "\n",
    "alpha_values = np.arange(10)\n",
    " \n",
    "acc = np.empty(len(alpha_values))\n",
    "error = np.empty(len(alpha_values))\n",
    "C = np.array([0.0001,0.001,0.01,0.1,1,10,100,500,1000,10000])\n",
    "\n",
    "cv_auc = []\n",
    "train_auc = []\n",
    "i = 0\n",
    "for alpha in C:\n",
    "    clf = SGDClassifier(loss='hinge',penalty='l1',alpha = alpha,class_weight='balanced')\n",
    "    clf.fit(x_tr_final_counts_tfidf, y_train)\n",
    "    sig_clf = CalibratedClassifierCV(clf, method=\"sigmoid\")\n",
    "    sig_clf.fit(x_tr_final_counts_tfidf, y_train)\n",
    "    y_cv_pred = sig_clf.predict_proba(x_cv_final_counts_tfidf)[:,1]\n",
    "    y_train_pred =  sig_clf.predict_proba(x_tr_final_counts_tfidf)[:,1]\n",
    "\n",
    "    train_auc.append(roc_auc_score(y_train,y_train_pred))\n",
    "    cv_auc.append(roc_auc_score(y_cv, y_cv_pred))\n",
    "    \n",
    "d = max(cv_auc)\n",
    "\n",
    "i = np.where(cv_auc == d)\n",
    "\n",
    "i = i[0][0]\n",
    "best_alpha = float(C[i])\n",
    "print(\"Best alpha is:-\",best_alpha)     \n",
    "    \n",
    "    \n",
    "C = np.log(C)    \n",
    "    \n",
    "\n",
    "plt.plot(C, train_auc, label='Train AUC')\n",
    "plt.plot(C, cv_auc, label='CV AUC')\n",
    "plt.legend()\n",
    "plt.xlabel(\"No of alpha\")\n",
    "plt.ylabel(\"AUC\")\n",
    "plt.title(\"Performance PLOT\")\n",
    "plt.show()"
   ]
  },
  {
   "cell_type": "code",
   "execution_count": 153,
   "metadata": {},
   "outputs": [
    {
     "name": "stdout",
     "output_type": "stream",
     "text": [
      "\n",
      "The AUCSscore of the SGDClassifier of best alpha = 0.000100 is 93.425926%\n"
     ]
    }
   ],
   "source": [
    "# SGDClassifier with best best \"alpha\" for l1 penalty of TFIDF\n",
    "model = SGDClassifier(loss='hinge',penalty='l1',alpha = best_alpha,class_weight='balanced')\n",
    "model.fit(x_tr_final_counts_tfidf,y_train)\n",
    "sig_clf = CalibratedClassifierCV(model, method=\"sigmoid\")\n",
    "sig_clf.fit(x_tr_final_counts_tfidf,y_train)\n",
    "#pred = model.predict_proba(x_ts_final_counts_bigram)\n",
    "pred=model.predict(x_ts_final_counts_tfidf)    \n",
    "    # evaluate CV AUC\n",
    "auc_score_tfidf_l1 = roc_auc_score(y_true=np.array(y_ts), y_score=sig_clf.predict_proba(x_ts_final_counts_tfidf)[:,1])*100\n",
    "auc_score_tfidf_lambda_l1 = best_alpha\n",
    "print('\\nThe AUCSscore of the SGDClassifier of best alpha = %f is %f%%' % (best_alpha, auc_score_tfidf_l1))    "
   ]
  },
  {
   "cell_type": "code",
   "execution_count": 154,
   "metadata": {},
   "outputs": [
    {
     "data": {
      "text/plain": [
       "<matplotlib.axes._subplots.AxesSubplot at 0x1f7ab0f550>"
      ]
     },
     "execution_count": 154,
     "metadata": {},
     "output_type": "execute_result"
    },
    {
     "data": {
      "image/png": "[encoded data removed]",
      "text/plain": [
       "<Figure size 432x288 with 2 Axes>"
      ]
     },
     "metadata": {},
     "output_type": "display_data"
    }
   ],
   "source": [
    "import scikitplot.metrics as skplt\n",
    "skplt.plot_confusion_matrix(y_ts ,pred)\n"
   ]
  },
  {
   "cell_type": "markdown",
   "metadata": {},
   "source": [
    "False Positive rate --> when it is actually -ve, how often does it predicted +ve = fp/actual-ve = 354/2485 = .14\n"
   ]
  },
  {
   "cell_type": "code",
   "execution_count": 188,
   "metadata": {},
   "outputs": [],
   "source": [
    "# FPR for tfidf_l1\n",
    "tfidf_FPR_l1 = .14"
   ]
  },
  {
   "cell_type": "code",
   "execution_count": 155,
   "metadata": {},
   "outputs": [
    {
     "name": "stdout",
     "output_type": "stream",
     "text": [
      "             precision    recall  f1-score   support\n",
      "\n",
      "          0       0.45      0.86      0.59      2485\n",
      "          1       0.98      0.85      0.91     17515\n",
      "\n",
      "avg / total       0.91      0.85      0.87     20000\n",
      "\n"
     ]
    }
   ],
   "source": [
    "print(classification_report(y_ts, pred))"
   ]
  },
  {
   "cell_type": "code",
   "execution_count": 156,
   "metadata": {},
   "outputs": [
    {
     "data": {
      "image/png": "[encoded data removed]",
      "text/plain": [
       "<Figure size 432x288 with 1 Axes>"
      ]
     },
     "metadata": {},
     "output_type": "display_data"
    }
   ],
   "source": [
    "from sklearn.metrics import roc_curve, auc\n",
    "\n",
    "train_fpr, train_tpr, thresholds = roc_curve(y_train, sig_clf.predict_proba(x_tr_final_counts_tfidf)[:,1])\n",
    "test_fpr, test_tpr, thresholds = roc_curve(y_ts, sig_clf.predict_proba(x_ts_final_counts_tfidf)[:,1])\n",
    "\n",
    "plt.plot(train_fpr, train_tpr, label=\"train AUC =\"+str(auc(train_fpr, train_tpr)))\n",
    "plt.plot(test_fpr, test_tpr, label=\"test AUC =\"+str(auc(test_fpr, test_tpr)))\n",
    "plt.legend()\n",
    "plt.xlabel(\"alpha: hyperparameter\")\n",
    "plt.ylabel(\"AUC\")\n",
    "plt.title(\"ROC_Curve PLOT\")\n",
    "plt.show()\n",
    "\n",
    "\n"
   ]
  },
  {
   "cell_type": "code",
   "execution_count": 157,
   "metadata": {},
   "outputs": [
    {
     "name": "stdout",
     "output_type": "stream",
     "text": [
      "Best alpha is:- 0.0001\n"
     ]
    },
    {
     "data": {
      "image/png": "[encoded data removed]",
      "text/plain": [
       "<Figure size 432x288 with 1 Axes>"
      ]
     },
     "metadata": {},
     "output_type": "display_data"
    }
   ],
   "source": [
    "# Please write all the code with proper documentation\n",
    "# Linear kernel svm for L1 penalty\n",
    "from sklearn.calibration import CalibratedClassifierCV\n",
    "from sklearn.linear_model import SGDClassifier\n",
    "from sklearn.metrics import roc_auc_score\n",
    "\n",
    "alpha_values = np.arange(10)\n",
    " \n",
    "acc = np.empty(len(alpha_values))\n",
    "error = np.empty(len(alpha_values))\n",
    "C = np.array([0.0001,0.001,0.01,0.1,1,10,100,500,1000,10000])\n",
    "\n",
    "cv_auc = []\n",
    "train_auc = []\n",
    "i = 0\n",
    "for alpha in C:\n",
    "    clf = SGDClassifier(loss='hinge',penalty='l2',alpha = alpha,class_weight='balanced')\n",
    "    clf.fit(x_tr_final_counts_tfidf, y_train)\n",
    "    sig_clf = CalibratedClassifierCV(clf, method=\"sigmoid\")\n",
    "    sig_clf.fit(x_tr_final_counts_tfidf, y_train)\n",
    "    y_cv_pred = sig_clf.predict_proba(x_cv_final_counts_tfidf)[:,1]\n",
    "    y_train_pred =  sig_clf.predict_proba(x_tr_final_counts_tfidf)[:,1]\n",
    "\n",
    "    train_auc.append(roc_auc_score(y_train,y_train_pred))\n",
    "    cv_auc.append(roc_auc_score(y_cv, y_cv_pred))\n",
    "    \n",
    "d = max(cv_auc)\n",
    "\n",
    "i = np.where(cv_auc == d)\n",
    "\n",
    "i = i[0][0]\n",
    "best_alpha = float(C[i])\n",
    "print(\"Best alpha is:-\",best_alpha)     \n",
    "    \n",
    "    \n",
    "C = np.log(C)    \n",
    "    \n",
    "\n",
    "plt.plot(C, train_auc, label='Train AUC')\n",
    "plt.plot(C, cv_auc, label='CV AUC')\n",
    "plt.legend()\n",
    "plt.xlabel(\"No of alpha\")\n",
    "plt.ylabel(\"AUC\")\n",
    "plt.title(\"Performance PLOT\")\n",
    "plt.show()"
   ]
  },
  {
   "cell_type": "code",
   "execution_count": 158,
   "metadata": {},
   "outputs": [
    {
     "name": "stdout",
     "output_type": "stream",
     "text": [
      "\n",
      "The AUCScore of the SGDClassifier of best alpha = 0.000100 is 94.992512%\n"
     ]
    }
   ],
   "source": [
    "# SGDClassifier with best best \"alpha\" for l2 penalty of TFIDF\n",
    "model = SGDClassifier(loss='hinge',penalty='l2',alpha = best_alpha,class_weight='balanced')\n",
    "model.fit(x_tr_final_counts_tfidf,y_train)\n",
    "sig_clf = CalibratedClassifierCV(model, method=\"sigmoid\")\n",
    "sig_clf.fit(x_tr_final_counts_tfidf,y_train)\n",
    "#pred = model.predict_proba(x_ts_final_counts_bigram)\n",
    "pred=model.predict(x_ts_final_counts_tfidf)    \n",
    "    # evaluate CV AUC\n",
    "auc_score_tfidf_l2 = roc_auc_score(y_true=np.array(y_ts), y_score=sig_clf.predict_proba(x_ts_final_counts_tfidf)[:,1])*100\n",
    "auc_score_tfidf_lambda_l2 = best_alpha\n",
    "print('\\nThe AUCScore of the SGDClassifier of best alpha = %f is %f%%' % (best_alpha, auc_score_tfidf_l2))    "
   ]
  },
  {
   "cell_type": "code",
   "execution_count": 159,
   "metadata": {},
   "outputs": [
    {
     "data": {
      "text/plain": [
       "<matplotlib.axes._subplots.AxesSubplot at 0x1f7ac68320>"
      ]
     },
     "execution_count": 159,
     "metadata": {},
     "output_type": "execute_result"
    },
    {
     "data": {
      "image/png": "[encoded data removed]",
      "text/plain": [
       "<Figure size 432x288 with 2 Axes>"
      ]
     },
     "metadata": {},
     "output_type": "display_data"
    }
   ],
   "source": [
    "import scikitplot.metrics as skplt\n",
    "skplt.plot_confusion_matrix(y_ts ,pred)\n"
   ]
  },
  {
   "cell_type": "markdown",
   "metadata": {},
   "source": [
    "False Positive rate --> when it is actually -ve, how often does it predicted +ve = fp/actual-ve = 323/2485 = .25"
   ]
  },
  {
   "cell_type": "code",
   "execution_count": 189,
   "metadata": {},
   "outputs": [],
   "source": [
    "# FPR for tfidf_l2\n",
    "tfidf_FPR_l2 = .12"
   ]
  },
  {
   "cell_type": "code",
   "execution_count": 160,
   "metadata": {},
   "outputs": [
    {
     "name": "stdout",
     "output_type": "stream",
     "text": [
      "             precision    recall  f1-score   support\n",
      "\n",
      "          0       0.54      0.87      0.67      2485\n",
      "          1       0.98      0.90      0.94     17515\n",
      "\n",
      "avg / total       0.93      0.89      0.90     20000\n",
      "\n"
     ]
    }
   ],
   "source": [
    "print(classification_report(y_ts, pred))"
   ]
  },
  {
   "cell_type": "code",
   "execution_count": 161,
   "metadata": {},
   "outputs": [
    {
     "data": {
      "image/png": "[encoded data removed]",
      "text/plain": [
       "<Figure size 432x288 with 1 Axes>"
      ]
     },
     "metadata": {},
     "output_type": "display_data"
    }
   ],
   "source": [
    "from sklearn.metrics import roc_curve, auc\n",
    "\n",
    "train_fpr, train_tpr, thresholds = roc_curve(y_train, sig_clf.predict_proba(x_tr_final_counts_tfidf)[:,1])\n",
    "test_fpr, test_tpr, thresholds = roc_curve(y_ts, sig_clf.predict_proba(x_ts_final_counts_tfidf)[:,1])\n",
    "\n",
    "plt.plot(train_fpr, train_tpr, label=\"train AUC =\"+str(auc(train_fpr, train_tpr)))\n",
    "plt.plot(test_fpr, test_tpr, label=\"test AUC =\"+str(auc(test_fpr, test_tpr)))\n",
    "plt.legend()\n",
    "plt.xlabel(\"C: hyperparameter\")\n",
    "plt.ylabel(\"AUC\")\n",
    "plt.title(\"ROC_Curve PLOT\")\n",
    "plt.show()\n",
    "\n",
    "\n"
   ]
  },
  {
   "cell_type": "markdown",
   "metadata": {},
   "source": [
    "Top 10 important features of positive class and Negative class"
   ]
  },
  {
   "cell_type": "code",
   "execution_count": 162,
   "metadata": {},
   "outputs": [
    {
     "name": "stdout",
     "output_type": "stream",
     "text": [
      "some sample features(unique words in the corpus) ['action', 'activ', 'actor', 'actual', 'actual add', 'actual ate', 'actual better', 'actual bit', 'actual bought', 'actual burn']\n"
     ]
    }
   ],
   "source": [
    "# Please write all the code with proper documentation\n",
    "# To get all the features name \n",
    "features = tf_idf_vect.get_feature_names()\n",
    "print(\"some sample features(unique words in the corpus)\",features[100:110])"
   ]
  },
  {
   "cell_type": "code",
   "execution_count": 163,
   "metadata": {},
   "outputs": [],
   "source": [
    "#code references :- https://stackoverflow.com/questions/11116697/how-to-get-most-informative-features-for-scikit-learn-classifiers\n",
    "n = 10 \n",
    "coefs_with_fns = sorted(zip(model.coef_[0],features))\n",
    "top = zip(coefs_with_fns[:n],coefs_with_fns[:-(n+1):-1])"
   ]
  },
  {
   "cell_type": "code",
   "execution_count": 164,
   "metadata": {},
   "outputs": [
    {
     "name": "stdout",
     "output_type": "stream",
     "text": [
      "\t\tNegative\t\t\tPositive\n",
      "________________________________________________________________________________\n",
      "\t-5.0721\tdisappoint     \t\t6.3499\tgreat          \n",
      "\t-3.8446\tworst          \t\t5.5806\tbest           \n",
      "\t-3.0185\tterribl        \t\t4.8412\tdelici         \n",
      "\t-2.8107\tunfortun       \t\t4.7984\tlove           \n",
      "\t-2.7478\tbland          \t\t4.2121\tperfect        \n",
      "\t-2.7077\tstale          \t\t4.1675\texcel          \n",
      "\t-2.6410\thorribl        \t\t3.4475\tfavorit        \n",
      "\t-2.5758\treturn         \t\t3.4409\tgood           \n",
      "\t-2.5209\tthought        \t\t3.3827\tnice           \n",
      "\t-2.5111\tbad            \t\t3.2437\thigh recommend \n"
     ]
    }
   ],
   "source": [
    "print(\"\\t\\tNegative\\t\\t\\tPositive\")\n",
    "print(\"_\"*80)\n",
    "for (coef_1, fn_1), (coef_2, fn_2) in top:\n",
    "    print(\"\\t%.4f\\t%-15s\\t\\t%.4f\\t%-15s\" % (coef_1, fn_1, coef_2, fn_2))"
   ]
  },
  {
   "cell_type": "markdown",
   "metadata": {},
   "source": [
    "### [5.1.3]  Applying Linear SVM on AVG W2V,<font color='red'> SET 3</font>"
   ]
  },
  {
   "cell_type": "code",
   "execution_count": 165,
   "metadata": {},
   "outputs": [
    {
     "name": "stdout",
     "output_type": "stream",
     "text": [
      "Best alpha is:- 0.0001\n"
     ]
    },
    {
     "data": {
      "image/png": "[encoded data removed]",
      "text/plain": [
       "<Figure size 432x288 with 1 Axes>"
      ]
     },
     "metadata": {},
     "output_type": "display_data"
    }
   ],
   "source": [
    "# Please write all the code with proper documentation\n",
    "# Linear kernel svm for L1 penalty\n",
    "from sklearn.calibration import CalibratedClassifierCV\n",
    "from sklearn.linear_model import SGDClassifier\n",
    "from sklearn.metrics import roc_auc_score\n",
    "\n",
    "alpha_values = np.arange(10)\n",
    " \n",
    "acc = np.empty(len(alpha_values))\n",
    "error = np.empty(len(alpha_values))\n",
    "C = np.array([0.0001,0.001,0.01,0.1,1,10,100,500,1000,10000])\n",
    "\n",
    "cv_auc = []\n",
    "train_auc = []\n",
    "i = 0\n",
    "for alpha in C:\n",
    "    clf = SGDClassifier(loss='hinge',penalty='l1',alpha = alpha,class_weight='balanced')\n",
    "    clf.fit(train_avgw2v, y_train)\n",
    "    sig_clf = CalibratedClassifierCV(clf, method=\"sigmoid\")\n",
    "    sig_clf.fit(train_avgw2v, y_train)\n",
    "    y_cv_pred = sig_clf.predict_proba(cv_avgw2v)[:,1]\n",
    "    y_train_pred =  sig_clf.predict_proba(train_avgw2v)[:,1]\n",
    "\n",
    "    train_auc.append(roc_auc_score(y_train,y_train_pred))\n",
    "    cv_auc.append(roc_auc_score(y_cv, y_cv_pred))\n",
    "    \n",
    "d = max(cv_auc)\n",
    "\n",
    "i = np.where(cv_auc == d)\n",
    "\n",
    "i = i[0][0]\n",
    "best_alpha = float(C[i])\n",
    "print(\"Best alpha is:-\",best_alpha)     \n",
    "    \n",
    "    \n",
    "C = np.log(C)    \n",
    "    \n",
    "\n",
    "plt.plot(C, train_auc, label='Train AUC')\n",
    "plt.plot(C, cv_auc, label='CV AUC')\n",
    "plt.legend()\n",
    "plt.xlabel(\"No of alpha\")\n",
    "plt.ylabel(\"AUC\")\n",
    "plt.title(\"Performance PLOT\")\n",
    "plt.show()"
   ]
  },
  {
   "cell_type": "code",
   "execution_count": 166,
   "metadata": {},
   "outputs": [
    {
     "name": "stdout",
     "output_type": "stream",
     "text": [
      "\n",
      "The AUCScore of the SGDClassifier of best alpha = 0.000100 is 89.441650%\n"
     ]
    }
   ],
   "source": [
    "# SGDClassifier with best best \"alpha\" for l1 penalty of avgw2v\n",
    "model = SGDClassifier(loss='hinge',penalty='l1',alpha = best_alpha,class_weight='balanced')\n",
    "model.fit(train_avgw2v,y_train)\n",
    "sig_clf = CalibratedClassifierCV(model, method=\"sigmoid\")\n",
    "sig_clf.fit(train_avgw2v,y_train)\n",
    "#pred = model.predict_proba(x_ts_final_counts_bigram)\n",
    "pred=model.predict(test_avgw2v)    \n",
    "    # evaluate CV AUC\n",
    "auc_score_avgw2v_l1 = roc_auc_score(y_true=np.array(y_ts), y_score=sig_clf.predict_proba(test_avgw2v)[:,1])*100\n",
    "auc_score_avgw2v_lambda_l1 = best_alpha\n",
    "print('\\nThe AUCScore of the SGDClassifier of best alpha = %f is %f%%' % (best_alpha, auc_score_avgw2v_l1))    "
   ]
  },
  {
   "cell_type": "code",
   "execution_count": 167,
   "metadata": {},
   "outputs": [
    {
     "data": {
      "text/plain": [
       "<matplotlib.axes._subplots.AxesSubplot at 0x1f7ac685f8>"
      ]
     },
     "execution_count": 167,
     "metadata": {},
     "output_type": "execute_result"
    },
    {
     "data": {
      "image/png": "[encoded data removed]",
      "text/plain": [
       "<Figure size 432x288 with 2 Axes>"
      ]
     },
     "metadata": {},
     "output_type": "display_data"
    }
   ],
   "source": [
    "import scikitplot.metrics as skplt\n",
    "skplt.plot_confusion_matrix(y_ts ,pred)"
   ]
  },
  {
   "cell_type": "markdown",
   "metadata": {},
   "source": [
    "False Positive rate --> when it is actually -ve, how often does it predicted +ve = fp/actual-ve = 694/2485 = .27"
   ]
  },
  {
   "cell_type": "code",
   "execution_count": 191,
   "metadata": {},
   "outputs": [],
   "source": [
    "# FPR for avgw2v_l1\n",
    "avgw2v_FPR_l1 = .27"
   ]
  },
  {
   "cell_type": "code",
   "execution_count": 168,
   "metadata": {},
   "outputs": [
    {
     "name": "stdout",
     "output_type": "stream",
     "text": [
      "             precision    recall  f1-score   support\n",
      "\n",
      "          0       0.46      0.72      0.56      2485\n",
      "          1       0.96      0.88      0.92     17515\n",
      "\n",
      "avg / total       0.90      0.86      0.87     20000\n",
      "\n"
     ]
    }
   ],
   "source": [
    "print(classification_report(y_ts, pred))"
   ]
  },
  {
   "cell_type": "code",
   "execution_count": 169,
   "metadata": {},
   "outputs": [
    {
     "data": {
      "image/png": "[encoded data removed]",
      "text/plain": [
       "<Figure size 432x288 with 1 Axes>"
      ]
     },
     "metadata": {},
     "output_type": "display_data"
    }
   ],
   "source": [
    "from sklearn.metrics import roc_curve, auc\n",
    "\n",
    "train_fpr, train_tpr, thresholds = roc_curve(y_train, sig_clf.predict_proba(train_avgw2v)[:,1])\n",
    "test_fpr, test_tpr, thresholds = roc_curve(y_ts, sig_clf.predict_proba(test_avgw2v)[:,1])\n",
    "\n",
    "plt.plot(train_fpr, train_tpr, label=\"train AUC =\"+str(auc(train_fpr, train_tpr)))\n",
    "plt.plot(test_fpr, test_tpr, label=\"test AUC =\"+str(auc(test_fpr, test_tpr)))\n",
    "plt.legend()\n",
    "plt.xlabel(\"alpha: hyperparameter\")\n",
    "plt.ylabel(\"AUC\")\n",
    "plt.title(\"ROC_Curve PLOT\")\n",
    "plt.show()\n",
    "\n",
    "\n"
   ]
  },
  {
   "cell_type": "code",
   "execution_count": 170,
   "metadata": {},
   "outputs": [
    {
     "name": "stdout",
     "output_type": "stream",
     "text": [
      "Best alpha is:- 0.0001\n"
     ]
    },
    {
     "data": {
      "image/png": "[encoded data removed]",
      "text/plain": [
       "<Figure size 432x288 with 1 Axes>"
      ]
     },
     "metadata": {},
     "output_type": "display_data"
    }
   ],
   "source": [
    "# Please write all the code with proper documentation\n",
    "# Linear kernel svm for L1 penalty\n",
    "from sklearn.calibration import CalibratedClassifierCV\n",
    "from sklearn.linear_model import SGDClassifier\n",
    "from sklearn.metrics import roc_auc_score\n",
    "\n",
    "alpha_values = np.arange(10)\n",
    " \n",
    "acc = np.empty(len(alpha_values))\n",
    "error = np.empty(len(alpha_values))\n",
    "C = np.array([0.0001,0.001,0.01,0.1,1,10,100,500,1000,10000])\n",
    "\n",
    "cv_auc = []\n",
    "train_auc = []\n",
    "i = 0\n",
    "for alpha in C:\n",
    "    clf = SGDClassifier(loss='hinge',penalty='l2',alpha = alpha,class_weight='balanced')\n",
    "    clf.fit(train_avgw2v, y_train)\n",
    "    sig_clf = CalibratedClassifierCV(clf, method=\"sigmoid\")\n",
    "    sig_clf.fit(train_avgw2v, y_train)\n",
    "    y_cv_pred = sig_clf.predict_proba(cv_avgw2v)[:,1]\n",
    "    y_train_pred =  sig_clf.predict_proba(train_avgw2v)[:,1]\n",
    "\n",
    "    train_auc.append(roc_auc_score(y_train,y_train_pred))\n",
    "    cv_auc.append(roc_auc_score(y_cv, y_cv_pred))\n",
    "    \n",
    "d = max(cv_auc)\n",
    "\n",
    "i = np.where(cv_auc == d)\n",
    "\n",
    "i = i[0][0]\n",
    "best_alpha = float(C[i])\n",
    "print(\"Best alpha is:-\",best_alpha)     \n",
    "    \n",
    "    \n",
    "C = np.log(C)    \n",
    "    \n",
    "\n",
    "plt.plot(C, train_auc, label='Train AUC')\n",
    "plt.plot(C, cv_auc, label='CV AUC')\n",
    "plt.legend()\n",
    "plt.xlabel(\"No of alpha\")\n",
    "plt.ylabel(\"AUC\")\n",
    "plt.title(\"Performance PLOT\")\n",
    "plt.show()"
   ]
  },
  {
   "cell_type": "code",
   "execution_count": 171,
   "metadata": {},
   "outputs": [
    {
     "name": "stdout",
     "output_type": "stream",
     "text": [
      "\n",
      "The AUCScore of the SGDClassifier of best alpha = 0.000100 is 89.336788%\n"
     ]
    }
   ],
   "source": [
    "# SGDClassifier with best best \"alpha\" for l2 penalty of avgw2v\n",
    "model = SGDClassifier(loss='hinge',penalty='l2',alpha = best_alpha,class_weight='balanced')\n",
    "model.fit(train_avgw2v,y_train)\n",
    "sig_clf = CalibratedClassifierCV(model, method=\"sigmoid\")\n",
    "sig_clf.fit(train_avgw2v,y_train)\n",
    "#pred = model.predict_proba(x_ts_final_counts_bigram)\n",
    "pred=model.predict(test_avgw2v)    \n",
    "    # evaluate CV AUC\n",
    "auc_score_avgw2v_l2 = roc_auc_score(y_true=np.array(y_ts), y_score=sig_clf.predict_proba(test_avgw2v)[:,1])*100\n",
    "auc_score_avgw2v_lambda_l2 = best_alpha\n",
    "print('\\nThe AUCScore of the SGDClassifier of best alpha = %f is %f%%' % (best_alpha, auc_score_avgw2v_l2))    "
   ]
  },
  {
   "cell_type": "code",
   "execution_count": 172,
   "metadata": {},
   "outputs": [
    {
     "data": {
      "text/plain": [
       "<matplotlib.axes._subplots.AxesSubplot at 0x1f7d357fd0>"
      ]
     },
     "execution_count": 172,
     "metadata": {},
     "output_type": "execute_result"
    },
    {
     "data": {
      "image/png": "[encoded data removed]",
      "text/plain": [
       "<Figure size 432x288 with 2 Axes>"
      ]
     },
     "metadata": {},
     "output_type": "display_data"
    }
   ],
   "source": [
    "import scikitplot.metrics as skplt\n",
    "skplt.plot_confusion_matrix(y_ts ,pred)"
   ]
  },
  {
   "cell_type": "markdown",
   "metadata": {},
   "source": [
    "False Positive rate --> when it is actually -ve, how often does it predicted +ve = fp/actual-ve = 424/2485 = .17"
   ]
  },
  {
   "cell_type": "code",
   "execution_count": 192,
   "metadata": {},
   "outputs": [],
   "source": [
    "# FPR for avgw2v_l2\n",
    "avgw2v_FPR_l2 = .17"
   ]
  },
  {
   "cell_type": "code",
   "execution_count": 173,
   "metadata": {},
   "outputs": [
    {
     "name": "stdout",
     "output_type": "stream",
     "text": [
      "             precision    recall  f1-score   support\n",
      "\n",
      "          0       0.37      0.83      0.51      2485\n",
      "          1       0.97      0.80      0.88     17515\n",
      "\n",
      "avg / total       0.90      0.80      0.83     20000\n",
      "\n"
     ]
    }
   ],
   "source": [
    "print(classification_report(y_ts, pred))"
   ]
  },
  {
   "cell_type": "code",
   "execution_count": 174,
   "metadata": {},
   "outputs": [
    {
     "data": {
      "image/png": "[encoded data removed]",
      "text/plain": [
       "<Figure size 432x288 with 1 Axes>"
      ]
     },
     "metadata": {},
     "output_type": "display_data"
    }
   ],
   "source": [
    "from sklearn.metrics import roc_curve, auc\n",
    "\n",
    "train_fpr, train_tpr, thresholds = roc_curve(y_train, sig_clf.predict_proba(train_avgw2v)[:,1])\n",
    "test_fpr, test_tpr, thresholds = roc_curve(y_ts, sig_clf.predict_proba(test_avgw2v)[:,1])\n",
    "\n",
    "plt.plot(train_fpr, train_tpr, label=\"train AUC =\"+str(auc(train_fpr, train_tpr)))\n",
    "plt.plot(test_fpr, test_tpr, label=\"test AUC =\"+str(auc(test_fpr, test_tpr)))\n",
    "plt.legend()\n",
    "plt.xlabel(\"alpha: hyperparameter\")\n",
    "plt.ylabel(\"AUC\")\n",
    "plt.title(\"ROC_Curve PLOT\")\n",
    "plt.show()\n",
    "\n",
    "\n"
   ]
  },
  {
   "cell_type": "markdown",
   "metadata": {},
   "source": [
    "### [5.1.4]  Applying Linear SVM on TFIDF W2V,<font color='red'> SET 4</font>"
   ]
  },
  {
   "cell_type": "code",
   "execution_count": 175,
   "metadata": {},
   "outputs": [
    {
     "name": "stdout",
     "output_type": "stream",
     "text": [
      "Best alpha is:- 0.0001\n"
     ]
    },
    {
     "data": {
      "image/png": "[encoded data removed]",
      "text/plain": [
       "<Figure size 432x288 with 1 Axes>"
      ]
     },
     "metadata": {},
     "output_type": "display_data"
    }
   ],
   "source": [
    "# Please write all the code with proper documentation\n",
    "# Linear kernel svm for L1 penalty\n",
    "from sklearn.calibration import CalibratedClassifierCV\n",
    "from sklearn.linear_model import SGDClassifier\n",
    "from sklearn.metrics import roc_auc_score\n",
    "\n",
    "alpha_values = np.arange(10)\n",
    " \n",
    "acc = np.empty(len(alpha_values))\n",
    "error = np.empty(len(alpha_values))\n",
    "C = np.array([0.0001,0.001,0.01,0.1,1,10,100,500,1000,10000])\n",
    "\n",
    "cv_auc = []\n",
    "train_auc = []\n",
    "i = 0\n",
    "for alpha in C:\n",
    "    clf = SGDClassifier(loss='hinge',penalty='l1',alpha = alpha,class_weight='balanced')\n",
    "    clf.fit(tfidf_sent_vectors, y_train)\n",
    "    sig_clf = CalibratedClassifierCV(clf, method=\"sigmoid\")\n",
    "    sig_clf.fit(tfidf_sent_vectors, y_train)\n",
    "    y_cv_pred = sig_clf.predict_proba(tfidf_sent_vectors_cv)[:,1]\n",
    "    y_train_pred =  sig_clf.predict_proba(tfidf_sent_vectors)[:,1]\n",
    "\n",
    "    train_auc.append(roc_auc_score(y_train,y_train_pred))\n",
    "    cv_auc.append(roc_auc_score(y_cv, y_cv_pred))\n",
    "    \n",
    "d = max(cv_auc)\n",
    "\n",
    "i = np.where(cv_auc == d)\n",
    "\n",
    "i = i[0][0]\n",
    "best_alpha = float(C[i])\n",
    "print(\"Best alpha is:-\",best_alpha)     \n",
    "    \n",
    "    \n",
    "C = np.log(C)    \n",
    "    \n",
    "\n",
    "plt.plot(C, train_auc, label='Train AUC')\n",
    "plt.plot(C, cv_auc, label='CV AUC')\n",
    "plt.legend()\n",
    "plt.xlabel(\"No of alpha\")\n",
    "plt.ylabel(\"AUC\")\n",
    "plt.title(\"Performance PLOT\")\n",
    "plt.show()"
   ]
  },
  {
   "cell_type": "code",
   "execution_count": 176,
   "metadata": {},
   "outputs": [
    {
     "name": "stdout",
     "output_type": "stream",
     "text": [
      "\n",
      "The AUCScore of the SGDClassifier of best alpha = 0.000100 is 86.663858%\n"
     ]
    }
   ],
   "source": [
    "# SGDClassifier with best best \"alpha\" for l1 penalty of tfdidf w2v\n",
    "model = SGDClassifier(loss='hinge',penalty='l1',alpha = best_alpha,class_weight='balanced')\n",
    "model.fit(tfidf_sent_vectors,y_train)\n",
    "sig_clf = CalibratedClassifierCV(model, method=\"sigmoid\")\n",
    "sig_clf.fit(tfidf_sent_vectors,y_train)\n",
    "#pred = model.predict_proba(x_ts_final_counts_bigram)\n",
    "pred=model.predict(tfidf_sent_vectors_ts)    \n",
    "    # evaluate CV AUC\n",
    "auc_score_sent_vectors_l1 = roc_auc_score(y_true=np.array(y_ts), y_score=sig_clf.predict_proba(tfidf_sent_vectors_ts)[:,1])*100\n",
    "auc_score_sent_vectors_lambda_l1 = best_alpha\n",
    "print('\\nThe AUCScore of the SGDClassifier of best alpha = %f is %f%%' % (best_alpha, auc_score_sent_vectors_l1))    "
   ]
  },
  {
   "cell_type": "code",
   "execution_count": 177,
   "metadata": {},
   "outputs": [
    {
     "data": {
      "text/plain": [
       "<matplotlib.axes._subplots.AxesSubplot at 0x1f7b082e80>"
      ]
     },
     "execution_count": 177,
     "metadata": {},
     "output_type": "execute_result"
    },
    {
     "data": {
      "image/png": "[encoded data removed]",
      "text/plain": [
       "<Figure size 432x288 with 2 Axes>"
      ]
     },
     "metadata": {},
     "output_type": "display_data"
    }
   ],
   "source": [
    "import scikitplot.metrics as skplt\n",
    "skplt.plot_confusion_matrix(y_ts ,pred)"
   ]
  },
  {
   "cell_type": "markdown",
   "metadata": {},
   "source": [
    "False Positive rate --> when it is actually -ve, how often does it predicted +ve = fp/actual-ve = 334/2485 = .13"
   ]
  },
  {
   "cell_type": "code",
   "execution_count": 204,
   "metadata": {},
   "outputs": [],
   "source": [
    "# FPR for sent_vectors_l1\n",
    "sent_vectors_FPR_l1 =.13"
   ]
  },
  {
   "cell_type": "code",
   "execution_count": 178,
   "metadata": {},
   "outputs": [
    {
     "name": "stdout",
     "output_type": "stream",
     "text": [
      "             precision    recall  f1-score   support\n",
      "\n",
      "          0       0.28      0.87      0.42      2485\n",
      "          1       0.97      0.68      0.80     17515\n",
      "\n",
      "avg / total       0.89      0.71      0.76     20000\n",
      "\n"
     ]
    }
   ],
   "source": [
    "print(classification_report(y_ts, pred))"
   ]
  },
  {
   "cell_type": "code",
   "execution_count": 179,
   "metadata": {},
   "outputs": [
    {
     "data": {
      "image/png": "[encoded data removed]",
      "text/plain": [
       "<Figure size 432x288 with 1 Axes>"
      ]
     },
     "metadata": {},
     "output_type": "display_data"
    }
   ],
   "source": [
    "from sklearn.metrics import roc_curve, auc\n",
    "\n",
    "train_fpr, train_tpr, thresholds = roc_curve(y_train, sig_clf.predict_proba(tfidf_sent_vectors)[:,1])\n",
    "test_fpr, test_tpr, thresholds = roc_curve(y_ts, sig_clf.predict_proba(tfidf_sent_vectors_ts)[:,1])\n",
    "\n",
    "plt.plot(train_fpr, train_tpr, label=\"train AUC =\"+str(auc(train_fpr, train_tpr)))\n",
    "plt.plot(test_fpr, test_tpr, label=\"test AUC =\"+str(auc(test_fpr, test_tpr)))\n",
    "plt.legend()\n",
    "plt.xlabel(\"alpha: hyperparameter\")\n",
    "plt.ylabel(\"AUC\")\n",
    "plt.title(\"ROC_Curve PLOT\")\n",
    "plt.show()\n",
    "\n",
    "\n"
   ]
  },
  {
   "cell_type": "code",
   "execution_count": 180,
   "metadata": {},
   "outputs": [
    {
     "name": "stdout",
     "output_type": "stream",
     "text": [
      "Best alpha is:- 0.0001\n"
     ]
    },
    {
     "data": {
      "image/png": "[encoded data removed]",
      "text/plain": [
       "<Figure size 432x288 with 1 Axes>"
      ]
     },
     "metadata": {},
     "output_type": "display_data"
    }
   ],
   "source": [
    "# Please write all the code with proper documentation\n",
    "# Linear kernel svm for L1 penalty\n",
    "from sklearn.calibration import CalibratedClassifierCV\n",
    "from sklearn.linear_model import SGDClassifier\n",
    "from sklearn.metrics import roc_auc_score\n",
    "\n",
    "alpha_values = np.arange(10)\n",
    " \n",
    "acc = np.empty(len(alpha_values))\n",
    "error = np.empty(len(alpha_values))\n",
    "C = np.array([0.0001,0.001,0.01,0.1,1,10,100,500,1000,10000])\n",
    "\n",
    "cv_auc = []\n",
    "train_auc = []\n",
    "i = 0\n",
    "for alpha in C:\n",
    "    clf = SGDClassifier(loss='hinge',penalty='l2',alpha = alpha,class_weight='balanced')\n",
    "    clf.fit(tfidf_sent_vectors, y_train)\n",
    "    sig_clf = CalibratedClassifierCV(clf, method=\"sigmoid\")\n",
    "    sig_clf.fit(tfidf_sent_vectors, y_train)\n",
    "    y_cv_pred = sig_clf.predict_proba(tfidf_sent_vectors_cv)[:,1]\n",
    "    y_train_pred =  sig_clf.predict_proba(tfidf_sent_vectors)[:,1]\n",
    "\n",
    "    train_auc.append(roc_auc_score(y_train,y_train_pred))\n",
    "    cv_auc.append(roc_auc_score(y_cv, y_cv_pred))\n",
    "    \n",
    "d = max(cv_auc)\n",
    "\n",
    "i = np.where(cv_auc == d)\n",
    "\n",
    "i = i[0][0]\n",
    "best_alpha = float(C[i])\n",
    "print(\"Best alpha is:-\",best_alpha)     \n",
    "    \n",
    "    \n",
    "C = np.log(C)    \n",
    "    \n",
    "\n",
    "plt.plot(C, train_auc, label='Train AUC')\n",
    "plt.plot(C, cv_auc, label='CV AUC')\n",
    "plt.legend()\n",
    "plt.xlabel(\"No of alpha\")\n",
    "plt.ylabel(\"AUC\")\n",
    "plt.title(\"Performance PLOT\")\n",
    "plt.show()"
   ]
  },
  {
   "cell_type": "code",
   "execution_count": 181,
   "metadata": {},
   "outputs": [
    {
     "name": "stdout",
     "output_type": "stream",
     "text": [
      "\n",
      "The AUCScore of the SGDClassifier of best alpha = 0.000100 is 86.684177%\n"
     ]
    }
   ],
   "source": [
    "# SGDClassifier with best best \"alpha\" for l2 penalty of TFIDF avgw2v\n",
    "model = SGDClassifier(loss='hinge',penalty='l2',alpha = best_alpha,class_weight='balanced')\n",
    "model.fit(tfidf_sent_vectors,y_train)\n",
    "sig_clf = CalibratedClassifierCV(model, method=\"sigmoid\")\n",
    "sig_clf.fit(tfidf_sent_vectors,y_train)\n",
    "#pred = model.predict_proba(x_ts_final_counts_bigram)\n",
    "pred=model.predict(tfidf_sent_vectors_ts)    \n",
    "    # evaluate CV AUC\n",
    "auc_score_sent_vectors_l2 = roc_auc_score(y_true=np.array(y_ts), y_score=sig_clf.predict_proba(tfidf_sent_vectors_ts)[:,1])*100\n",
    "auc_score_sent_vectors_lambda_l2 = best_alpha\n",
    "print('\\nThe AUCScore of the SGDClassifier of best alpha = %f is %f%%' % (best_alpha, auc_score_sent_vectors_l2))    "
   ]
  },
  {
   "cell_type": "code",
   "execution_count": 182,
   "metadata": {},
   "outputs": [
    {
     "data": {
      "text/plain": [
       "<matplotlib.axes._subplots.AxesSubplot at 0x1f7aa11470>"
      ]
     },
     "execution_count": 182,
     "metadata": {},
     "output_type": "execute_result"
    },
    {
     "data": {
      "image/png": "[encoded data removed]",
      "text/plain": [
       "<Figure size 432x288 with 2 Axes>"
      ]
     },
     "metadata": {},
     "output_type": "display_data"
    }
   ],
   "source": [
    "import scikitplot.metrics as skplt\n",
    "skplt.plot_confusion_matrix(y_ts ,pred)"
   ]
  },
  {
   "cell_type": "markdown",
   "metadata": {},
   "source": [
    "False Positive rate --> when it is actually -ve, how often does it predicted +ve = fp/actual-ve = 572/2485 = .23"
   ]
  },
  {
   "cell_type": "code",
   "execution_count": 195,
   "metadata": {},
   "outputs": [],
   "source": [
    "# FPR for sent_vectors_l2\n",
    "sent_vectors_FPR_l2 = .23"
   ]
  },
  {
   "cell_type": "code",
   "execution_count": 183,
   "metadata": {},
   "outputs": [
    {
     "name": "stdout",
     "output_type": "stream",
     "text": [
      "             precision    recall  f1-score   support\n",
      "\n",
      "          0       0.34      0.77      0.47      2485\n",
      "          1       0.96      0.79      0.87     17515\n",
      "\n",
      "avg / total       0.88      0.79      0.82     20000\n",
      "\n"
     ]
    }
   ],
   "source": [
    "print(classification_report(y_ts, pred))"
   ]
  },
  {
   "cell_type": "code",
   "execution_count": 184,
   "metadata": {},
   "outputs": [
    {
     "data": {
      "image/png": "[encoded data removed]",
      "text/plain": [
       "<Figure size 432x288 with 1 Axes>"
      ]
     },
     "metadata": {},
     "output_type": "display_data"
    }
   ],
   "source": [
    "from sklearn.metrics import roc_curve, auc\n",
    "\n",
    "train_fpr, train_tpr, thresholds = roc_curve(y_train, sig_clf.predict_proba(tfidf_sent_vectors)[:,1])\n",
    "test_fpr, test_tpr, thresholds = roc_curve(y_ts, sig_clf.predict_proba(tfidf_sent_vectors_ts)[:,1])\n",
    "\n",
    "plt.plot(train_fpr, train_tpr, label=\"train AUC =\"+str(auc(train_fpr, train_tpr)))\n",
    "plt.plot(test_fpr, test_tpr, label=\"test AUC =\"+str(auc(test_fpr, test_tpr)))\n",
    "plt.legend()\n",
    "plt.xlabel(\"alpha: hyperparameter\")\n",
    "plt.ylabel(\"AUC\")\n",
    "plt.title(\"ROC_Curve PLOT\")\n",
    "plt.show()\n",
    "\n",
    "\n"
   ]
  },
  {
   "cell_type": "markdown",
   "metadata": {},
   "source": [
    "## [5.2] RBF SVM"
   ]
  },
  {
   "cell_type": "markdown",
   "metadata": {},
   "source": [
    "### [5.2.1] Applying RBF SVM on BOW,<font color='red'> SET 1</font>"
   ]
  },
  {
   "cell_type": "code",
   "execution_count": 77,
   "metadata": {},
   "outputs": [
    {
     "name": "stdout",
     "output_type": "stream",
     "text": [
      "Best C is:- 100.0\n"
     ]
    },
    {
     "data": {
      "image/png": "[encoded data removed]",
      "text/plain": [
       "<Figure size 432x288 with 1 Axes>"
      ]
     },
     "metadata": {},
     "output_type": "display_data"
    }
   ],
   "source": [
    "# Please write all the code with proper documentation\n",
    "# Linear kernel svm for L1 penalty\n",
    "from sklearn.calibration import CalibratedClassifierCV\n",
    "from sklearn.linear_model import SGDClassifier\n",
    "from sklearn.metrics import roc_auc_score\n",
    "\n",
    "\n",
    "from sklearn.svm import SVC\n",
    "alpha_values = np.arange(10)\n",
    " \n",
    "acc = np.empty(len(alpha_values))\n",
    "error = np.empty(len(alpha_values))\n",
    "C = np.array([0.0001,0.001,0.01,0.1,1,10,100,500,1000,10000])\n",
    "\n",
    "cv_scores = []\n",
    "tr_scores = []\n",
    "i = 0\n",
    "for alpha in C:\n",
    "    clf = SVC(C = alpha, kernel='rbf',probability=True,class_weight = 'balanced')\n",
    "    clf.fit(x_tr_final_counts_bigram_rbf, y_train_rbf)\n",
    "    scores = roc_auc_score(y_true=np.array(y_cv_rbf), y_score=clf.predict_proba(x_cv_final_counts_bigram_rbf)[:,1])\n",
    "    cv_scores.append(scores)\n",
    "    scores = roc_auc_score(y_true=np.array(y_train_rbf), y_score=clf.predict_proba(x_tr_final_counts_bigram_rbf)[:,1])\n",
    "    tr_scores.append(scores)\n",
    "    i += 1\n",
    "\n",
    "d = max(cv_scores)\n",
    "\n",
    "i = np.where(cv_scores == d)\n",
    "\n",
    "i = i[0][0]\n",
    "best_alpha = float(C[i])\n",
    "print(\"Best C is:-\",best_alpha)     \n",
    "    \n",
    "    \n",
    "C = np.log(C)    \n",
    "    \n",
    "\n",
    "plt.plot(C, tr_scores, label='Train AUC')\n",
    "plt.plot(C, cv_scores, label='CV AUC')\n",
    "plt.legend()\n",
    "plt.xlabel(\"No of C\")\n",
    "plt.ylabel(\"AUC\")\n",
    "plt.title(\"Performance PLOT\")\n",
    "plt.show()"
   ]
  },
  {
   "cell_type": "code",
   "execution_count": 78,
   "metadata": {},
   "outputs": [
    {
     "name": "stdout",
     "output_type": "stream",
     "text": [
      "\n",
      "The AUCScore of SVM of Best C = 100.000000 is 87.884186%\n"
     ]
    }
   ],
   "source": [
    "# svm RBF with  best C for  bowT\n",
    "model = SVC(C = best_alpha,kernel='rbf',probability=True,class_weight = 'balanced')\n",
    "model.fit(x_tr_final_counts_bigram_rbf,y_train_rbf)\n",
    "pred = model.predict(x_ts_final_counts_bigram_rbf)\n",
    "    \n",
    "    # evaluate CV accuracy\n",
    "auc_score_bowt_rbf = roc_auc_score(y_true=np.array(y_ts_rbf), y_score=model.predict_proba(x_ts_final_counts_bigram_rbf)[:,1])*100\n",
    "auc_score_bowt_alpha_rbf = best_alpha\n",
    "print('\\nThe AUCScore of SVM of Best C = %f is %f%%' % (best_alpha, auc_score_bowt_rbf))    "
   ]
  },
  {
   "cell_type": "code",
   "execution_count": 79,
   "metadata": {},
   "outputs": [
    {
     "data": {
      "text/plain": [
       "<matplotlib.axes._subplots.AxesSubplot at 0x1f2c264358>"
      ]
     },
     "execution_count": 79,
     "metadata": {},
     "output_type": "execute_result"
    },
    {
     "data": {
      "image/png": "[encoded data removed]",
      "text/plain": [
       "<Figure size 432x288 with 2 Axes>"
      ]
     },
     "metadata": {},
     "output_type": "display_data"
    }
   ],
   "source": [
    "import scikitplot.metrics as skplt\n",
    "skplt.plot_confusion_matrix(y_ts_rbf ,pred)\n"
   ]
  },
  {
   "cell_type": "markdown",
   "metadata": {},
   "source": [
    "False Positive rate --> when it is actually -ve, how often does it predicted +ve = fp/actual-ve = 89/428 = .20"
   ]
  },
  {
   "cell_type": "code",
   "execution_count": 196,
   "metadata": {},
   "outputs": [],
   "source": [
    "# FPR for bowt_rbf\n",
    "bowt_rbf_FPR = .20"
   ]
  },
  {
   "cell_type": "code",
   "execution_count": 80,
   "metadata": {},
   "outputs": [
    {
     "name": "stdout",
     "output_type": "stream",
     "text": [
      "             precision    recall  f1-score   support\n",
      "\n",
      "          0       0.34      0.79      0.48       428\n",
      "          1       0.97      0.82      0.89      3572\n",
      "\n",
      "avg / total       0.90      0.82      0.84      4000\n",
      "\n"
     ]
    }
   ],
   "source": [
    "#classification report\n",
    "from sklearn.metrics import classification_report\n",
    "print(classification_report(y_ts_rbf, pred))"
   ]
  },
  {
   "cell_type": "code",
   "execution_count": 81,
   "metadata": {},
   "outputs": [
    {
     "data": {
      "image/png": "[encoded data removed]",
      "text/plain": [
       "<Figure size 432x288 with 1 Axes>"
      ]
     },
     "metadata": {},
     "output_type": "display_data"
    }
   ],
   "source": [
    "from sklearn.metrics import roc_curve, auc\n",
    "\n",
    "train_fpr, train_tpr, thresholds = roc_curve(y_train_rbf, model.predict_proba(x_tr_final_counts_bigram_rbf)[:,1])\n",
    "test_fpr, test_tpr, thresholds = roc_curve(y_ts_rbf, model.predict_proba(x_ts_final_counts_bigram_rbf)[:,1])\n",
    "\n",
    "plt.plot(train_fpr, train_tpr, label=\"train AUC =\"+str(auc(train_fpr, train_tpr)))\n",
    "plt.plot(test_fpr, test_tpr, label=\"test AUC =\"+str(auc(test_fpr, test_tpr)))\n",
    "plt.legend()\n",
    "plt.xlabel(\"C: hyperparameter\")\n",
    "plt.ylabel(\"AUC\")\n",
    "plt.title(\"ROC_Curve PLOT\")\n",
    "plt.show()\n",
    "\n",
    "\n"
   ]
  },
  {
   "cell_type": "markdown",
   "metadata": {},
   "source": [
    "### [5.2.2] Applying RBF SVM on TFIDF,<font color='red'> SET 2</font>"
   ]
  },
  {
   "cell_type": "code",
   "execution_count": 82,
   "metadata": {},
   "outputs": [
    {
     "name": "stdout",
     "output_type": "stream",
     "text": [
      "Best C is:- 100.0\n"
     ]
    },
    {
     "data": {
      "image/png": "[encoded data removed]",
      "text/plain": [
       "<Figure size 432x288 with 1 Axes>"
      ]
     },
     "metadata": {},
     "output_type": "display_data"
    }
   ],
   "source": [
    "# Please write all the code with proper documentation\n",
    "# Linear kernel svm for L1 penalty\n",
    "from sklearn.calibration import CalibratedClassifierCV\n",
    "from sklearn.linear_model import SGDClassifier\n",
    "from sklearn.metrics import roc_auc_score\n",
    "\n",
    "\n",
    "from sklearn.svm import SVC\n",
    "alpha_values = np.arange(10)\n",
    " \n",
    "acc = np.empty(len(alpha_values))\n",
    "error = np.empty(len(alpha_values))\n",
    "C = np.array([0.0001,0.001,0.01,0.1,1,10,100,500,1000,10000])\n",
    "\n",
    "cv_scores = []\n",
    "tr_scores = []\n",
    "i = 0\n",
    "for alpha in C:\n",
    "    clf = SVC(C = alpha, kernel='rbf',probability=True,class_weight = 'balanced')\n",
    "    clf.fit(x_tr_final_counts_tfidf_rbf, y_train_rbf)\n",
    "    scores = roc_auc_score(y_true=np.array(y_cv_rbf), y_score=clf.predict_proba(x_cv_final_counts_tfidf_rbf)[:,1])\n",
    "    cv_scores.append(scores)\n",
    "    scores = roc_auc_score(y_true=np.array(y_train_rbf), y_score=clf.predict_proba(x_tr_final_counts_tfidf_rbf)[:,1])\n",
    "    tr_scores.append(scores)\n",
    "    i += 1\n",
    "\n",
    "d = max(cv_scores)\n",
    "\n",
    "i = np.where(cv_scores == d)\n",
    "\n",
    "i = i[0][0]\n",
    "best_alpha = float(C[i])\n",
    "print(\"Best C is:-\",best_alpha)     \n",
    "    \n",
    "    \n",
    "C = np.log(C)    \n",
    "    \n",
    "\n",
    "plt.plot(C, tr_scores, label='Train AUC')\n",
    "plt.plot(C, cv_scores, label='CV AUC')\n",
    "plt.legend()\n",
    "plt.xlabel(\"No of C\")\n",
    "plt.ylabel(\"AUC\")\n",
    "plt.title(\"Performance PLOT\")\n",
    "plt.show()"
   ]
  },
  {
   "cell_type": "code",
   "execution_count": 83,
   "metadata": {},
   "outputs": [
    {
     "name": "stdout",
     "output_type": "stream",
     "text": [
      "\n",
      "The AUCScore of SVM of Best C = 100.000000 is 87.678243%\n"
     ]
    }
   ],
   "source": [
    "# svm RBF with  best C for  tfidf\n",
    "model = SVC(C = best_alpha,kernel='rbf',probability=True,class_weight = 'balanced')\n",
    "model.fit(x_tr_final_counts_tfidf_rbf,y_train_rbf)\n",
    "pred = model.predict(x_ts_final_counts_tfidf_rbf)\n",
    "    \n",
    "    # evaluate CV accuracy\n",
    "auc_score_tfidf_rbf = roc_auc_score(y_true=np.array(y_ts_rbf), y_score=model.predict_proba(x_ts_final_counts_tfidf_rbf)[:,1])*100\n",
    "auc_score_tfidf_alpha_rbf = best_alpha\n",
    "print('\\nThe AUCScore of SVM of Best C = %f is %f%%' % (best_alpha, auc_score_tfidf_rbf))    "
   ]
  },
  {
   "cell_type": "code",
   "execution_count": 84,
   "metadata": {},
   "outputs": [
    {
     "data": {
      "text/plain": [
       "<matplotlib.axes._subplots.AxesSubplot at 0x1f2c4df320>"
      ]
     },
     "execution_count": 84,
     "metadata": {},
     "output_type": "execute_result"
    },
    {
     "data": {
      "image/png": "[encoded data removed]",
      "text/plain": [
       "<Figure size 432x288 with 2 Axes>"
      ]
     },
     "metadata": {},
     "output_type": "display_data"
    }
   ],
   "source": [
    "import scikitplot.metrics as skplt\n",
    "skplt.plot_confusion_matrix(y_ts_rbf ,pred)\n"
   ]
  },
  {
   "cell_type": "markdown",
   "metadata": {},
   "source": [
    "False Positive rate --> when it is actually -ve, how often does it predicted +ve = fp/actual-ve = 96/428 = .22"
   ]
  },
  {
   "cell_type": "code",
   "execution_count": 197,
   "metadata": {},
   "outputs": [],
   "source": [
    "# FPR for tfidf\n",
    "tfidf_rbf_FPR = .22"
   ]
  },
  {
   "cell_type": "code",
   "execution_count": 85,
   "metadata": {},
   "outputs": [
    {
     "name": "stdout",
     "output_type": "stream",
     "text": [
      "             precision    recall  f1-score   support\n",
      "\n",
      "          0       0.35      0.78      0.48       428\n",
      "          1       0.97      0.83      0.89      3572\n",
      "\n",
      "avg / total       0.90      0.82      0.85      4000\n",
      "\n"
     ]
    }
   ],
   "source": [
    "print(classification_report(y_ts_rbf, pred))"
   ]
  },
  {
   "cell_type": "code",
   "execution_count": 86,
   "metadata": {},
   "outputs": [
    {
     "data": {
      "image/png": "[encoded data removed]",
      "text/plain": [
       "<Figure size 432x288 with 1 Axes>"
      ]
     },
     "metadata": {},
     "output_type": "display_data"
    }
   ],
   "source": [
    "from sklearn.metrics import roc_curve, auc\n",
    "\n",
    "train_fpr, train_tpr, thresholds = roc_curve(y_train_rbf, model.predict_proba(x_tr_final_counts_tfidf_rbf)[:,1])\n",
    "test_fpr, test_tpr, thresholds = roc_curve(y_ts_rbf, model.predict_proba(x_ts_final_counts_tfidf_rbf)[:,1])\n",
    "\n",
    "plt.plot(train_fpr, train_tpr, label=\"train AUC =\"+str(auc(train_fpr, train_tpr)))\n",
    "plt.plot(test_fpr, test_tpr, label=\"test AUC =\"+str(auc(test_fpr, test_tpr)))\n",
    "plt.legend()\n",
    "plt.xlabel(\"C: hyperparameter\")\n",
    "plt.ylabel(\"AUC\")\n",
    "plt.title(\"ROC_Curve PLOT\")\n",
    "plt.show()\n",
    "\n",
    "\n"
   ]
  },
  {
   "cell_type": "markdown",
   "metadata": {},
   "source": [
    "### [5.2.3]  Applying RBF SVM on AVG W2V,<font color='red'> SET 3</font>"
   ]
  },
  {
   "cell_type": "code",
   "execution_count": 87,
   "metadata": {},
   "outputs": [
    {
     "name": "stdout",
     "output_type": "stream",
     "text": [
      "Best C is:- 10000.0\n"
     ]
    },
    {
     "data": {
      "image/png": "[encoded data removed]",
      "text/plain": [
       "<Figure size 432x288 with 1 Axes>"
      ]
     },
     "metadata": {},
     "output_type": "display_data"
    }
   ],
   "source": [
    "# Please write all the code with proper documentation\n",
    "# Linear kernel svm for L1 penalty\n",
    "from sklearn.calibration import CalibratedClassifierCV\n",
    "from sklearn.linear_model import SGDClassifier\n",
    "from sklearn.metrics import roc_auc_score\n",
    "\n",
    "\n",
    "from sklearn.svm import SVC\n",
    "alpha_values = np.arange(10)\n",
    " \n",
    "acc = np.empty(len(alpha_values))\n",
    "error = np.empty(len(alpha_values))\n",
    "C = np.array([0.0001,0.001,0.01,0.1,1,10,100,500,1000,10000])\n",
    "\n",
    "cv_scores = []\n",
    "tr_scores = []\n",
    "i = 0\n",
    "for alpha in C:\n",
    "    clf = SVC(C = alpha, kernel='rbf',probability=True,class_weight = 'balanced')\n",
    "    clf.fit(train_avgw2v_rbf, y_train_rbf)\n",
    "    scores = roc_auc_score(y_true=np.array(y_cv_rbf), y_score=clf.predict_proba(cv_avgw2v_rbf)[:,1])\n",
    "    cv_scores.append(scores)\n",
    "    scores = roc_auc_score(y_true=np.array(y_train_rbf), y_score=clf.predict_proba(train_avgw2v_rbf)[:,1])\n",
    "    tr_scores.append(scores)\n",
    "    i += 1\n",
    "\n",
    "d = max(cv_scores)\n",
    "\n",
    "i = np.where(cv_scores == d)\n",
    "\n",
    "i = i[0][0]\n",
    "best_alpha = float(C[i])\n",
    "print(\"Best C is:-\",best_alpha)     \n",
    "    \n",
    "    \n",
    "C = np.log(C)    \n",
    "    \n",
    "\n",
    "plt.plot(C, tr_scores, label='Train AUC')\n",
    "plt.plot(C, cv_scores, label='CV AUC')\n",
    "plt.legend()\n",
    "plt.xlabel(\"No of C\")\n",
    "plt.ylabel(\"AUC\")\n",
    "plt.title(\"Performance PLOT\")\n",
    "plt.show()"
   ]
  },
  {
   "cell_type": "code",
   "execution_count": 88,
   "metadata": {},
   "outputs": [
    {
     "name": "stdout",
     "output_type": "stream",
     "text": [
      "\n",
      "The AUCScore of SVM of Best C = 10000.000000 is 84.540259%\n"
     ]
    }
   ],
   "source": [
    "# svm RBF with  best C for  avgw2v \n",
    "model = SVC(C = best_alpha,kernel='rbf',probability=True,class_weight = 'balanced')\n",
    "model.fit(train_avgw2v_rbf,y_train_rbf)\n",
    "pred = model.predict(test_avgw2v_rbf)\n",
    "    \n",
    "    # evaluate CV accuracy\n",
    "auc_score_avgword2vec = roc_auc_score(y_true=np.array(y_ts_rbf), y_score=model.predict_proba(test_avgw2v_rbf)[:,1])*100\n",
    "auc_score_avgword2vec_alpha_rbf = best_alpha\n",
    "print('\\nThe AUCScore of SVM of Best C = %f is %f%%' % (best_alpha, auc_score_avgword2vec))    "
   ]
  },
  {
   "cell_type": "code",
   "execution_count": 89,
   "metadata": {},
   "outputs": [
    {
     "data": {
      "text/plain": [
       "<matplotlib.axes._subplots.AxesSubplot at 0x1f2c3ae6d8>"
      ]
     },
     "execution_count": 89,
     "metadata": {},
     "output_type": "execute_result"
    },
    {
     "data": {
      "image/png": "[encoded data removed]",
      "text/plain": [
       "<Figure size 432x288 with 2 Axes>"
      ]
     },
     "metadata": {},
     "output_type": "display_data"
    }
   ],
   "source": [
    "import scikitplot.metrics as skplt\n",
    "skplt.plot_confusion_matrix(y_ts_rbf,pred)"
   ]
  },
  {
   "cell_type": "markdown",
   "metadata": {},
   "source": [
    "False Positive rate --> when it is actually -ve, how often does it predicted +ve = fp/actual-ve = 88/428 = .20"
   ]
  },
  {
   "cell_type": "code",
   "execution_count": 198,
   "metadata": {},
   "outputs": [],
   "source": [
    "# FPR for avg2wec\n",
    "avgw2v_rbf_FPR = .20"
   ]
  },
  {
   "cell_type": "code",
   "execution_count": 90,
   "metadata": {},
   "outputs": [
    {
     "name": "stdout",
     "output_type": "stream",
     "text": [
      "             precision    recall  f1-score   support\n",
      "\n",
      "          0       0.28      0.79      0.41       428\n",
      "          1       0.97      0.75      0.85      3572\n",
      "\n",
      "avg / total       0.89      0.76      0.80      4000\n",
      "\n"
     ]
    }
   ],
   "source": [
    "print(classification_report(y_ts_rbf, pred))"
   ]
  },
  {
   "cell_type": "code",
   "execution_count": 91,
   "metadata": {},
   "outputs": [
    {
     "data": {
      "image/png": "[encoded data removed]",
      "text/plain": [
       "<Figure size 432x288 with 1 Axes>"
      ]
     },
     "metadata": {},
     "output_type": "display_data"
    }
   ],
   "source": [
    "from sklearn.metrics import roc_curve, auc\n",
    "\n",
    "train_fpr, train_tpr, thresholds = roc_curve(y_train_rbf, model.predict_proba(train_avgw2v_rbf)[:,1])\n",
    "test_fpr, test_tpr, thresholds = roc_curve(y_ts_rbf, model.predict_proba(test_avgw2v_rbf)[:,1])\n",
    "\n",
    "plt.plot(train_fpr, train_tpr, label=\"train AUC =\"+str(auc(train_fpr, train_tpr)))\n",
    "plt.plot(test_fpr, test_tpr, label=\"test AUC =\"+str(auc(test_fpr, test_tpr)))\n",
    "plt.legend()\n",
    "plt.xlabel(\"C: hyperparameter\")\n",
    "plt.ylabel(\"AUC\")\n",
    "plt.title(\"ROC_Curve PLOT\")\n",
    "plt.show()\n",
    "\n",
    "\n"
   ]
  },
  {
   "cell_type": "markdown",
   "metadata": {},
   "source": [
    "### [5.2.4]  Applying RBF SVM on TFIDF W2V,<font color='red'> SET 4</font>"
   ]
  },
  {
   "cell_type": "code",
   "execution_count": 92,
   "metadata": {},
   "outputs": [
    {
     "name": "stdout",
     "output_type": "stream",
     "text": [
      "Best C is:- 10000.0\n"
     ]
    },
    {
     "data": {
      "image/png": "[encoded data removed]",
      "text/plain": [
       "<Figure size 432x288 with 1 Axes>"
      ]
     },
     "metadata": {},
     "output_type": "display_data"
    }
   ],
   "source": [
    "# Please write all the code with proper documentation\n",
    "# Linear kernel svm for L1 penalty\n",
    "from sklearn.calibration import CalibratedClassifierCV\n",
    "from sklearn.linear_model import SGDClassifier\n",
    "from sklearn.metrics import roc_auc_score\n",
    "\n",
    "\n",
    "from sklearn.svm import SVC\n",
    "alpha_values = np.arange(10)\n",
    " \n",
    "acc = np.empty(len(alpha_values))\n",
    "error = np.empty(len(alpha_values))\n",
    "C = np.array([0.0001,0.001,0.01,0.1,1,10,100,500,1000,10000])\n",
    "\n",
    "cv_scores = []\n",
    "tr_scores = []\n",
    "i = 0\n",
    "for alpha in C:\n",
    "    clf = SVC(C = alpha, kernel='rbf',probability=True,class_weight = 'balanced')\n",
    "    clf.fit(tfidf_sent_vectors_rbf, y_train_rbf)\n",
    "    scores = roc_auc_score(y_true=np.array(y_cv_rbf), y_score=clf.predict_proba(tfidf_sent_vectors_cv_rbf)[:,1])\n",
    "    cv_scores.append(scores)\n",
    "    scores = roc_auc_score(y_true=np.array(y_train_rbf), y_score=clf.predict_proba(tfidf_sent_vectors_rbf)[:,1])\n",
    "    tr_scores.append(scores)\n",
    "    i += 1\n",
    "\n",
    "d = max(cv_scores)\n",
    "\n",
    "i = np.where(cv_scores == d)\n",
    "\n",
    "i = i[0][0]\n",
    "best_alpha = float(C[i])\n",
    "print(\"Best C is:-\",best_alpha)     \n",
    "    \n",
    "    \n",
    "C = np.log(C)    \n",
    "    \n",
    "\n",
    "plt.plot(C, tr_scores, label='Train AUC')\n",
    "plt.plot(C, cv_scores, label='CV AUC')\n",
    "plt.legend()\n",
    "plt.xlabel(\"No of C\")\n",
    "plt.ylabel(\"AUC\")\n",
    "plt.title(\"Performance PLOT\")\n",
    "plt.show()"
   ]
  },
  {
   "cell_type": "code",
   "execution_count": 93,
   "metadata": {},
   "outputs": [
    {
     "name": "stdout",
     "output_type": "stream",
     "text": [
      "\n",
      "The AUCScore of SVM of Best C = 10000.000000 is 82.056016%\n"
     ]
    }
   ],
   "source": [
    "# svm RBF with  best C for tfidf avgw2v\n",
    "model = SVC(C = best_alpha,kernel='rbf',probability=True,class_weight = 'balanced')\n",
    "model.fit(tfidf_sent_vectors_rbf,y_train_rbf)\n",
    "pred = model.predict(tfidf_sent_vectors_ts_rbf)\n",
    "    \n",
    "    # evaluate CV accuracy\n",
    "auc_score_tfidf_we_rbf = roc_auc_score(y_true=np.array(y_ts_rbf), y_score=model.predict_proba(tfidf_sent_vectors_ts_rbf)[:,1])*100\n",
    "auc_score_tfidf_we_alpha_rbf = best_alpha\n",
    "print('\\nThe AUCScore of SVM of Best C = %f is %f%%' % (best_alpha, auc_score_tfidf_we_rbf))    "
   ]
  },
  {
   "cell_type": "code",
   "execution_count": 94,
   "metadata": {},
   "outputs": [
    {
     "data": {
      "text/plain": [
       "<matplotlib.axes._subplots.AxesSubplot at 0x1f2c5aaa20>"
      ]
     },
     "execution_count": 94,
     "metadata": {},
     "output_type": "execute_result"
    },
    {
     "data": {
      "image/png": "[encoded data removed]",
      "text/plain": [
       "<Figure size 432x288 with 2 Axes>"
      ]
     },
     "metadata": {},
     "output_type": "display_data"
    }
   ],
   "source": [
    "import scikitplot.metrics as skplt\n",
    "skplt.plot_confusion_matrix(y_ts_rbf,pred)"
   ]
  },
  {
   "cell_type": "markdown",
   "metadata": {},
   "source": [
    "False Positive rate --> when it is actually -ve, how often does it predicted +ve = fp/actual-ve = 98/428 = .22"
   ]
  },
  {
   "cell_type": "code",
   "execution_count": 199,
   "metadata": {},
   "outputs": [],
   "source": [
    "# FPR for tfidf_we\n",
    "tfidf_we_rbf_FPR = .22"
   ]
  },
  {
   "cell_type": "code",
   "execution_count": 95,
   "metadata": {},
   "outputs": [
    {
     "name": "stdout",
     "output_type": "stream",
     "text": [
      "             precision    recall  f1-score   support\n",
      "\n",
      "          0       0.26      0.77      0.39       428\n",
      "          1       0.96      0.74      0.84      3572\n",
      "\n",
      "avg / total       0.89      0.74      0.79      4000\n",
      "\n"
     ]
    }
   ],
   "source": [
    "print(classification_report(y_ts_rbf, pred))"
   ]
  },
  {
   "cell_type": "code",
   "execution_count": 96,
   "metadata": {},
   "outputs": [
    {
     "data": {
      "image/png": "[encoded data removed]",
      "text/plain": [
       "<Figure size 432x288 with 1 Axes>"
      ]
     },
     "metadata": {},
     "output_type": "display_data"
    }
   ],
   "source": [
    "from sklearn.metrics import roc_curve, auc\n",
    "\n",
    "train_fpr, train_tpr, thresholds = roc_curve(y_train_rbf, model.predict_proba(tfidf_sent_vectors_rbf)[:,1])\n",
    "test_fpr, test_tpr, thresholds = roc_curve(y_ts_rbf, model.predict_proba(tfidf_sent_vectors_ts_rbf)[:,1])\n",
    "\n",
    "plt.plot(train_fpr, train_tpr, label=\"train AUC =\"+str(auc(train_fpr, train_tpr)))\n",
    "plt.plot(test_fpr, test_tpr, label=\"test AUC =\"+str(auc(test_fpr, test_tpr)))\n",
    "plt.legend()\n",
    "plt.xlabel(\"C: hyperparameter\")\n",
    "plt.ylabel(\"AUC\")\n",
    "plt.title(\"ROC_Curve PLOT\")\n",
    "plt.show()\n",
    "\n",
    "\n"
   ]
  },
  {
   "cell_type": "markdown",
   "metadata": {},
   "source": [
    "# [6] Conclusions"
   ]
  },
  {
   "cell_type": "code",
   "execution_count": 208,
   "metadata": {},
   "outputs": [
    {
     "name": "stdout",
     "output_type": "stream",
     "text": [
      "+------------+------------+---------+----------------+-------------------+------+\n",
      "|    SVM     | Vectorizer | penalty | hyperparameter |   roc_auc_score   | FPR  |\n",
      "+------------+------------+---------+----------------+-------------------+------+\n",
      "| Linear SVM |    BOW     |    L1   |     0.0001     | 93.24373991594442 | 0.14 |\n",
      "| Linear SVM |    BOW     |    L2   |     0.0001     | 94.25636088871224 | 0.12 |\n",
      "| Linear SVM |   TF-IDF   |    L1   |     0.0001     | 93.42592580892146 | 0.14 |\n",
      "| Linear SVM |   TF-IDF   |    L2   |     0.0001     |  94.9925117361319 | 0.12 |\n",
      "| Linear SVM |  AVG -W2V  |    L1   |     0.0001     | 89.44165018658913 | 0.27 |\n",
      "| Linear SVM |  AVG -W2V  |    L2   |     0.0001     | 89.33678807070227 | 0.17 |\n",
      "| Linear SVM | TFIDF-W2V  |    L1   |     0.0001     | 86.66385753860875 | 0.13 |\n",
      "| Linear SVM | TFIDF-W2V  |    L2   |     0.0001     | 86.68417700034061 | 0.23 |\n",
      "|  RBF SVM   |    BOW     |    NA   |     100.0      |  87.8841861937604 | 0.2  |\n",
      "|  RBF SVM   |   TFIDF    |    NA   |     100.0      |  87.6782425092359 | 0.22 |\n",
      "|  RBF SVM   |   avgw2v   |    NA   |    10000.0     | 84.54025860535212 | 0.2  |\n",
      "|  RBF SVM   | TFIDF W2V  |    NA   |    10000.0     | 82.05601589726952 | 0.22 |\n",
      "+------------+------------+---------+----------------+-------------------+------+\n"
     ]
    }
   ],
   "source": [
    "# Please compare all your models using Prettytable library\n",
    "\n",
    "from prettytable import PrettyTable\n",
    "x = PrettyTable()\n",
    "x.field_names = [\"SVM\",\"Vectorizer\",\"penalty\",\"hyperparameter\",\"roc_auc_score\",\"FPR\"]\n",
    "x.add_row([\"Linear SVM\",\"BOW\",\"L1\",auc_score_bowT_lambda_l1,auc_score_bowT_l1,bowt_FPR_l1])\n",
    "x.add_row([\"Linear SVM\",\"BOW\",\"L2\",auc_score_bowT_lambda_l2,auc_score_bowT_l2,bowt_FPR_l2])\n",
    "x.add_row([\"Linear SVM\",\"TF-IDF\",\"L1\",auc_score_tfidf_lambda_l1,auc_score_tfidf_l1,tfidf_FPR_l1])\n",
    "x.add_row([\"Linear SVM\",\"TF-IDF\",\"L2\",auc_score_tfidf_lambda_l2,auc_score_tfidf_l2,tfidf_FPR_l2])\n",
    "x.add_row([\"Linear SVM\",\"AVG -W2V\",\"L1\",auc_score_avgw2v_lambda_l1,auc_score_avgw2v_l1,avgw2v_FPR_l1])\n",
    "x.add_row([\"Linear SVM\",\"AVG -W2V\",\"L2\",auc_score_avgw2v_lambda_l2,auc_score_avgw2v_l2,avgw2v_FPR_l2])\n",
    "x.add_row([\"Linear SVM\",\"TFIDF-W2V\",\"L1\",auc_score_sent_vectors_lambda_l1,auc_score_sent_vectors_l1,sent_vectors_FPR_l1])\n",
    "x.add_row([\"Linear SVM\",\"TFIDF-W2V\",\"L2\",auc_score_sent_vectors_lambda_l2,auc_score_sent_vectors_l2,sent_vectors_FPR_l2])\n",
    "x.add_row([\"RBF SVM\",\"BOW\",\"NA\",auc_score_bowt_alpha_rbf,auc_score_bowt_rbf,bowt_rbf_FPR])\n",
    "x.add_row([\"RBF SVM\",\"TFIDF\",\"NA\",auc_score_tfidf_alpha_rbf,auc_score_tfidf_rbf,tfidf_rbf_FPR])\n",
    "x.add_row([\"RBF SVM\",\"avgw2v\",\"NA\",auc_score_avgword2vec_alpha_rbf,auc_score_avgword2vec,avgw2v_rbf_FPR])\n",
    "x.add_row([\"RBF SVM\",\"TFIDF W2V\",\"NA\",auc_score_tfidf_we_alpha_rbf,auc_score_tfidf_we_rbf,tfidf_we_rbf_FPR])\n",
    "\n",
    "\n",
    "\n",
    "print(x)"
   ]
  },
  {
   "cell_type": "markdown",
   "metadata": {},
   "source": [
    "as per the table, we can consider TFIDF with L2 regularizor(Linear SVM) because it has less false positive rate  and more roc_auc_score"
   ]
  },
  {
   "cell_type": "code",
   "execution_count": null,
   "metadata": {},
   "outputs": [],
   "source": []
  }
 ],
 "metadata": {
  "kernelspec": {
   "display_name": "Python 3",
   "language": "python",
   "name": "python3"
  },
  "language_info": {
   "codemirror_mode": {
    "name": "ipython",
    "version": 3
   },
   "file_extension": ".py",
   "mimetype": "text/x-python",
   "name": "python",
   "nbconvert_exporter": "python",
   "pygments_lexer": "ipython3",
   "version": "3.6.5"
  }
 },
 "nbformat": 4,
 "nbformat_minor": 2
}
